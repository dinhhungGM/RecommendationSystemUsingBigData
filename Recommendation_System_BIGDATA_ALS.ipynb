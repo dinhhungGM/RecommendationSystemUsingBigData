{
 "cells": [
  {
   "cell_type": "markdown",
   "metadata": {
    "colab_type": "text",
    "id": "view-in-github"
   },
   "source": [
    "<a href=\"https://colab.research.google.com/github/dinhhungGM/RecommendationSystemUsingBigData/blob/main/Recommendation_System_BIGDATA_1.ipynb\" target=\"_parent\"><img src=\"https://colab.research.google.com/assets/colab-badge.svg\" alt=\"Open In Colab\"/></a>"
   ]
  },
  {
   "cell_type": "markdown",
   "metadata": {
    "id": "yvneHzZxpi_-"
   },
   "source": [
    "# Approach with Spark"
   ]
  },
  {
   "cell_type": "code",
   "execution_count": 7,
   "metadata": {
    "id": "22wTuJKUCyYG"
   },
   "outputs": [],
   "source": [
    "import findspark\n",
    "findspark.init()"
   ]
  },
  {
   "cell_type": "code",
   "execution_count": 8,
   "metadata": {
    "id": "NLueItI_C7RT"
   },
   "outputs": [],
   "source": [
    "from pyspark.sql.functions import col, explode\n",
    "from pyspark import SparkContext\n",
    "from pyspark.sql import SparkSession\n",
    "from pyspark.ml.evaluation import RegressionEvaluator\n",
    "from pyspark.ml.recommendation import ALS\n",
    "from pyspark.ml.tuning import ParamGridBuilder, CrossValidator\n",
    "# sc = SparkContext\n",
    "# sc.setCheckpointDir('checkpoint')\n",
    "spark = SparkSession.builder.appName('Group 7 - Recommendation System') \\\n",
    ".config('spark.sql.execution.arrow.pyspark.enabled', True)\\\n",
    ".config('spark.driver.memory','8G')\\\n",
    ".config('spark.ui.showConsoleProgress', True)\\\n",
    ".config('spark.sql.repl.eagerEval.enabled', True)\\\n",
    ".getOrCreate()"
   ]
  },
  {
   "cell_type": "code",
   "execution_count": 9,
   "metadata": {
    "id": "-D1AzOMfD8j_"
   },
   "outputs": [
    {
     "name": "stderr",
     "output_type": "stream",
     "text": [
      "                                                                                \r"
     ]
    }
   ],
   "source": [
    "# Data is downloaded from https://www.kaggle.com/bandikarthik/movie-recommendation-system\n",
    "movies = spark.read.csv('../MovieLens/movie.csv', header=True, inferSchema=True)\n",
    "ratings = spark.read.csv('../MovieLens/rating.csv',  header=True, inferSchema=True)"
   ]
  },
  {
   "cell_type": "code",
   "execution_count": 4,
   "metadata": {
    "colab": {
     "base_uri": "https://localhost:8080/"
    },
    "id": "eHdgQLPhEZTx",
    "outputId": "1be23e6f-c77e-42c9-e977-529c4dee7ec5"
   },
   "outputs": [
    {
     "name": "stdout",
     "output_type": "stream",
     "text": [
      "+-------+--------------------+--------------------+\n",
      "|movieId|               title|              genres|\n",
      "+-------+--------------------+--------------------+\n",
      "|      1|    Toy Story (1995)|Adventure|Animati...|\n",
      "|      2|      Jumanji (1995)|Adventure|Childre...|\n",
      "|      3|Grumpier Old Men ...|      Comedy|Romance|\n",
      "|      4|Waiting to Exhale...|Comedy|Drama|Romance|\n",
      "|      5|Father of the Bri...|              Comedy|\n",
      "+-------+--------------------+--------------------+\n",
      "\n"
     ]
    }
   ],
   "source": [
    "movies.limit(5).show()"
   ]
  },
  {
   "cell_type": "code",
   "execution_count": 4,
   "metadata": {},
   "outputs": [
    {
     "name": "stdout",
     "output_type": "stream",
     "text": [
      "+------+-------+------+-------------------+\n",
      "|userId|movieId|rating|          timestamp|\n",
      "+------+-------+------+-------------------+\n",
      "|     1|      2|   3.5|2005-04-02 23:53:47|\n",
      "|     1|     29|   3.5|2005-04-02 23:31:16|\n",
      "|     1|     32|   3.5|2005-04-02 23:33:39|\n",
      "|     1|     47|   3.5|2005-04-02 23:32:07|\n",
      "|     1|     50|   3.5|2005-04-02 23:29:40|\n",
      "+------+-------+------+-------------------+\n",
      "\n"
     ]
    }
   ],
   "source": [
    "ratings.limit(5).show()"
   ]
  },
  {
   "cell_type": "code",
   "execution_count": 6,
   "metadata": {},
   "outputs": [
    {
     "name": "stderr",
     "output_type": "stream",
     "text": [
      "                                                                                \r"
     ]
    },
    {
     "name": "stdout",
     "output_type": "stream",
     "text": [
      "Row(max(rating)=5.0)\n"
     ]
    },
    {
     "name": "stderr",
     "output_type": "stream",
     "text": [
      "[Stage 12:============================>                            (6 + 6) / 12]\r"
     ]
    },
    {
     "name": "stdout",
     "output_type": "stream",
     "text": [
      "Row(min(rating)=0.5)\n"
     ]
    },
    {
     "name": "stderr",
     "output_type": "stream",
     "text": [
      "                                                                                \r"
     ]
    }
   ],
   "source": [
    "print(ratings.agg({\"rating\": \"max\"}).collect()[0])\n",
    "print(ratings.agg({\"rating\": \"min\"}).collect()[0])"
   ]
  },
  {
   "cell_type": "markdown",
   "metadata": {
    "id": "mzz1Wa3dGRgF"
   },
   "source": [
    "# Implementing ALS(Alternating Least Square) algorithm in Spark"
   ]
  },
  {
   "cell_type": "code",
   "execution_count": 15,
   "metadata": {
    "id": "lq2s6QbVGAAY"
   },
   "outputs": [],
   "source": [
    "# Create test and train set\n",
    "(train, test) = ratings.randomSplit([0.8, 0.2], seed = 1234)\n",
    "\n",
    "# Create ALS model\n",
    "als = ALS(userCol=\"userId\", itemCol=\"movieId\", ratingCol=\"rating\", nonnegative = True, implicitPrefs = False\n",
    "          , coldStartStrategy=\"drop\")\n"
   ]
  },
  {
   "cell_type": "code",
   "execution_count": 12,
   "metadata": {
    "colab": {
     "base_uri": "https://localhost:8080/"
    },
    "id": "p2kz5AEJG7IE",
    "outputId": "e5e0187b-1570-4db0-c648-6b0c5ce22d7d"
   },
   "outputs": [
    {
     "name": "stdout",
     "output_type": "stream",
     "text": [
      "Num models to be tested:  1\n"
     ]
    }
   ],
   "source": [
    "# Add hyperparameters and their respective values to param_grid\n",
    "param_grid = ParamGridBuilder() \\\n",
    "            .addGrid(als.rank, [100]) \\\n",
    "            .addGrid(als.regParam, [.15]) \\\n",
    "            .build()\n",
    "            #             .addGrid(als.maxIter, [5, 50, 100, 200]) \\\n",
    "           \n",
    "# Define evaluator as RMSE and print length of evaluator\n",
    "evaluator = RegressionEvaluator(metricName=\"rmse\", labelCol=\"rating\", predictionCol=\"prediction\") \n",
    "print (\"Num models to be tested: \", len(param_grid))"
   ]
  },
  {
   "cell_type": "code",
   "execution_count": 16,
   "metadata": {},
   "outputs": [],
   "source": [
    "# Build cross validation using CrossValidator\n",
    "# numFolds=3 means the CrossValidator will create 3 different models.\n",
    "cv = CrossValidator(estimator=als, estimatorParamMaps=param_grid, evaluator=evaluator, numFolds=3)"
   ]
  },
  {
   "cell_type": "code",
   "execution_count": 17,
   "metadata": {},
   "outputs": [
    {
     "name": "stderr",
     "output_type": "stream",
     "text": [
      "21/07/16 22:20:52 WARN CacheManager: Asked to cache already cached data.\n",
      "21/07/16 22:20:52 WARN CacheManager: Asked to cache already cached data.\n",
      "21/07/16 22:21:14 WARN BLAS: Failed to load implementation from: com.github.fommil.netlib.NativeSystemBLAS\n",
      "21/07/16 22:21:14 WARN BLAS: Failed to load implementation from: com.github.fommil.netlib.NativeRefBLAS\n",
      "                                                                                \r"
     ]
    }
   ],
   "source": [
    "# We fit the cross validator to the 'train' dataset\n",
    "model = cv.fit(train)\n",
    "\n",
    "# We Extract best model from the cv model above\n",
    "best_model = model.bestModel"
   ]
  },
  {
   "cell_type": "code",
   "execution_count": 19,
   "metadata": {
    "colab": {
     "base_uri": "https://localhost:8080/"
    },
    "id": "5UVdWQHPHP3e",
    "outputId": "129ea49d-7924-4341-a13a-03a0d9b7a060"
   },
   "outputs": [
    {
     "name": "stderr",
     "output_type": "stream",
     "text": [
      "[Stage 344:====================================================>(199 + 1) / 200]\r"
     ]
    },
    {
     "name": "stdout",
     "output_type": "stream",
     "text": [
      "Root mean square error: 0.8143051599489648\n",
      "====BEST MODEL ====\n",
      "BEST RANK: 10\n",
      "maxIter: 10\n",
      "regParam: 0.1\n"
     ]
    },
    {
     "name": "stderr",
     "output_type": "stream",
     "text": [
      "                                                                                \r"
     ]
    }
   ],
   "source": [
    "predictions = best_model.transform(test)\n",
    "rmse = evaluator.evaluate(predictions)\n",
    "print(f\"Root mean square error: {rmse}\")\n",
    "print(\"====BEST MODEL ====\")\n",
    "print(f\"BEST RANK: {best_model.rank}\")\n",
    "print(f\"maxIter: {best_model._java_obj.parent().getMaxIter()}\")\n",
    "print(f\"regParam: {best_model._java_obj.parent().getRegParam()}\")"
   ]
  },
  {
   "cell_type": "code",
   "execution_count": 20,
   "metadata": {
    "colab": {
     "base_uri": "https://localhost:8080/",
     "height": 507
    },
    "id": "3zIcqurUf567",
    "outputId": "b9da3979-6a7c-4af1-8e22-093b89f85cc6"
   },
   "outputs": [
    {
     "name": "stderr",
     "output_type": "stream",
     "text": [
      "                                                                                \r"
     ]
    },
    {
     "data": {
      "text/plain": [
       "Row(max(prediction)=6.4292802810668945)"
      ]
     },
     "execution_count": 20,
     "metadata": {},
     "output_type": "execute_result"
    }
   ],
   "source": [
    "predictions.agg({\"prediction\": \"max\"}).collect()[0]"
   ]
  },
  {
   "cell_type": "markdown",
   "metadata": {
    "id": "D60NGNliHeGs"
   },
   "source": [
    "# Movie Recommendation"
   ]
  },
  {
   "cell_type": "code",
   "execution_count": 21,
   "metadata": {
    "colab": {
     "base_uri": "https://localhost:8080/"
    },
    "id": "tXmHNXDtHbl5",
    "outputId": "a95438d4-bc46-46e1-bf74-b4bfa84989a0"
   },
   "outputs": [
    {
     "name": "stderr",
     "output_type": "stream",
     "text": [
      "[Stage 399:========================================>           (154 + 12) / 200]\r"
     ]
    },
    {
     "name": "stdout",
     "output_type": "stream",
     "text": [
      "+------+--------------------+\n",
      "|userId|     recommendations|\n",
      "+------+--------------------+\n",
      "|   148|[{120821, 6.22960...|\n",
      "|   463|[{3226, 6.3365936...|\n",
      "|   471|[{3226, 5.771446}...|\n",
      "|   496|[{121029, 6.44937...|\n",
      "|   833|[{3226, 6.089091}...|\n",
      "|  1088|[{3226, 5.434558}...|\n",
      "|  1238|[{3226, 5.8392224...|\n",
      "|  1342|[{121029, 6.59056...|\n",
      "|  1580|[{120821, 5.34024...|\n",
      "|  1591|[{3226, 6.2007923...|\n",
      "+------+--------------------+\n",
      "\n"
     ]
    },
    {
     "name": "stderr",
     "output_type": "stream",
     "text": [
      "                                                                                \r"
     ]
    }
   ],
   "source": [
    "# Generate n Recommendations for all users\n",
    "recommendations = best_model.recommendForAllUsers(10)\n",
    "recommendations.limit(10).show()"
   ]
  },
  {
   "cell_type": "markdown",
   "metadata": {
    "id": "A4XY-d8CJYNx"
   },
   "source": [
    "### 7th User’s Actual Preference:"
   ]
  },
  {
   "cell_type": "code",
   "execution_count": 11,
   "metadata": {
    "colab": {
     "base_uri": "https://localhost:8080/"
    },
    "id": "zTh0G83FJG3W",
    "outputId": "d265eaf4-36aa-4c8f-842e-391d5cf9a922"
   },
   "outputs": [
    {
     "name": "stderr",
     "output_type": "stream",
     "text": [
      "                                                                                \r"
     ]
    },
    {
     "data": {
      "text/html": [
       "<table border='1'>\n",
       "<tr><th>movieId</th><th>userId</th><th>rating</th><th>timestamp</th><th>title</th><th>genres</th></tr>\n",
       "<tr><td>912</td><td>7</td><td>5.0</td><td>2002-01-16 18:09:56</td><td>Casablanca (1942)</td><td>Drama|Romance</td></tr>\n",
       "<tr><td>3179</td><td>7</td><td>5.0</td><td>2002-01-16 19:22:51</td><td>Angela&#x27;s Ashes (1...</td><td>Drama</td></tr>\n",
       "<tr><td>1077</td><td>7</td><td>5.0</td><td>2002-01-16 18:48:18</td><td>Sleeper (1973)</td><td>Comedy|Sci-Fi</td></tr>\n",
       "<tr><td>750</td><td>7</td><td>5.0</td><td>2002-01-16 18:44:19</td><td>Dr. Strangelove o...</td><td>Comedy|War</td></tr>\n",
       "<tr><td>1196</td><td>7</td><td>5.0</td><td>2002-01-16 18:09:32</td><td>Star Wars: Episod...</td><td>Action|Adventure|...</td></tr>\n",
       "<tr><td>587</td><td>7</td><td>5.0</td><td>2002-01-16 19:10:20</td><td>Ghost (1990)</td><td>Comedy|Drama|Fant...</td></tr>\n",
       "<tr><td>1210</td><td>7</td><td>5.0</td><td>2002-01-16 18:10:54</td><td>Star Wars: Episod...</td><td>Action|Adventure|...</td></tr>\n",
       "<tr><td>1721</td><td>7</td><td>5.0</td><td>2002-01-16 19:06:05</td><td>Titanic (1997)</td><td>Drama|Romance</td></tr>\n",
       "<tr><td>2942</td><td>7</td><td>5.0</td><td>2002-01-16 18:38:41</td><td>Flashdance (1983)</td><td>Drama|Romance</td></tr>\n",
       "<tr><td>2028</td><td>7</td><td>5.0</td><td>2002-01-16 18:24:41</td><td>Saving Private Ry...</td><td>Action|Drama|War</td></tr>\n",
       "</table>\n"
      ],
      "text/plain": [
       "+-------+------+------+-------------------+--------------------+--------------------+\n",
       "|movieId|userId|rating|          timestamp|               title|              genres|\n",
       "+-------+------+------+-------------------+--------------------+--------------------+\n",
       "|    912|     7|   5.0|2002-01-16 18:09:56|   Casablanca (1942)|       Drama|Romance|\n",
       "|   3179|     7|   5.0|2002-01-16 19:22:51|Angela's Ashes (1...|               Drama|\n",
       "|   1077|     7|   5.0|2002-01-16 18:48:18|      Sleeper (1973)|       Comedy|Sci-Fi|\n",
       "|    750|     7|   5.0|2002-01-16 18:44:19|Dr. Strangelove o...|          Comedy|War|\n",
       "|   1196|     7|   5.0|2002-01-16 18:09:32|Star Wars: Episod...|Action|Adventure|...|\n",
       "|    587|     7|   5.0|2002-01-16 19:10:20|        Ghost (1990)|Comedy|Drama|Fant...|\n",
       "|   1210|     7|   5.0|2002-01-16 18:10:54|Star Wars: Episod...|Action|Adventure|...|\n",
       "|   1721|     7|   5.0|2002-01-16 19:06:05|      Titanic (1997)|       Drama|Romance|\n",
       "|   2942|     7|   5.0|2002-01-16 18:38:41|   Flashdance (1983)|       Drama|Romance|\n",
       "|   2028|     7|   5.0|2002-01-16 18:24:41|Saving Private Ry...|    Action|Drama|War|\n",
       "+-------+------+------+-------------------+--------------------+--------------------+"
      ]
     },
     "execution_count": 11,
     "metadata": {},
     "output_type": "execute_result"
    }
   ],
   "source": [
    "ratings.join(movies, on='movieId').filter('userId = 7') \\\n",
    ".sort('rating', ascending=False).limit(10)"
   ]
  },
  {
   "cell_type": "markdown",
   "metadata": {
    "id": "-qmZQCsNJ3IN"
   },
   "source": [
    "### 7th User’s ALS Recommentions"
   ]
  },
  {
   "cell_type": "code",
   "execution_count": 23,
   "metadata": {
    "colab": {
     "base_uri": "https://localhost:8080/",
     "height": 1000
    },
    "id": "FvwJ3UA4J55o",
    "outputId": "cd48af8f-9800-4b26-be2d-54edaa6e565b"
   },
   "outputs": [
    {
     "name": "stderr",
     "output_type": "stream",
     "text": [
      "                                                                                \r"
     ]
    },
    {
     "name": "stdout",
     "output_type": "stream",
     "text": [
      "+-------+------+---------+--------------------+--------------------+\n",
      "|movieId|userId|   rating|               title|              genres|\n",
      "+-------+------+---------+--------------------+--------------------+\n",
      "|   3226|     7| 5.637633|Hellhounds on My ...|         Documentary|\n",
      "| 121029|     7| 5.573067|No Distance Left ...|         Documentary|\n",
      "| 120821|     7| 5.295107|The War at Home (...|     Documentary|War|\n",
      "| 129536|     7|5.0036817|Code Name Coq Rou...|  (no genres listed)|\n",
      "| 114070|     7|4.9300246|Good Job:  Storie...|         Documentary|\n",
      "| 128366|     7|4.8328657|Patton Oswalt: Tr...|              Comedy|\n",
      "| 117907|     7| 4.705026|My Brother Tom (2...|               Drama|\n",
      "| 129451|     7| 4.669075|    Ingenious (2009)|Comedy|Drama|Romance|\n",
      "| 112473|     7|4.6646147|Stuart: A Life Ba...|               Drama|\n",
      "| 129243|     7| 4.609404|Afstiros katallil...|              Comedy|\n",
      "+-------+------+---------+--------------------+--------------------+\n",
      "\n"
     ]
    }
   ],
   "source": [
    "recommendations = recommendations.withColumn(\"rec_exp\", explode(\"recommendations\")).select('userId', \n",
    "col(\"rec_exp.movieId\"), col(\"rec_exp.rating\"))\n",
    "recommendations.join(movies, on='movieId').filter('userId = 7').show()"
   ]
  },
  {
   "cell_type": "markdown",
   "metadata": {
    "id": "-iQor4uMpeA8"
   },
   "source": [
    "# Approach with Dask"
   ]
  },
  {
   "cell_type": "markdown",
   "metadata": {
    "id": "YaRd8TWMXyJt"
   },
   "source": [
    "# KNN"
   ]
  },
  {
   "cell_type": "code",
   "execution_count": 29,
   "metadata": {
    "colab": {
     "base_uri": "https://localhost:8080/"
    },
    "id": "k6fVZ9cwjD79",
    "outputId": "5564e567-d1ae-46a3-f7b7-9281ff9a227e"
   },
   "outputs": [
    {
     "name": "stdout",
     "output_type": "stream",
     "text": [
      "/usr/lib/python3/dist-packages/secretstorage/dhcrypto.py:15: CryptographyDeprecationWarning: int_from_bytes is deprecated, use int.from_bytes instead\n",
      "  from cryptography.utils import int_from_bytes\n",
      "/usr/lib/python3/dist-packages/secretstorage/util.py:19: CryptographyDeprecationWarning: int_from_bytes is deprecated, use int.from_bytes instead\n",
      "  from cryptography.utils import int_from_bytes\n",
      "Requirement already satisfied: dask[complete] in /home/zas/.local/lib/python3.8/site-packages (2021.7.0)\n",
      "Requirement already satisfied: toolz>=0.8.2 in /home/zas/.local/lib/python3.8/site-packages (from dask[complete]) (0.11.1)\n",
      "Requirement already satisfied: fsspec>=0.6.0 in /home/zas/.local/lib/python3.8/site-packages (from dask[complete]) (2021.7.0)\n",
      "Requirement already satisfied: pyyaml in /usr/lib/python3/dist-packages (from dask[complete]) (5.3.1)\n",
      "Requirement already satisfied: cloudpickle>=1.1.1 in /home/zas/.local/lib/python3.8/site-packages (from dask[complete]) (1.6.0)\n",
      "Requirement already satisfied: partd>=0.3.10 in /home/zas/.local/lib/python3.8/site-packages (from dask[complete]) (1.2.0)\n",
      "Requirement already satisfied: numpy>=1.16; extra == \"complete\" in /home/zas/.local/lib/python3.8/site-packages (from dask[complete]) (1.19.5)\n",
      "Collecting bokeh!=2.0.0,>=1.0.0; extra == \"complete\"\n",
      "  Downloading bokeh-2.3.3.tar.gz (10.7 MB)\n",
      "\u001b[K     |████████████████████████████████| 10.7 MB 1.5 MB/s eta 0:00:01    |███▊                            | 1.3 MB 195 kB/s eta 0:00:49\n",
      "\u001b[?25hCollecting distributed==2021.07.0; extra == \"complete\"\n",
      "  Downloading distributed-2021.7.0-py3-none-any.whl (1.0 MB)\n",
      "\u001b[K     |████████████████████████████████| 1.0 MB 1.8 MB/s eta 0:00:01\n",
      "\u001b[?25hRequirement already satisfied: pandas>=0.25.0; extra == \"complete\" in /home/zas/.local/lib/python3.8/site-packages (from dask[complete]) (1.3.0)\n",
      "Requirement already satisfied: locket in /home/zas/.local/lib/python3.8/site-packages (from partd>=0.3.10->dask[complete]) (0.2.1)\n",
      "Requirement already satisfied: Jinja2>=2.9 in /usr/local/lib/python3.8/dist-packages (from bokeh!=2.0.0,>=1.0.0; extra == \"complete\"->dask[complete]) (3.0.1)\n",
      "Requirement already satisfied: packaging>=16.8 in /usr/local/lib/python3.8/dist-packages (from bokeh!=2.0.0,>=1.0.0; extra == \"complete\"->dask[complete]) (21.0)\n",
      "Collecting pillow>=7.1.0\n",
      "  Downloading Pillow-8.3.1-cp38-cp38-manylinux_2_5_x86_64.manylinux1_x86_64.whl (3.0 MB)\n",
      "\u001b[K     |████████████████████████████████| 3.0 MB 663 kB/s eta 0:00:01\n",
      "\u001b[?25hRequirement already satisfied: python-dateutil>=2.1 in /usr/lib/python3/dist-packages (from bokeh!=2.0.0,>=1.0.0; extra == \"complete\"->dask[complete]) (2.7.3)\n",
      "Requirement already satisfied: tornado>=5.1 in /usr/local/lib/python3.8/dist-packages (from bokeh!=2.0.0,>=1.0.0; extra == \"complete\"->dask[complete]) (6.1)\n",
      "Requirement already satisfied: typing_extensions>=3.7.4 in /home/zas/.local/lib/python3.8/site-packages (from bokeh!=2.0.0,>=1.0.0; extra == \"complete\"->dask[complete]) (3.7.4.3)\n",
      "Requirement already satisfied: click>=6.6 in /usr/lib/python3/dist-packages (from distributed==2021.07.0; extra == \"complete\"->dask[complete]) (7.0)\n",
      "Collecting psutil>=5.0\n",
      "  Downloading psutil-5.8.0-cp38-cp38-manylinux2010_x86_64.whl (296 kB)\n",
      "\u001b[K     |████████████████████████████████| 296 kB 649 kB/s eta 0:00:01\n",
      "\u001b[?25hRequirement already satisfied: setuptools in /usr/lib/python3/dist-packages (from distributed==2021.07.0; extra == \"complete\"->dask[complete]) (45.2.0)\n",
      "Collecting sortedcontainers!=2.0.0,!=2.0.1\n",
      "  Downloading sortedcontainers-2.4.0-py2.py3-none-any.whl (29 kB)\n",
      "Collecting tblib>=1.6.0\n",
      "  Downloading tblib-1.7.0-py2.py3-none-any.whl (12 kB)\n",
      "Collecting zict>=0.1.3\n",
      "  Downloading zict-2.0.0-py3-none-any.whl (10 kB)\n",
      "Collecting msgpack>=0.6.0\n",
      "  Downloading msgpack-1.0.2-cp38-cp38-manylinux1_x86_64.whl (302 kB)\n",
      "\u001b[K     |████████████████████████████████| 302 kB 629 kB/s eta 0:00:01\n",
      "\u001b[?25hRequirement already satisfied: pytz>=2017.3 in /usr/lib/python3/dist-packages (from pandas>=0.25.0; extra == \"complete\"->dask[complete]) (2019.3)\n",
      "Requirement already satisfied: MarkupSafe>=2.0 in /usr/local/lib/python3.8/dist-packages (from Jinja2>=2.9->bokeh!=2.0.0,>=1.0.0; extra == \"complete\"->dask[complete]) (2.0.1)\n",
      "Requirement already satisfied: pyparsing>=2.0.2 in /usr/local/lib/python3.8/dist-packages (from packaging>=16.8->bokeh!=2.0.0,>=1.0.0; extra == \"complete\"->dask[complete]) (2.4.7)\n",
      "Collecting heapdict\n",
      "  Downloading HeapDict-1.0.1-py3-none-any.whl (3.9 kB)\n",
      "Building wheels for collected packages: bokeh\n",
      "  Building wheel for bokeh (setup.py) ... \u001b[?25ldone\n",
      "\u001b[?25h  Created wheel for bokeh: filename=bokeh-2.3.3-py3-none-any.whl size=11342781 sha256=d721997f0bf064be745007a2233453e851943b6c5ef91150b3fd2927557777a8\n",
      "  Stored in directory: /home/zas/.cache/pip/wheels/3d/1f/d4/a4ed6f21d242a5e2f4659b0c94d5b590aaf900773103406a97\n",
      "Successfully built bokeh\n",
      "Installing collected packages: pillow, bokeh, psutil, sortedcontainers, tblib, heapdict, zict, msgpack, distributed\n",
      "Successfully installed bokeh-2.3.3 distributed-2021.7.0 heapdict-1.0.1 msgpack-1.0.2 pillow-8.3.1 psutil-5.8.0 sortedcontainers-2.4.0 tblib-1.7.0 zict-2.0.0\n"
     ]
    }
   ],
   "source": [
    "!pip install \"dask[complete]\""
   ]
  },
  {
   "cell_type": "code",
   "execution_count": 4,
   "metadata": {
    "id": "5m_LJJvhic3P"
   },
   "outputs": [],
   "source": [
    "import joblib\n",
    "from scipy.sparse import csr_matrix\n",
    "from sklearn.neighbors import NearestNeighbors\n",
    "import numpy as np"
   ]
  },
  {
   "cell_type": "code",
   "execution_count": null,
   "metadata": {
    "colab": {
     "base_uri": "https://localhost:8080/"
    },
    "id": "K67zWo9bwnSq",
    "outputId": "6cb7ca25-1601-4a54-b8c0-6038e78a18ea"
   },
   "outputs": [],
   "source": [
    "!python -m pip install dask distributed --upgrade"
   ]
  },
  {
   "cell_type": "code",
   "execution_count": null,
   "metadata": {
    "id": "L8lD8hN5jIut"
   },
   "outputs": [],
   "source": [
    "from dask.distributed import Client\n",
    "client = Client(n_workers=4, threads_per_worker=4, processes=False, memory_limit='8GB')\n",
    "\n",
    "# If we doesn't convert userId to category then will met errors\n",
    "\n",
    "model_knn= NearestNeighbors(metric='cosine', algorithm='brute', n_neighbors=20)\n",
    "movies_users= ratings.limit(1000000).toPandas().pivot(index='movieId', columns='userId',values='rating').fillna(0)\n",
    "    "
   ]
  },
  {
   "cell_type": "code",
   "execution_count": null,
   "metadata": {
    "id": "Tf3dtGaRPRGb"
   },
   "outputs": [],
   "source": [
    "import dask\n",
    "import dask.dataframe as dd\n",
    "ratings_dask_df = dd.read_csv('./drive/MyDrive/BigDataProject/ratings.csv')"
   ]
  },
  {
   "cell_type": "code",
   "execution_count": null,
   "metadata": {
    "colab": {
     "base_uri": "https://localhost:8080/",
     "height": 424
    },
    "id": "CXVTkBORPuep",
    "outputId": "65b1a585-d295-4608-f795-3cc1a9117ed1"
   },
   "outputs": [],
   "source": [
    "ratings_dask_df.head()"
   ]
  },
  {
   "cell_type": "code",
   "execution_count": null,
   "metadata": {
    "id": "huENAvcnpwJ9"
   },
   "outputs": [],
   "source": [
    "with joblib.parallel_backend('dask'):\n",
    "    mat_movies_users=csr_matrix(movies_users.values)\n",
    "    model_knn.fit(mat_movies_users)"
   ]
  },
  {
   "cell_type": "code",
   "execution_count": null,
   "metadata": {
    "id": "y-g5SCgsj1tU"
   },
   "outputs": [],
   "source": [
    "!pip install fuzzywuzzy\n",
    "from fuzzywuzzy import process\n",
    "def recommender(movie_name, data, model, n_recommendations ):\n",
    "    df_movies = movies.toPandas()\n",
    "    model.fit(data)\n",
    "    idx=process.extractOne(movie_name, df_movies['title'])[2]\n",
    "    print('Movie Selected: ', df_movies['title'][idx], 'Index: ',idx)\n",
    "    print('Searching for recommendations.....')\n",
    "    distances, indices=model.kneighbors(data[idx], n_neighbors=n_recommendations)\n",
    "    for i in indices:\n",
    "        print(df_movies['title'][i].where(i!=idx))\n",
    "    \n",
    "recommender('Toy Story (1995)', mat_movies_users, model_knn,20)"
   ]
  },
  {
   "cell_type": "markdown",
   "metadata": {
    "id": "wIWczmvNJ602"
   },
   "source": [
    "# SVD"
   ]
  },
  {
   "cell_type": "markdown",
   "metadata": {
    "id": "XwXu9_B9ryqm"
   },
   "source": [
    "## Basend on funk-svd is a Python 3 library implementing a fast version of the famous SVD algorithm popularized by Simon Funk during the Neflix Prize contest."
   ]
  },
  {
   "cell_type": "code",
   "execution_count": 24,
   "metadata": {
    "id": "Sbv_zIhWrsCL"
   },
   "outputs": [
    {
     "name": "stdout",
     "output_type": "stream",
     "text": [
      "/usr/lib/python3/dist-packages/secretstorage/dhcrypto.py:15: CryptographyDeprecationWarning: int_from_bytes is deprecated, use int.from_bytes instead\n",
      "  from cryptography.utils import int_from_bytes\n",
      "/usr/lib/python3/dist-packages/secretstorage/util.py:19: CryptographyDeprecationWarning: int_from_bytes is deprecated, use int.from_bytes instead\n",
      "  from cryptography.utils import int_from_bytes\n",
      "Collecting git+https://github.com/gbolmier/funk-svd\n",
      "  Cloning https://github.com/gbolmier/funk-svd to /tmp/pip-req-build-nu5nkxsc\n",
      "  Running command git clone -q https://github.com/gbolmier/funk-svd /tmp/pip-req-build-nu5nkxsc\n",
      "Requirement already satisfied: numba>=0.38.0 in /home/zas/.local/lib/python3.8/site-packages (from funk-svd==0.0.1.dev1) (0.53.1)\n",
      "Requirement already satisfied: numpy>=1.14.3 in /home/zas/.local/lib/python3.8/site-packages (from funk-svd==0.0.1.dev1) (1.19.5)\n",
      "Requirement already satisfied: pandas>=0.23.0 in /home/zas/.local/lib/python3.8/site-packages (from funk-svd==0.0.1.dev1) (1.3.0)\n",
      "Requirement already satisfied: setuptools in /usr/lib/python3/dist-packages (from numba>=0.38.0->funk-svd==0.0.1.dev1) (45.2.0)\n",
      "Requirement already satisfied: llvmlite<0.37,>=0.36.0rc1 in /home/zas/.local/lib/python3.8/site-packages (from numba>=0.38.0->funk-svd==0.0.1.dev1) (0.36.0)\n",
      "Requirement already satisfied: pytz>=2017.3 in /usr/lib/python3/dist-packages (from pandas>=0.23.0->funk-svd==0.0.1.dev1) (2019.3)\n",
      "Requirement already satisfied: python-dateutil>=2.7.3 in /usr/lib/python3/dist-packages (from pandas>=0.23.0->funk-svd==0.0.1.dev1) (2.7.3)\n",
      "Building wheels for collected packages: funk-svd\n",
      "  Building wheel for funk-svd (setup.py) ... \u001b[?25ldone\n",
      "\u001b[?25h  Created wheel for funk-svd: filename=funk_svd-0.0.1.dev1-py3-none-any.whl size=9047 sha256=331a6b2a1409b96f8b99d74555e59c19408c428fb9b203629e0c365a5c65e95c\n",
      "  Stored in directory: /tmp/pip-ephem-wheel-cache-40ftelzt/wheels/f8/93/18/db4114b3fafc2eb9a319db1e3b3c3465db51d1fdc1d4f2e769\n",
      "Successfully built funk-svd\n",
      "Installing collected packages: funk-svd\n",
      "Successfully installed funk-svd-0.0.1.dev1\n"
     ]
    }
   ],
   "source": [
    "!pip install git+https://github.com/gbolmier/funk-svd"
   ]
  },
  {
   "cell_type": "code",
   "execution_count": 25,
   "metadata": {
    "id": "52ZdsYz2rICL"
   },
   "outputs": [],
   "source": [
    "import pandas as pd\n",
    "from funk_svd import SVD"
   ]
  },
  {
   "cell_type": "code",
   "execution_count": 27,
   "metadata": {
    "id": "OpYRglFRhfGY"
   },
   "outputs": [
    {
     "name": "stderr",
     "output_type": "stream",
     "text": [
      "                                                                                \r"
     ]
    }
   ],
   "source": [
    "movies_df = movies.toPandas()\n",
    "rating_df = ratings.toPandas()"
   ]
  },
  {
   "cell_type": "code",
   "execution_count": null,
   "metadata": {
    "id": "QmCdvHCsreCQ"
   },
   "outputs": [],
   "source": [
    "movies_df.head(5)"
   ]
  },
  {
   "cell_type": "code",
   "execution_count": 28,
   "metadata": {
    "id": "fY4YuRVn0O-C"
   },
   "outputs": [
    {
     "data": {
      "text/html": [
       "<div>\n",
       "<style scoped>\n",
       "    .dataframe tbody tr th:only-of-type {\n",
       "        vertical-align: middle;\n",
       "    }\n",
       "\n",
       "    .dataframe tbody tr th {\n",
       "        vertical-align: top;\n",
       "    }\n",
       "\n",
       "    .dataframe thead th {\n",
       "        text-align: right;\n",
       "    }\n",
       "</style>\n",
       "<table border=\"1\" class=\"dataframe\">\n",
       "  <thead>\n",
       "    <tr style=\"text-align: right;\">\n",
       "      <th></th>\n",
       "      <th>u_id</th>\n",
       "      <th>i_id</th>\n",
       "      <th>rating</th>\n",
       "      <th>timestamps</th>\n",
       "    </tr>\n",
       "  </thead>\n",
       "  <tbody>\n",
       "    <tr>\n",
       "      <th>0</th>\n",
       "      <td>1</td>\n",
       "      <td>2</td>\n",
       "      <td>3.5</td>\n",
       "      <td>2005-04-02 23:53:47</td>\n",
       "    </tr>\n",
       "    <tr>\n",
       "      <th>1</th>\n",
       "      <td>1</td>\n",
       "      <td>29</td>\n",
       "      <td>3.5</td>\n",
       "      <td>2005-04-02 23:31:16</td>\n",
       "    </tr>\n",
       "    <tr>\n",
       "      <th>2</th>\n",
       "      <td>1</td>\n",
       "      <td>32</td>\n",
       "      <td>3.5</td>\n",
       "      <td>2005-04-02 23:33:39</td>\n",
       "    </tr>\n",
       "    <tr>\n",
       "      <th>3</th>\n",
       "      <td>1</td>\n",
       "      <td>47</td>\n",
       "      <td>3.5</td>\n",
       "      <td>2005-04-02 23:32:07</td>\n",
       "    </tr>\n",
       "    <tr>\n",
       "      <th>4</th>\n",
       "      <td>1</td>\n",
       "      <td>50</td>\n",
       "      <td>3.5</td>\n",
       "      <td>2005-04-02 23:29:40</td>\n",
       "    </tr>\n",
       "    <tr>\n",
       "      <th>...</th>\n",
       "      <td>...</td>\n",
       "      <td>...</td>\n",
       "      <td>...</td>\n",
       "      <td>...</td>\n",
       "    </tr>\n",
       "    <tr>\n",
       "      <th>20000258</th>\n",
       "      <td>138493</td>\n",
       "      <td>68954</td>\n",
       "      <td>4.5</td>\n",
       "      <td>2009-11-13 15:42:00</td>\n",
       "    </tr>\n",
       "    <tr>\n",
       "      <th>20000259</th>\n",
       "      <td>138493</td>\n",
       "      <td>69526</td>\n",
       "      <td>4.5</td>\n",
       "      <td>2009-12-03 18:31:48</td>\n",
       "    </tr>\n",
       "    <tr>\n",
       "      <th>20000260</th>\n",
       "      <td>138493</td>\n",
       "      <td>69644</td>\n",
       "      <td>3.0</td>\n",
       "      <td>2009-12-07 18:10:57</td>\n",
       "    </tr>\n",
       "    <tr>\n",
       "      <th>20000261</th>\n",
       "      <td>138493</td>\n",
       "      <td>70286</td>\n",
       "      <td>5.0</td>\n",
       "      <td>2009-11-13 15:42:24</td>\n",
       "    </tr>\n",
       "    <tr>\n",
       "      <th>20000262</th>\n",
       "      <td>138493</td>\n",
       "      <td>71619</td>\n",
       "      <td>2.5</td>\n",
       "      <td>2009-10-17 20:25:36</td>\n",
       "    </tr>\n",
       "  </tbody>\n",
       "</table>\n",
       "<p>20000263 rows × 4 columns</p>\n",
       "</div>"
      ],
      "text/plain": [
       "            u_id   i_id  rating           timestamps\n",
       "0              1      2     3.5  2005-04-02 23:53:47\n",
       "1              1     29     3.5  2005-04-02 23:31:16\n",
       "2              1     32     3.5  2005-04-02 23:33:39\n",
       "3              1     47     3.5  2005-04-02 23:32:07\n",
       "4              1     50     3.5  2005-04-02 23:29:40\n",
       "...          ...    ...     ...                  ...\n",
       "20000258  138493  68954     4.5  2009-11-13 15:42:00\n",
       "20000259  138493  69526     4.5  2009-12-03 18:31:48\n",
       "20000260  138493  69644     3.0  2009-12-07 18:10:57\n",
       "20000261  138493  70286     5.0  2009-11-13 15:42:24\n",
       "20000262  138493  71619     2.5  2009-10-17 20:25:36\n",
       "\n",
       "[20000263 rows x 4 columns]"
      ]
     },
     "execution_count": 28,
     "metadata": {},
     "output_type": "execute_result"
    }
   ],
   "source": [
    "rating_df.columns = ['u_id', 'i_id', 'rating', 'timestamps']\n",
    "movies_df.columns = ['i_id', 'title', 'genres']\n",
    "rating_df"
   ]
  },
  {
   "cell_type": "code",
   "execution_count": null,
   "metadata": {
    "id": "KV8IKSN_rfRJ"
   },
   "outputs": [],
   "source": [
    "%%time\n",
    "from sklearn.metrics import mean_squared_error, mean_absolute_error\n",
    "# movielens18.drop(columns = 'timestamp', inplace = True)\n",
    "\n",
    "with joblib.parallel_backend('dask'):\n",
    "  train = rating_df.sample(frac=0.8)\n",
    "  val = rating_df.drop(train.index.tolist()).sample(frac=0.5, random_state=8)\n",
    "  test = rating_df.drop(train.index.tolist()).drop(val.index.tolist())"
   ]
  },
  {
   "cell_type": "code",
   "execution_count": null,
   "metadata": {
    "id": "E5hDOidkz_z4"
   },
   "outputs": [],
   "source": [
    "train"
   ]
  },
  {
   "cell_type": "code",
   "execution_count": null,
   "metadata": {
    "id": "qwLqSUT5zFzK"
   },
   "outputs": [],
   "source": [
    "lr, reg, factors = (0.01, 0.03, 90)\n",
    "\n",
    "with joblib.parallel_backend('dask'):\n",
    "  svd = SVD(lr=lr, reg=reg, n_epochs=20, n_factors=factors,\n",
    "            min_rating=0.5, max_rating=5)\n",
    "  svd.fit(X=train, X_val=val)\n",
    "\n",
    "pred = svd.predict(test)\n",
    "mae = mean_absolute_error(test[\"rating\"], pred)\n",
    "rmse = np.sqrt(mean_squared_error(test[\"rating\"], pred))\n",
    "print(\"Test MAE:  {:.2f}\".format(mae))\n",
    "print(\"Test RMSE: {:.2f}\".format(rmse))\n",
    "print('{} factors, {} lr, {} reg'.format(factors, lr, reg))"
   ]
  },
  {
   "cell_type": "markdown",
   "metadata": {
    "id": "bJkCYfVF5b_W"
   },
   "source": [
    "#User Recommendations"
   ]
  },
  {
   "cell_type": "code",
   "execution_count": null,
   "metadata": {
    "id": "DrbPvker4z69"
   },
   "outputs": [],
   "source": [
    "n_m = len(rating_df.i_id.unique())\n",
    "\n",
    "#  Initialize my ratings\n",
    "my_ratings = np.zeros(n_m)\n",
    "\n",
    "\n",
    "my_ratings[4993] = 5\n",
    "my_ratings[1080] = 5\n",
    "my_ratings[260] = 5\n",
    "my_ratings[4896] = 5\n",
    "my_ratings[1196] = 5\n",
    "my_ratings[1210] = 5\n",
    "my_ratings[2628] = 5\n",
    "my_ratings[5378] = 5\n",
    "\n",
    "print('User ratings:')\n",
    "print('-----------------')\n",
    "\n",
    "for i, val in enumerate(my_ratings):\n",
    "    if val > 0:\n",
    "        print('Rated %d stars: %s' % (val, movies_df.loc[movies_df.i_id==i].title.values))"
   ]
  },
  {
   "cell_type": "code",
   "execution_count": null,
   "metadata": {
    "id": "BeOVTG-557mC"
   },
   "outputs": [],
   "source": [
    "\n",
    "print(\"Adding your recommendations!\")\n",
    "items_id = [item[0] for item in np.argwhere(my_ratings>0)]\n",
    "ratings_list = my_ratings[np.where(my_ratings>0)]\n",
    "user_id = np.asarray([0] * len(ratings_list))\n",
    "\n",
    "user_ratings = pd.DataFrame(list(zip(user_id, items_id, ratings_list)), columns=['u_id', 'i_id', 'rating'])\n",
    "\n"
   ]
  },
  {
   "cell_type": "code",
   "execution_count": null,
   "metadata": {
    "id": "irkcdH8x6FRv"
   },
   "outputs": [],
   "source": [
    "try:\n",
    "    rating_df = rating_df.drop(columns=['timestamps'])\n",
    "except:\n",
    "    pass\n",
    "data_with_user = rating_df.append(user_ratings, ignore_index=True)\n",
    "\n",
    "\n",
    "\n",
    "with joblib.parallel_backend('dask'):\n",
    "  train_user = data_with_user.sample(frac=0.8)\n",
    "  val_user = data_with_user.drop(train_user.index.tolist()).sample(frac=0.5, random_state=8)\n",
    "  test_user = data_with_user.drop(train_user.index.tolist()).drop(val_user.index.tolist())\n",
    "\n"
   ]
  },
  {
   "cell_type": "code",
   "execution_count": null,
   "metadata": {
    "id": "SYIKaEAqzMBE"
   },
   "outputs": [],
   "source": [
    "from itertools import product\n",
    "\n",
    "\n",
    "def funk_svd_predict(userID, data_with_user, movies_df):\n",
    "    userID = [userID]\n",
    "\n",
    "    # all_users = data_with_user.u_id.unique()\n",
    "    all_movies = data_with_user.i_id.unique()\n",
    "    recommendations = pd.DataFrame(list(product(userID, all_movies)), columns=['u_id', 'i_id'])\n",
    "\n",
    "    #Getting predictions for the selected userID\n",
    "    pred_train = svd.predict(recommendations)\n",
    "    recommendations['prediction'] = pred_train\n",
    "    recommendations.head(10)\n",
    "\n",
    "    sorted_user_predictions = recommendations.sort_values(by='prediction', ascending=False)\n",
    "\n",
    "    user_ratings = data_with_user[data_with_user.u_id == userID[0]]\n",
    "    user_ratings.columns = ['u_id',\t'i_id', 'rating']\n",
    "    # Recommend the highest predicted rating movies that the user hasn't seen yet.\n",
    "    recommendations = movies_df[~movies_df['i_id'].isin(user_ratings['i_id'])].\\\n",
    "        merge(pd.DataFrame(sorted_user_predictions).reset_index(drop=True), how = 'inner', left_on = 'i_id', right_on = 'i_id').\\\n",
    "        sort_values(by='prediction', ascending = False)#.drop(['i_id'],axis=1)\n",
    "\n",
    "    rated_df = movies_df[movies_df['i_id'].isin(user_ratings['i_id'])].\\\n",
    "        merge(pd.DataFrame(data_with_user).reset_index(drop=True), how = 'inner', left_on = 'i_id', right_on = 'i_id')\n",
    "    rated_df = rated_df.loc[rated_df.u_id==userID[0]].sort_values(by='rating', ascending = False)\n",
    "    \n",
    "    return recommendations, rated_df\n",
    "recommendations, rated_df = funk_svd_predict(0, data_with_user, movies_df)"
   ]
  },
  {
   "cell_type": "code",
   "execution_count": null,
   "metadata": {
    "id": "7TdIy7c48hbU"
   },
   "outputs": [],
   "source": [
    "rated_df"
   ]
  },
  {
   "cell_type": "code",
   "execution_count": null,
   "metadata": {
    "id": "gKy2wIE2_Gkt"
   },
   "outputs": [],
   "source": [
    "recommendations.head(10)"
   ]
  },
  {
   "cell_type": "code",
   "execution_count": null,
   "metadata": {
    "id": "tIE4njIX_OdY"
   },
   "outputs": [],
   "source": []
  },
  {
   "cell_type": "code",
   "execution_count": null,
   "metadata": {
    "id": "WOI-qBp7_Uka"
   },
   "outputs": [],
   "source": []
  }
 ],
 "metadata": {
  "colab": {
   "authorship_tag": "ABX9TyM6tJ32O4dMedy/fJyZtueJ",
   "collapsed_sections": [],
   "include_colab_link": true,
   "name": "Recommendation System BIGDATA.ipynb",
   "provenance": []
  },
  "kernelspec": {
   "display_name": "Python 3",
   "language": "python",
   "name": "python3"
  },
  "language_info": {
   "codemirror_mode": {
    "name": "ipython",
    "version": 3
   },
   "file_extension": ".py",
   "mimetype": "text/x-python",
   "name": "python",
   "nbconvert_exporter": "python",
   "pygments_lexer": "ipython3",
   "version": "3.9.5"
  }
 },
 "nbformat": 4,
 "nbformat_minor": 4
}
