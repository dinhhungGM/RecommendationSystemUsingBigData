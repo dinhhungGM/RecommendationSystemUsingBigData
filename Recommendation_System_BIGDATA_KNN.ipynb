{
 "cells": [
  {
   "cell_type": "code",
   "execution_count": 1,
   "id": "a9e30393-9d1d-4d3a-8e4d-e26f3c11b0ad",
   "metadata": {},
   "outputs": [
    {
     "name": "stderr",
     "output_type": "stream",
     "text": [
      "21/07/16 23:48:44 WARN Utils: Your hostname, zas resolves to a loopback address: 127.0.1.1; using 192.168.1.225 instead (on interface wlp0s20f3)\n",
      "21/07/16 23:48:44 WARN Utils: Set SPARK_LOCAL_IP if you need to bind to another address\n",
      "WARNING: An illegal reflective access operation has occurred\n",
      "WARNING: Illegal reflective access by org.apache.spark.unsafe.Platform (file:/opt/spark/jars/spark-unsafe_2.12-3.1.1.jar) to constructor java.nio.DirectByteBuffer(long,int)\n",
      "WARNING: Please consider reporting this to the maintainers of org.apache.spark.unsafe.Platform\n",
      "WARNING: Use --illegal-access=warn to enable warnings of further illegal reflective access operations\n",
      "WARNING: All illegal access operations will be denied in a future release\n",
      "21/07/16 23:48:44 WARN NativeCodeLoader: Unable to load native-hadoop library for your platform... using builtin-java classes where applicable\n",
      "Using Spark's default log4j profile: org/apache/spark/log4j-defaults.properties\n",
      "Setting default log level to \"WARN\".\n",
      "To adjust logging level use sc.setLogLevel(newLevel). For SparkR, use setLogLevel(newLevel).\n"
     ]
    }
   ],
   "source": [
    "import joblib\n",
    "from dask.distributed import Client\n",
    "from scipy.sparse import csr_matrix\n",
    "from sklearn.neighbors import NearestNeighbors\n",
    "import numpy as np\n",
    "from pyspark.sql.functions import col, explode\n",
    "from pyspark import SparkContext\n",
    "from pyspark.sql import SparkSession\n",
    "from pyspark.ml.evaluation import RegressionEvaluator\n",
    "from pyspark.ml.recommendation import ALS\n",
    "from pyspark.ml.tuning import ParamGridBuilder, CrossValidator\n",
    "# sc = SparkContext\n",
    "# sc.setCheckpointDir('checkpoint')\n",
    "spark = SparkSession.builder.appName('Group 7 - Recommendation System').config('spark.sql.execution.arrow.pyspark.enabled', True)\\\n",
    ".config('spark.driver.memory','8G')\\\n",
    ".config('spark.ui.showConsoleProgress', True)\\\n",
    ".config('spark.sql.repl.eagerEval.enabled', True)\\\n",
    ".getOrCreate()\n",
    "\n",
    "client = Client()"
   ]
  },
  {
   "cell_type": "code",
   "execution_count": 2,
   "id": "a6499ee4-6c0a-413f-8613-801fd15853e0",
   "metadata": {},
   "outputs": [
    {
     "name": "stderr",
     "output_type": "stream",
     "text": [
      "                                                                                \r"
     ]
    }
   ],
   "source": [
    "# Data is downloaded from https://www.kaggle.com/bandikarthik/movie-recommendation-system\n",
    "movies = spark.read.csv('../MovieLens/movie.csv', header=True, inferSchema=True)\n",
    "ratings = spark.read.csv('../MovieLens/rating.csv',  header=True, inferSchema=True)"
   ]
  },
  {
   "cell_type": "code",
   "execution_count": 3,
   "id": "36cdc5a0-fefd-40b4-8f03-33788f18a85b",
   "metadata": {},
   "outputs": [
    {
     "name": "stderr",
     "output_type": "stream",
     "text": [
      "                                                                                \r"
     ]
    }
   ],
   "source": [
    "with joblib.parallel_backend('dask'):\n",
    "    movies_df = movies.toPandas()\n",
    "    rating_df = ratings.toPandas()"
   ]
  },
  {
   "cell_type": "code",
   "execution_count": 5,
   "id": "1b6deaa8-dd52-4231-afd9-e6788479c851",
   "metadata": {},
   "outputs": [],
   "source": [
    "model_knn= NearestNeighbors(metric='cosine', algorithm='brute', n_neighbors=20)\n",
    "movies_users= rating_df.head(1000000).pivot(index='movieId', columns='userId',values='rating').fillna(0)"
   ]
  },
  {
   "cell_type": "code",
   "execution_count": 6,
   "id": "fc2abd63-c9b1-4576-9287-8f5248a138a0",
   "metadata": {},
   "outputs": [],
   "source": [
    "with joblib.parallel_backend('dask'):\n",
    "    mat_movies_users=csr_matrix(movies_users.values)\n",
    "    model_knn.fit(mat_movies_users)"
   ]
  },
  {
   "cell_type": "code",
   "execution_count": 11,
   "id": "ecf2060b-a902-4af5-afe6-c98cdf4118bc",
   "metadata": {},
   "outputs": [
    {
     "name": "stdout",
     "output_type": "stream",
     "text": [
      "Recommend movies for people watched Heavy (1995)\n",
      "Movie Selected:  Heavy (1995) Index:  751\n",
      "Searching for recommendations.....\n",
      "751                                                NaN\n",
      "628                             Family Thing, A (1996)\n",
      "709           Halfmoon (Paul Bowles - Halbmond) (1995)\n",
      "470                         In the Line of Fire (1993)\n",
      "706              Visitors, The (Visiteurs, Les) (1993)\n",
      "254                                  Just Cause (1995)\n",
      "0                                     Toy Story (1995)\n",
      "1155                             Paths of Glory (1957)\n",
      "1489    Second Jungle Book: Mowgli & Baloo, The (1997)\n",
      "577                    Dear Diary (Caro Diario) (1994)\n",
      "Name: title, dtype: object\n"
     ]
    }
   ],
   "source": [
    "from fuzzywuzzy import process\n",
    "def recommender(movie_name, data, model, n_recommendations ):\n",
    "    df_movies = movies.toPandas()\n",
    "    model.fit(data)\n",
    "    idx=process.extractOne(movie_name, df_movies['title'])[2]\n",
    "    print('Movie Selected: ', df_movies['title'][idx], 'Index: ',idx)\n",
    "    print('Searching for recommendations.....')\n",
    "    distances, indices=model.kneighbors(data[idx], n_neighbors=n_recommendations)\n",
    "    for i in indices:\n",
    "        print(df_movies['title'][i].where(i!=idx))\n",
    "\n",
    "movie = \"Heavy (1995)\"\n",
    "print(\"Recommend movies for people watched \" + movie)\n",
    "recommender(film, mat_movies_users, model_knn, 10)"
   ]
  },
  {
   "cell_type": "code",
   "execution_count": null,
   "id": "3cc057ac-c8ad-4826-b48e-1af79346e13a",
   "metadata": {},
   "outputs": [],
   "source": []
  }
 ],
 "metadata": {
  "kernelspec": {
   "display_name": "Python 3 (ipykernel)",
   "language": "python",
   "name": "python3"
  },
  "language_info": {
   "codemirror_mode": {
    "name": "ipython",
    "version": 3
   },
   "file_extension": ".py",
   "mimetype": "text/x-python",
   "name": "python",
   "nbconvert_exporter": "python",
   "pygments_lexer": "ipython3",
   "version": "3.8.10"
  }
 },
 "nbformat": 4,
 "nbformat_minor": 5
}
