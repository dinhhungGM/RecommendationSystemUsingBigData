{
 "cells": [
  {
   "cell_type": "markdown",
   "metadata": {
    "colab_type": "text",
    "id": "view-in-github"
   },
   "source": [
    "<a href=\"https://colab.research.google.com/github/dinhhungGM/RecommendationSystemUsingBigData/blob/main/Recommendation_System_BIGDATA_COS_JAC.ipynb\" target=\"_parent\"><img src=\"https://colab.research.google.com/assets/colab-badge.svg\" alt=\"Open In Colab\"/></a>"
   ]
  },
  {
   "cell_type": "markdown",
   "metadata": {
    "id": "XyvUYiSSz05R"
   },
   "source": [
    "# Content-based Filtering"
   ]
  },
  {
   "cell_type": "code",
   "execution_count": null,
   "metadata": {
    "colab": {
     "base_uri": "https://localhost:8080/"
    },
    "id": "mXWsolp8xSEx",
    "outputId": "f28a3d34-a92e-41d1-c70f-e03a0f2853c5"
   },
   "outputs": [
    {
     "name": "stdout",
     "output_type": "stream",
     "text": [
      "Mounted at /content/drive\n"
     ]
    }
   ],
   "source": [
    "from google.colab import drive\n",
    "drive.mount('/content/drive')"
   ]
  },
  {
   "cell_type": "code",
   "execution_count": null,
   "metadata": {
    "colab": {
     "base_uri": "https://localhost:8080/",
     "height": 407
    },
    "id": "mono9eCjz7s0",
    "outputId": "d87dd3aa-24fd-4c8c-8fc2-a23de5f969cc"
   },
   "outputs": [
    {
     "name": "stdout",
     "output_type": "stream",
     "text": [
      "\u001b[K     |████████████████████████████████| 204kB 12.0MB/s \n",
      "\u001b[?25hCollecting pandas\n",
      "\u001b[?25l  Downloading https://files.pythonhosted.org/packages/99/f7/01cea7f6c963100f045876eb4aa1817069c5c9eca73d2dbfb5d31ff9a39f/pandas-1.3.0-cp37-cp37m-manylinux_2_5_x86_64.manylinux1_x86_64.whl (10.8MB)\n",
      "\u001b[K     |████████████████████████████████| 10.8MB 11.2MB/s \n",
      "\u001b[?25hRequirement already satisfied, skipping upgrade: numpy>=1.17.3 in /usr/local/lib/python3.7/dist-packages (from pandas) (1.19.5)\n",
      "Requirement already satisfied, skipping upgrade: pytz>=2017.3 in /usr/local/lib/python3.7/dist-packages (from pandas) (2018.9)\n",
      "Requirement already satisfied, skipping upgrade: python-dateutil>=2.7.3 in /usr/local/lib/python3.7/dist-packages (from pandas) (2.8.1)\n",
      "Requirement already satisfied, skipping upgrade: six>=1.5 in /usr/local/lib/python3.7/dist-packages (from python-dateutil>=2.7.3->pandas) (1.15.0)\n",
      "\u001b[31mERROR: google-colab 1.0.0 has requirement pandas~=1.1.0; python_version >= \"3.0\", but you'll have pandas 1.3.0 which is incompatible.\u001b[0m\n",
      "Installing collected packages: pandas\n",
      "  Found existing installation: pandas 1.1.5\n",
      "    Uninstalling pandas-1.1.5:\n",
      "      Successfully uninstalled pandas-1.1.5\n",
      "Successfully installed pandas-1.3.0\n"
     ]
    },
    {
     "data": {
      "application/vnd.colab-display-data+json": {
       "pip_warning": {
        "packages": [
         "pandas"
        ]
       }
      }
     },
     "metadata": {
      "tags": []
     },
     "output_type": "display_data"
    }
   ],
   "source": [
    "!apt-get install openjdk-8-jdk-headless -qq > /dev/null\n",
    "!wget -q https://downloads.apache.org/spark/spark-3.1.2/spark-3.1.2-bin-hadoop2.7.tgz\n",
    "!tar xf spark-3.1.2-bin-hadoop2.7.tgz\n",
    "!pip install -q findspark py4j\n",
    "!pip install pandas --upgrade"
   ]
  },
  {
   "cell_type": "code",
   "execution_count": null,
   "metadata": {
    "id": "NxNEg-l81dl6"
   },
   "outputs": [],
   "source": [
    "import os\n",
    "os.environ[\"JAVA_HOME\"] = \"/usr/lib/jvm/java-8-openjdk-amd64\"\n",
    "os.environ[\"SPARK_HOME\"] = \"/content/spark-3.1.2-bin-hadoop2.7\"\n",
    "import findspark\n",
    "findspark.init()"
   ]
  },
  {
   "cell_type": "code",
   "execution_count": null,
   "metadata": {
    "id": "QKE8eX9G1gYd"
   },
   "outputs": [],
   "source": [
    "from pyspark.sql.functions import col, explode\n",
    "from pyspark import SparkContext\n",
    "# Get distance functions from Sklearn\n",
    "from sklearn.metrics.pairwise import cosine_similarity\n",
    "from sklearn.metrics import jaccard_similarity_score\n",
    "from sklearn.metrics.pairwise import euclidean_distances\n",
    "from sklearn.metrics.pairwise import manhattan_distances\n",
    "from pprint import pprint\n",
    "from pyspark.ml.feature import CountVectorizer\n",
    "from pyspark.ml.linalg import Vectors\n",
    "import numpy as np\n",
    "from pyspark.sql import SparkSession\n",
    "sc = SparkContext\n",
    "# sc.setCheckpointDir('checkpoint')\n",
    "spark = SparkSession.builder.appName('Group 7 - Recommendation System')\\\n",
    ".config('spark.sql.execution.arrow.pyspark.enabled', True) \\\n",
    ".config('spark.driver.memory','8G') \\\n",
    ".config('spark.ui.showConsoleProgress', True) \\\n",
    ".config('spark.sql.repl.eagerEval.enabled', True) \\\n",
    ".config('spark.sql.pivotMaxValues', 100000000)\\\n",
    ".getOrCreate()"
   ]
  },
  {
   "cell_type": "code",
   "execution_count": null,
   "metadata": {
    "id": "AOTobMek1jRB"
   },
   "outputs": [],
   "source": [
    "# Data is downloaded from https://www.kaggle.com/bandikarthik/movie-recommendation-system\n",
    "movies = spark.read.csv('drive/MyDrive/BigDataProject/movies.csv', header=True, inferSchema=True)\n",
    "ratings = spark.read.csv('drive/MyDrive/BigDataProject/ratings.csv',  header=True, inferSchema=True)"
   ]
  },
  {
   "cell_type": "code",
   "execution_count": null,
   "metadata": {
    "colab": {
     "base_uri": "https://localhost:8080/"
    },
    "id": "u5KQ9z3U1mVl",
    "outputId": "82ef546a-cf65-42fb-dfc2-d261abd595d9"
   },
   "outputs": [
    {
     "name": "stdout",
     "output_type": "stream",
     "text": [
      "+-------+--------------------+--------------------+\n",
      "|movieId|               title|              genres|\n",
      "+-------+--------------------+--------------------+\n",
      "|      1|    Toy Story (1995)|Adventure|Animati...|\n",
      "|      2|      Jumanji (1995)|Adventure|Childre...|\n",
      "|      3|Grumpier Old Men ...|      Comedy|Romance|\n",
      "|      4|Waiting to Exhale...|Comedy|Drama|Romance|\n",
      "|      5|Father of the Bri...|              Comedy|\n",
      "+-------+--------------------+--------------------+\n",
      "\n"
     ]
    }
   ],
   "source": [
    "movies.limit(5).show()"
   ]
  },
  {
   "cell_type": "code",
   "execution_count": null,
   "metadata": {
    "colab": {
     "base_uri": "https://localhost:8080/",
     "height": 579
    },
    "id": "nVge5LAt62hZ",
    "outputId": "0ca5a043-24e2-4f86-d9bc-2831d9e069d6"
   },
   "outputs": [
    {
     "data": {
      "text/html": [
       "<table border='1'>\n",
       "<tr><th>movieId</th><th>title</th><th>genres</th></tr>\n",
       "<tr><td>1</td><td>Toy Story (1995)</td><td>Adventure|Animati...</td></tr>\n",
       "<tr><td>2</td><td>Jumanji (1995)</td><td>Adventure|Childre...</td></tr>\n",
       "<tr><td>3</td><td>Grumpier Old Men ...</td><td>Comedy|Romance</td></tr>\n",
       "<tr><td>4</td><td>Waiting to Exhale...</td><td>Comedy|Drama|Romance</td></tr>\n",
       "<tr><td>5</td><td>Father of the Bri...</td><td>Comedy</td></tr>\n",
       "<tr><td>6</td><td>Heat (1995)</td><td>Action|Crime|Thri...</td></tr>\n",
       "<tr><td>7</td><td>Sabrina (1995)</td><td>Comedy|Romance</td></tr>\n",
       "<tr><td>8</td><td>Tom and Huck (1995)</td><td>Adventure|Children</td></tr>\n",
       "<tr><td>9</td><td>Sudden Death (1995)</td><td>Action</td></tr>\n",
       "<tr><td>10</td><td>GoldenEye (1995)</td><td>Action|Adventure|...</td></tr>\n",
       "<tr><td>11</td><td>American Presiden...</td><td>Comedy|Drama|Romance</td></tr>\n",
       "<tr><td>12</td><td>Dracula: Dead and...</td><td>Comedy|Horror</td></tr>\n",
       "<tr><td>13</td><td>Balto (1995)</td><td>Adventure|Animati...</td></tr>\n",
       "<tr><td>14</td><td>Nixon (1995)</td><td>Drama</td></tr>\n",
       "<tr><td>15</td><td>Cutthroat Island ...</td><td>Action|Adventure|...</td></tr>\n",
       "<tr><td>16</td><td>Casino (1995)</td><td>Crime|Drama</td></tr>\n",
       "<tr><td>17</td><td>Sense and Sensibi...</td><td>Drama|Romance</td></tr>\n",
       "<tr><td>18</td><td>Four Rooms (1995)</td><td>Comedy</td></tr>\n",
       "<tr><td>19</td><td>Ace Ventura: When...</td><td>Comedy</td></tr>\n",
       "<tr><td>20</td><td>Money Train (1995)</td><td>Action|Comedy|Cri...</td></tr>\n",
       "</table>\n",
       "only showing top 20 rows\n"
      ],
      "text/plain": [
       "+-------+--------------------+--------------------+\n",
       "|movieId|               title|              genres|\n",
       "+-------+--------------------+--------------------+\n",
       "|      1|    Toy Story (1995)|Adventure|Animati...|\n",
       "|      2|      Jumanji (1995)|Adventure|Childre...|\n",
       "|      3|Grumpier Old Men ...|      Comedy|Romance|\n",
       "|      4|Waiting to Exhale...|Comedy|Drama|Romance|\n",
       "|      5|Father of the Bri...|              Comedy|\n",
       "|      6|         Heat (1995)|Action|Crime|Thri...|\n",
       "|      7|      Sabrina (1995)|      Comedy|Romance|\n",
       "|      8| Tom and Huck (1995)|  Adventure|Children|\n",
       "|      9| Sudden Death (1995)|              Action|\n",
       "|     10|    GoldenEye (1995)|Action|Adventure|...|\n",
       "|     11|American Presiden...|Comedy|Drama|Romance|\n",
       "|     12|Dracula: Dead and...|       Comedy|Horror|\n",
       "|     13|        Balto (1995)|Adventure|Animati...|\n",
       "|     14|        Nixon (1995)|               Drama|\n",
       "|     15|Cutthroat Island ...|Action|Adventure|...|\n",
       "|     16|       Casino (1995)|         Crime|Drama|\n",
       "|     17|Sense and Sensibi...|       Drama|Romance|\n",
       "|     18|   Four Rooms (1995)|              Comedy|\n",
       "|     19|Ace Ventura: When...|              Comedy|\n",
       "|     20|  Money Train (1995)|Action|Comedy|Cri...|\n",
       "+-------+--------------------+--------------------+\n",
       "only showing top 20 rows"
      ]
     },
     "execution_count": 35,
     "metadata": {
      "tags": []
     },
     "output_type": "execute_result"
    }
   ],
   "source": [
    "movies"
   ]
  },
  {
   "cell_type": "code",
   "execution_count": null,
   "metadata": {
    "colab": {
     "base_uri": "https://localhost:8080/"
    },
    "id": "j4a6A80k2Tjr",
    "outputId": "d23f4172-c836-444e-fc23-c8fcd39b16f8"
   },
   "outputs": [
    {
     "name": "stdout",
     "output_type": "stream",
     "text": [
      "+-------+--------------------+\n",
      "|movieId|               genre|\n",
      "+-------+--------------------+\n",
      "|      1|[adventure, anima...|\n",
      "|      2|[adventure, child...|\n",
      "|      3|   [comedy, romance]|\n",
      "|      4|[comedy, drama, r...|\n",
      "|      5|            [comedy]|\n",
      "+-------+--------------------+\n",
      "only showing top 5 rows\n",
      "\n"
     ]
    }
   ],
   "source": [
    "movies_df = spark.createDataFrame(movies.rdd.map(lambda x: (x[0], x[2].lower()\\\n",
    ".replace('\"',\"\").replace(' ',\"\").split('|'))), ['movieId','genre'])\n",
    "movies_df.show(5)"
   ]
  },
  {
   "cell_type": "code",
   "execution_count": null,
   "metadata": {
    "colab": {
     "base_uri": "https://localhost:8080/"
    },
    "id": "yzsLcDTT2mE7",
    "outputId": "eefaae0f-2862-4c57-db38-ca1968417b11"
   },
   "outputs": [
    {
     "name": "stdout",
     "output_type": "stream",
     "text": [
      "66668 20\n"
     ]
    }
   ],
   "source": [
    "#Find Count of unique Genre\n",
    "count  = []\n",
    "for i in movies_df.collect():\n",
    "  count.extend(i[1])\n",
    "print(len(count), len(set(count)))\n",
    "count_genre = len(set(count))"
   ]
  },
  {
   "cell_type": "code",
   "execution_count": null,
   "metadata": {
    "id": "yN-SvOLa28vL"
   },
   "outputs": [],
   "source": [
    "\n",
    "\n"
   ]
  },
  {
   "cell_type": "code",
   "execution_count": null,
   "metadata": {
    "id": "TSbSwIVG3Dsc"
   },
   "outputs": [],
   "source": [
    "#For Vectorize the data \n",
    "\n",
    "#Count Vectorizer Fitting \n",
    "cv = CountVectorizer(inputCol=\"genre\", outputCol=\"features\", vocabSize=count_genre, minDF=2.0)\n",
    "cvmodel = cv.fit(movies_df)\n"
   ]
  },
  {
   "cell_type": "code",
   "execution_count": null,
   "metadata": {
    "colab": {
     "base_uri": "https://localhost:8080/"
    },
    "id": "k92tXIm23IVS",
    "outputId": "d7a994ba-0acb-433c-c3a3-b5f73a5b85af"
   },
   "outputs": [
    {
     "name": "stdout",
     "output_type": "stream",
     "text": [
      "+-------+--------------------+--------------------+\n",
      "|movieId|               genre|            features|\n",
      "+-------+--------------------+--------------------+\n",
      "|      1|[adventure, anima...|(20,[1,8,11,12,13...|\n",
      "|      2|[adventure, child...|(20,[8,11,12],[1....|\n",
      "|      3|   [comedy, romance]|(20,[1,3],[1.0,1.0])|\n",
      "|      4|[comedy, drama, r...|(20,[0,1,3],[1.0,...|\n",
      "|      5|            [comedy]|      (20,[1],[1.0])|\n",
      "+-------+--------------------+--------------------+\n",
      "only showing top 5 rows\n",
      "\n"
     ]
    }
   ],
   "source": [
    "\n",
    "# Transform Data using Count Vectorizer\n",
    "movies_transformed = cvmodel.transform(movies_df)\n",
    "movies_transformed.show(5)\n"
   ]
  },
  {
   "cell_type": "code",
   "execution_count": null,
   "metadata": {
    "colab": {
     "background_save": true,
     "base_uri": "https://localhost:8080/",
     "height": 579
    },
    "id": "8y9LKG1U3QIe",
    "outputId": "5966f81d-28b6-43a2-b0f7-9df28339d12b"
   },
   "outputs": [
    {
     "data": {
      "text/html": [
       "<table border='1'>\n",
       "<tr><th>id</th><th>DenseVector</th></tr>\n",
       "<tr><td>1</td><td>[0.0,1.0,0.0,0.0,...</td></tr>\n",
       "<tr><td>2</td><td>[0.0,0.0,0.0,0.0,...</td></tr>\n",
       "<tr><td>3</td><td>[0.0,1.0,0.0,1.0,...</td></tr>\n",
       "<tr><td>4</td><td>[1.0,1.0,0.0,1.0,...</td></tr>\n",
       "<tr><td>5</td><td>[0.0,1.0,0.0,0.0,...</td></tr>\n",
       "<tr><td>6</td><td>[0.0,0.0,1.0,0.0,...</td></tr>\n",
       "<tr><td>7</td><td>[0.0,1.0,0.0,1.0,...</td></tr>\n",
       "<tr><td>8</td><td>[0.0,0.0,0.0,0.0,...</td></tr>\n",
       "<tr><td>9</td><td>[0.0,0.0,0.0,0.0,...</td></tr>\n",
       "<tr><td>10</td><td>[0.0,0.0,1.0,0.0,...</td></tr>\n",
       "<tr><td>11</td><td>[1.0,1.0,0.0,1.0,...</td></tr>\n",
       "<tr><td>12</td><td>[0.0,1.0,0.0,0.0,...</td></tr>\n",
       "<tr><td>13</td><td>[0.0,0.0,0.0,0.0,...</td></tr>\n",
       "<tr><td>14</td><td>[1.0,0.0,0.0,0.0,...</td></tr>\n",
       "<tr><td>15</td><td>[0.0,0.0,0.0,1.0,...</td></tr>\n",
       "<tr><td>16</td><td>[1.0,0.0,0.0,0.0,...</td></tr>\n",
       "<tr><td>17</td><td>[1.0,0.0,0.0,1.0,...</td></tr>\n",
       "<tr><td>18</td><td>[0.0,1.0,0.0,0.0,...</td></tr>\n",
       "<tr><td>19</td><td>[0.0,1.0,0.0,0.0,...</td></tr>\n",
       "<tr><td>20</td><td>[1.0,1.0,1.0,0.0,...</td></tr>\n",
       "</table>\n",
       "only showing top 20 rows\n"
      ],
      "text/plain": [
       "+---+--------------------+\n",
       "| id|         DenseVector|\n",
       "+---+--------------------+\n",
       "|  1|[0.0,1.0,0.0,0.0,...|\n",
       "|  2|[0.0,0.0,0.0,0.0,...|\n",
       "|  3|[0.0,1.0,0.0,1.0,...|\n",
       "|  4|[1.0,1.0,0.0,1.0,...|\n",
       "|  5|[0.0,1.0,0.0,0.0,...|\n",
       "|  6|[0.0,0.0,1.0,0.0,...|\n",
       "|  7|[0.0,1.0,0.0,1.0,...|\n",
       "|  8|[0.0,0.0,0.0,0.0,...|\n",
       "|  9|[0.0,0.0,0.0,0.0,...|\n",
       "| 10|[0.0,0.0,1.0,0.0,...|\n",
       "| 11|[1.0,1.0,0.0,1.0,...|\n",
       "| 12|[0.0,1.0,0.0,0.0,...|\n",
       "| 13|[0.0,0.0,0.0,0.0,...|\n",
       "| 14|[1.0,0.0,0.0,0.0,...|\n",
       "| 15|[0.0,0.0,0.0,1.0,...|\n",
       "| 16|[1.0,0.0,0.0,0.0,...|\n",
       "| 17|[1.0,0.0,0.0,1.0,...|\n",
       "| 18|[0.0,1.0,0.0,0.0,...|\n",
       "| 19|[0.0,1.0,0.0,0.0,...|\n",
       "| 20|[1.0,1.0,1.0,0.0,...|\n",
       "+---+--------------------+\n",
       "only showing top 20 rows"
      ]
     },
     "execution_count": 0,
     "metadata": {
      "tags": []
     },
     "output_type": "execute_result"
    }
   ],
   "source": [
    "# Convert Sparse Vector to Dense\n",
    "fnldata = spark.createDataFrame(movies_transformed.select('movieId', 'features')\\\n",
    "                                .rdd.map(lambda x: (x[0], Vectors.dense(x[1]))), ['id', 'DenseVector'])\n",
    "fnldata.take(2)\n",
    "fnldata.cache()"
   ]
  },
  {
   "cell_type": "code",
   "execution_count": null,
   "metadata": {
    "id": "_AhcbWLS3geI"
   },
   "outputs": [],
   "source": [
    "# Test the \n",
    "test_id = 45\n",
    "test_vector= fnldata.rdd.lookup(test_id)"
   ]
  },
  {
   "cell_type": "code",
   "execution_count": null,
   "metadata": {
    "id": "mXkH9gTp3ins"
   },
   "outputs": [],
   "source": [
    "cosine_dist =spark.createDataFrame(fnldata.rdd.map(lambda x: (x[0], \n",
    "float(cosine_similarity(np.array(x[1]).reshape(1, -1), np.array(test_vector)\\\n",
    ".reshape(1, -1))[0][0]))), ['movieId', 'cosine_sim'])"
   ]
  },
  {
   "cell_type": "code",
   "execution_count": null,
   "metadata": {
    "colab": {
     "base_uri": "https://localhost:8080/",
     "height": 266
    },
    "id": "8pYYQftcamZH",
    "outputId": "d9cdace1-b622-481f-f38b-feec382fc07c"
   },
   "outputs": [
    {
     "data": {
      "text/html": [
       "<table border='1'>\n",
       "<tr><th>movieId</th><th>cosine_sim</th><th>movieId</th><th>genre</th><th>title</th><th>genres</th></tr>\n",
       "<tr><td>105835</td><td>1.0000000000000002</td><td>105835</td><td>[comedy, drama, t...</td><td>Double, The (2013)</td><td>Comedy|Drama|Thri...</td></tr>\n",
       "<tr><td>147845</td><td>1.0000000000000002</td><td>147845</td><td>[comedy, drama, t...</td><td>Manson Family Vac...</td><td>Comedy|Drama|Thri...</td></tr>\n",
       "<tr><td>64327</td><td>1.0000000000000002</td><td>64327</td><td>[comedy, drama, t...</td><td>Fools&#x27; Parade (1971)</td><td>Comedy|Drama|Thri...</td></tr>\n",
       "<tr><td>6193</td><td>1.0000000000000002</td><td>6193</td><td>[comedy, drama, t...</td><td>Poolhall Junkies ...</td><td>Comedy|Drama|Thri...</td></tr>\n",
       "<tr><td>5416</td><td>1.0000000000000002</td><td>5416</td><td>[comedy, drama, t...</td><td>Cherish (2002)</td><td>Comedy|Drama|Thri...</td></tr>\n",
       "<tr><td>2438</td><td>1.0000000000000002</td><td>2438</td><td>[comedy, drama, t...</td><td>Outside Ozona (1998)</td><td>Comedy|Drama|Thri...</td></tr>\n",
       "<tr><td>92906</td><td>1.0000000000000002</td><td>92906</td><td>[comedy, drama, t...</td><td>Girls on the Road...</td><td>Comedy|Drama|Thri...</td></tr>\n",
       "<tr><td>82097</td><td>1.0000000000000002</td><td>82097</td><td>[comedy, drama, t...</td><td>Karthik Calling K...</td><td>Comedy|Drama|Thri...</td></tr>\n",
       "<tr><td>8330</td><td>1.0000000000000002</td><td>8330</td><td>[comedy, drama, t...</td><td>Our Man in Havana...</td><td>Comedy|Drama|Thri...</td></tr>\n",
       "<tr><td>30767</td><td>1.0000000000000002</td><td>30767</td><td>[comedy, drama, t...</td><td>Sitcom (1998)</td><td>Comedy|Drama|Thri...</td></tr>\n",
       "</table>\n"
      ],
      "text/plain": [
       "+-------+------------------+-------+--------------------+--------------------+--------------------+\n",
       "|movieId|        cosine_sim|movieId|               genre|               title|              genres|\n",
       "+-------+------------------+-------+--------------------+--------------------+--------------------+\n",
       "| 105835|1.0000000000000002| 105835|[comedy, drama, t...|  Double, The (2013)|Comedy|Drama|Thri...|\n",
       "| 147845|1.0000000000000002| 147845|[comedy, drama, t...|Manson Family Vac...|Comedy|Drama|Thri...|\n",
       "|  64327|1.0000000000000002|  64327|[comedy, drama, t...|Fools' Parade (1971)|Comedy|Drama|Thri...|\n",
       "|   6193|1.0000000000000002|   6193|[comedy, drama, t...|Poolhall Junkies ...|Comedy|Drama|Thri...|\n",
       "|   5416|1.0000000000000002|   5416|[comedy, drama, t...|      Cherish (2002)|Comedy|Drama|Thri...|\n",
       "|   2438|1.0000000000000002|   2438|[comedy, drama, t...|Outside Ozona (1998)|Comedy|Drama|Thri...|\n",
       "|  92906|1.0000000000000002|  92906|[comedy, drama, t...|Girls on the Road...|Comedy|Drama|Thri...|\n",
       "|  82097|1.0000000000000002|  82097|[comedy, drama, t...|Karthik Calling K...|Comedy|Drama|Thri...|\n",
       "|   8330|1.0000000000000002|   8330|[comedy, drama, t...|Our Man in Havana...|Comedy|Drama|Thri...|\n",
       "|  30767|1.0000000000000002|  30767|[comedy, drama, t...|       Sitcom (1998)|Comedy|Drama|Thri...|\n",
       "+-------+------------------+-------+--------------------+--------------------+--------------------+"
      ]
     },
     "execution_count": 119,
     "metadata": {
      "tags": []
     },
     "output_type": "execute_result"
    }
   ],
   "source": [
    "cosine_recomm=cosine_dist.join(movies_df, movies_df['movieId']==cosine_dist.movieId)\\\n",
    ".sort('cosine_sim',ascending=False).take(10)\n",
    "cosine_recomm_df = spark.createDataFrame(cosine_recomm)\n",
    "cosine_recomm_df.join(movies, on=\"movieId\")"
   ]
  },
  {
   "cell_type": "code",
   "execution_count": null,
   "metadata": {
    "id": "hulOn-Lm3vXG"
   },
   "outputs": [],
   "source": [
    "euclidean_dist =spark.createDataFrame(fnldata.rdd.map(lambda x: (x[0], float( euclidean_distances(np.array(x[1]).reshape(1, -1), np.array(test_vector).reshape(1, -1))[0][0]))), ['movieId', 'euclidean_distances'])"
   ]
  },
  {
   "cell_type": "code",
   "execution_count": null,
   "metadata": {
    "colab": {
     "base_uri": "https://localhost:8080/"
    },
    "id": "TEIEH97f3yPR",
    "outputId": "933c2f14-a044-4e87-9b36-a21340721347"
   },
   "outputs": [
    {
     "name": "stdout",
     "output_type": "stream",
     "text": [
      "[Row(movieId=105835, euclidean_distances=0.0, movieId=105835, genre=['comedy', 'drama', 'thriller']),\n",
      " Row(movieId=5416, euclidean_distances=0.0, movieId=5416, genre=['comedy', 'drama', 'thriller']),\n",
      " Row(movieId=64327, euclidean_distances=0.0, movieId=64327, genre=['comedy', 'drama', 'thriller']),\n",
      " Row(movieId=92906, euclidean_distances=0.0, movieId=92906, genre=['comedy', 'drama', 'thriller']),\n",
      " Row(movieId=6193, euclidean_distances=0.0, movieId=6193, genre=['comedy', 'drama', 'thriller']),\n",
      " Row(movieId=147845, euclidean_distances=0.0, movieId=147845, genre=['comedy', 'drama', 'thriller']),\n",
      " Row(movieId=2438, euclidean_distances=0.0, movieId=2438, genre=['comedy', 'drama', 'thriller']),\n",
      " Row(movieId=82097, euclidean_distances=0.0, movieId=82097, genre=['comedy', 'drama', 'thriller']),\n",
      " Row(movieId=8330, euclidean_distances=0.0, movieId=8330, genre=['comedy', 'drama', 'thriller']),\n",
      " Row(movieId=319, euclidean_distances=0.0, movieId=319, genre=['comedy', 'drama', 'thriller'])]\n"
     ]
    }
   ],
   "source": [
    "# take 10 of the values for recommendation\n",
    "euclidean_recomm=euclidean_dist.join(movies_df, movies_df['movieId']==euclidean_dist.movieId).sort('euclidean_distances',ascending=True).take(10)\n",
    "pprint(euclidean_recomm)"
   ]
  },
  {
   "cell_type": "code",
   "execution_count": null,
   "metadata": {
    "id": "TxGoWcW592M0"
   },
   "outputs": [],
   "source": [
    "manhattan_dist =spark.createDataFrame(fnldata.rdd.map(lambda x: (x[0], float( manhattan_distances(np.array(x[1])\\\n",
    ".reshape(1, -1), np.array(test_vector).reshape(1, -1))[0][0]))), ['movieId', 'manhattan_distances'])"
   ]
  },
  {
   "cell_type": "code",
   "execution_count": null,
   "metadata": {
    "colab": {
     "base_uri": "https://localhost:8080/"
    },
    "id": "DrgT7MEv-YqB",
    "outputId": "0b664f5f-04fb-4fba-b265-666242c7dc85"
   },
   "outputs": [
    {
     "name": "stdout",
     "output_type": "stream",
     "text": [
      "[Row(movieId=105835, manhattan_distances=0.0, movieId=105835, genre=['comedy', 'drama', 'thriller']),\n",
      " Row(movieId=5416, manhattan_distances=0.0, movieId=5416, genre=['comedy', 'drama', 'thriller']),\n",
      " Row(movieId=64327, manhattan_distances=0.0, movieId=64327, genre=['comedy', 'drama', 'thriller']),\n",
      " Row(movieId=92906, manhattan_distances=0.0, movieId=92906, genre=['comedy', 'drama', 'thriller']),\n",
      " Row(movieId=6193, manhattan_distances=0.0, movieId=6193, genre=['comedy', 'drama', 'thriller']),\n",
      " Row(movieId=147845, manhattan_distances=0.0, movieId=147845, genre=['comedy', 'drama', 'thriller']),\n",
      " Row(movieId=2438, manhattan_distances=0.0, movieId=2438, genre=['comedy', 'drama', 'thriller']),\n",
      " Row(movieId=82097, manhattan_distances=0.0, movieId=82097, genre=['comedy', 'drama', 'thriller']),\n",
      " Row(movieId=8330, manhattan_distances=0.0, movieId=8330, genre=['comedy', 'drama', 'thriller']),\n",
      " Row(movieId=319, manhattan_distances=0.0, movieId=319, genre=['comedy', 'drama', 'thriller'])]\n"
     ]
    }
   ],
   "source": [
    "# take 10 of the values for recommendation\n",
    "manhattan_recomm=manhattan_dist.join(movies_df, movies_df.movieId==manhattan_dist.movieId).sort('manhattan_distances',ascending=True).take(10)\n",
    "pprint(manhattan_recomm)\n",
    "\n"
   ]
  },
  {
   "cell_type": "code",
   "execution_count": null,
   "metadata": {
    "id": "9igU0JkO-rHI"
   },
   "outputs": [],
   "source": [
    "jaccard_sim =spark.createDataFrame(fnldata.rdd.map(lambda x: (x[0], \\\n",
    "float(jaccard_similarity_score(np.array(test_vector[0]) \\\n",
    ".reshape(1, -1), np.array(x[1]).reshape(1, -1))))), ['movieId', 'jaccard_similarity'])"
   ]
  },
  {
   "cell_type": "code",
   "execution_count": null,
   "metadata": {
    "colab": {
     "base_uri": "https://localhost:8080/",
     "height": 266
    },
    "id": "ByPAu4Ns_ZAv",
    "outputId": "a7155951-fc0c-44bc-9dba-1ed11fe59936"
   },
   "outputs": [
    {
     "data": {
      "text/html": [
       "<table border='1'>\n",
       "<tr><th>movieId</th><th>jaccard_similarity</th><th>movieId</th><th>genre</th><th>title</th><th>genres</th></tr>\n",
       "<tr><td>105835</td><td>1.0</td><td>105835</td><td>[comedy, drama, t...</td><td>Double, The (2013)</td><td>Comedy|Drama|Thri...</td></tr>\n",
       "<tr><td>147845</td><td>1.0</td><td>147845</td><td>[comedy, drama, t...</td><td>Manson Family Vac...</td><td>Comedy|Drama|Thri...</td></tr>\n",
       "<tr><td>64327</td><td>1.0</td><td>64327</td><td>[comedy, drama, t...</td><td>Fools&#x27; Parade (1971)</td><td>Comedy|Drama|Thri...</td></tr>\n",
       "<tr><td>6193</td><td>1.0</td><td>6193</td><td>[comedy, drama, t...</td><td>Poolhall Junkies ...</td><td>Comedy|Drama|Thri...</td></tr>\n",
       "<tr><td>5416</td><td>1.0</td><td>5416</td><td>[comedy, drama, t...</td><td>Cherish (2002)</td><td>Comedy|Drama|Thri...</td></tr>\n",
       "<tr><td>2438</td><td>1.0</td><td>2438</td><td>[comedy, drama, t...</td><td>Outside Ozona (1998)</td><td>Comedy|Drama|Thri...</td></tr>\n",
       "<tr><td>92906</td><td>1.0</td><td>92906</td><td>[comedy, drama, t...</td><td>Girls on the Road...</td><td>Comedy|Drama|Thri...</td></tr>\n",
       "<tr><td>82097</td><td>1.0</td><td>82097</td><td>[comedy, drama, t...</td><td>Karthik Calling K...</td><td>Comedy|Drama|Thri...</td></tr>\n",
       "<tr><td>8330</td><td>1.0</td><td>8330</td><td>[comedy, drama, t...</td><td>Our Man in Havana...</td><td>Comedy|Drama|Thri...</td></tr>\n",
       "<tr><td>30767</td><td>1.0</td><td>30767</td><td>[comedy, drama, t...</td><td>Sitcom (1998)</td><td>Comedy|Drama|Thri...</td></tr>\n",
       "</table>\n"
      ],
      "text/plain": [
       "+-------+------------------+-------+--------------------+--------------------+--------------------+\n",
       "|movieId|jaccard_similarity|movieId|               genre|               title|              genres|\n",
       "+-------+------------------+-------+--------------------+--------------------+--------------------+\n",
       "| 105835|               1.0| 105835|[comedy, drama, t...|  Double, The (2013)|Comedy|Drama|Thri...|\n",
       "| 147845|               1.0| 147845|[comedy, drama, t...|Manson Family Vac...|Comedy|Drama|Thri...|\n",
       "|  64327|               1.0|  64327|[comedy, drama, t...|Fools' Parade (1971)|Comedy|Drama|Thri...|\n",
       "|   6193|               1.0|   6193|[comedy, drama, t...|Poolhall Junkies ...|Comedy|Drama|Thri...|\n",
       "|   5416|               1.0|   5416|[comedy, drama, t...|      Cherish (2002)|Comedy|Drama|Thri...|\n",
       "|   2438|               1.0|   2438|[comedy, drama, t...|Outside Ozona (1998)|Comedy|Drama|Thri...|\n",
       "|  92906|               1.0|  92906|[comedy, drama, t...|Girls on the Road...|Comedy|Drama|Thri...|\n",
       "|  82097|               1.0|  82097|[comedy, drama, t...|Karthik Calling K...|Comedy|Drama|Thri...|\n",
       "|   8330|               1.0|   8330|[comedy, drama, t...|Our Man in Havana...|Comedy|Drama|Thri...|\n",
       "|  30767|               1.0|  30767|[comedy, drama, t...|       Sitcom (1998)|Comedy|Drama|Thri...|\n",
       "+-------+------------------+-------+--------------------+--------------------+--------------------+"
      ]
     },
     "execution_count": 120,
     "metadata": {
      "tags": []
     },
     "output_type": "execute_result"
    }
   ],
   "source": [
    "jaccard_recomm=jaccard_sim.join(movies_df, movies_df.movieId==jaccard_sim.movieId)\\\n",
    ".sort('jaccard_similarity',ascending=False).take(10)\n",
    "jaccard_recomm_df = spark.createDataFrame(jaccard_recomm)\n",
    "jaccard_recomm_df.join(movies, on=\"movieId\")"
   ]
  },
  {
   "cell_type": "code",
   "execution_count": null,
   "metadata": {
    "colab": {
     "base_uri": "https://localhost:8080/"
    },
    "id": "EVXk0IMlsLYz",
    "outputId": "a4e3c668-c004-4800-9d53-8cf57a2cfb06"
   },
   "outputs": [
    {
     "data": {
      "text/plain": [
       "26"
      ]
     },
     "execution_count": 91,
     "metadata": {
      "tags": []
     },
     "output_type": "execute_result"
    }
   ],
   "source": [
    "len(jaccard_recomm)"
   ]
  },
  {
   "cell_type": "code",
   "execution_count": null,
   "metadata": {
    "id": "WTRN4LqDtGEW"
   },
   "outputs": [],
   "source": [
    "jaccard_sim.join(movies_df, movies_df.movieId==jaccard_sim.movieId).sort('jaccard_similarity',ascending=True)."
   ]
  }
 ],
 "metadata": {
  "colab": {
   "authorship_tag": "ABX9TyP2kcKWGuR46/Wp79RsjJ7Y",
   "collapsed_sections": [],
   "include_colab_link": true,
   "name": "Recommendation_System_BIGDATA_COS_JAC.ipynb",
   "provenance": []
  },
  "kernelspec": {
   "display_name": "Python 3",
   "language": "python",
   "name": "python3"
  },
  "language_info": {
   "codemirror_mode": {
    "name": "ipython",
    "version": 3
   },
   "file_extension": ".py",
   "mimetype": "text/x-python",
   "name": "python",
   "nbconvert_exporter": "python",
   "pygments_lexer": "ipython3",
   "version": "3.9.5"
  }
 },
 "nbformat": 4,
 "nbformat_minor": 4
}
