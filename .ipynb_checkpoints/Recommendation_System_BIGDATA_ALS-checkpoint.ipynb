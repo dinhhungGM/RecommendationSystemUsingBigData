{
 "cells": [
  {
   "cell_type": "markdown",
   "metadata": {
    "colab_type": "text",
    "id": "view-in-github"
   },
   "source": [
    "<a href=\"https://colab.research.google.com/github/dinhhungGM/RecommendationSystemUsingBigData/blob/main/Recommendation_System_BIGDATA_1.ipynb\" target=\"_parent\"><img src=\"https://colab.research.google.com/assets/colab-badge.svg\" alt=\"Open In Colab\"/></a>"
   ]
  },
  {
   "cell_type": "code",
   "execution_count": 7,
   "metadata": {
    "id": "22wTuJKUCyYG"
   },
   "outputs": [],
   "source": [
    "import findspark\n",
    "findspark.init()"
   ]
  },
  {
   "cell_type": "code",
   "execution_count": 8,
   "metadata": {
    "id": "NLueItI_C7RT"
   },
   "outputs": [],
   "source": [
    "from pyspark.sql.functions import col, explode\n",
    "from pyspark import SparkContext\n",
    "from pyspark.sql import SparkSession\n",
    "from pyspark.ml.evaluation import RegressionEvaluator\n",
    "from pyspark.ml.recommendation import ALS\n",
    "from pyspark.ml.tuning import ParamGridBuilder, CrossValidator\n",
    "# sc = SparkContext\n",
    "# sc.setCheckpointDir('checkpoint')\n",
    "spark = SparkSession.builder.appName('Group 7 - Recommendation System') \\\n",
    ".config('spark.sql.execution.arrow.pyspark.enabled', True)\\\n",
    ".config('spark.driver.memory','8G')\\\n",
    ".config('spark.ui.showConsoleProgress', True)\\\n",
    ".config('spark.sql.repl.eagerEval.enabled', True)\\\n",
    ".getOrCreate()"
   ]
  },
  {
   "cell_type": "code",
   "execution_count": 9,
   "metadata": {
    "id": "-D1AzOMfD8j_"
   },
   "outputs": [
    {
     "name": "stderr",
     "output_type": "stream",
     "text": [
      "                                                                                \r"
     ]
    }
   ],
   "source": [
    "# Data is downloaded from https://www.kaggle.com/bandikarthik/movie-recommendation-system\n",
    "movies = spark.read.csv('../MovieLens/movie.csv', header=True, inferSchema=True)\n",
    "ratings = spark.read.csv('../MovieLens/rating.csv',  header=True, inferSchema=True)"
   ]
  },
  {
   "cell_type": "code",
   "execution_count": 4,
   "metadata": {
    "colab": {
     "base_uri": "https://localhost:8080/"
    },
    "id": "eHdgQLPhEZTx",
    "outputId": "1be23e6f-c77e-42c9-e977-529c4dee7ec5"
   },
   "outputs": [
    {
     "name": "stdout",
     "output_type": "stream",
     "text": [
      "+-------+--------------------+--------------------+\n",
      "|movieId|               title|              genres|\n",
      "+-------+--------------------+--------------------+\n",
      "|      1|    Toy Story (1995)|Adventure|Animati...|\n",
      "|      2|      Jumanji (1995)|Adventure|Childre...|\n",
      "|      3|Grumpier Old Men ...|      Comedy|Romance|\n",
      "|      4|Waiting to Exhale...|Comedy|Drama|Romance|\n",
      "|      5|Father of the Bri...|              Comedy|\n",
      "+-------+--------------------+--------------------+\n",
      "\n"
     ]
    }
   ],
   "source": [
    "movies.limit(5).show()"
   ]
  },
  {
   "cell_type": "code",
   "execution_count": 4,
   "metadata": {},
   "outputs": [
    {
     "name": "stdout",
     "output_type": "stream",
     "text": [
      "+------+-------+------+-------------------+\n",
      "|userId|movieId|rating|          timestamp|\n",
      "+------+-------+------+-------------------+\n",
      "|     1|      2|   3.5|2005-04-02 23:53:47|\n",
      "|     1|     29|   3.5|2005-04-02 23:31:16|\n",
      "|     1|     32|   3.5|2005-04-02 23:33:39|\n",
      "|     1|     47|   3.5|2005-04-02 23:32:07|\n",
      "|     1|     50|   3.5|2005-04-02 23:29:40|\n",
      "+------+-------+------+-------------------+\n",
      "\n"
     ]
    }
   ],
   "source": [
    "ratings.limit(5).show()"
   ]
  },
  {
   "cell_type": "code",
   "execution_count": 6,
   "metadata": {},
   "outputs": [
    {
     "name": "stderr",
     "output_type": "stream",
     "text": [
      "                                                                                \r"
     ]
    },
    {
     "name": "stdout",
     "output_type": "stream",
     "text": [
      "Row(max(rating)=5.0)\n"
     ]
    },
    {
     "name": "stderr",
     "output_type": "stream",
     "text": [
      "[Stage 12:============================>                            (6 + 6) / 12]\r"
     ]
    },
    {
     "name": "stdout",
     "output_type": "stream",
     "text": [
      "Row(min(rating)=0.5)\n"
     ]
    },
    {
     "name": "stderr",
     "output_type": "stream",
     "text": [
      "                                                                                \r"
     ]
    }
   ],
   "source": [
    "print(ratings.agg({\"rating\": \"max\"}).collect()[0])\n",
    "print(ratings.agg({\"rating\": \"min\"}).collect()[0])"
   ]
  },
  {
   "cell_type": "markdown",
   "metadata": {
    "id": "mzz1Wa3dGRgF"
   },
   "source": [
    "# Implementing ALS(Alternating Least Square) algorithm in Spark"
   ]
  },
  {
   "cell_type": "code",
   "execution_count": 15,
   "metadata": {
    "id": "lq2s6QbVGAAY"
   },
   "outputs": [],
   "source": [
    "# Create test and train set\n",
    "(train, test) = ratings.randomSplit([0.8, 0.2], seed = 1234)\n",
    "\n",
    "# Create ALS model\n",
    "als = ALS(userCol=\"userId\", itemCol=\"movieId\", ratingCol=\"rating\", nonnegative = True, implicitPrefs = False\n",
    "          , coldStartStrategy=\"drop\")\n"
   ]
  },
  {
   "cell_type": "code",
   "execution_count": 12,
   "metadata": {
    "colab": {
     "base_uri": "https://localhost:8080/"
    },
    "id": "p2kz5AEJG7IE",
    "outputId": "e5e0187b-1570-4db0-c648-6b0c5ce22d7d"
   },
   "outputs": [
    {
     "name": "stdout",
     "output_type": "stream",
     "text": [
      "Num models to be tested:  1\n"
     ]
    }
   ],
   "source": [
    "# Add hyperparameters and their respective values to param_grid\n",
    "param_grid = ParamGridBuilder() \\\n",
    "            .addGrid(als.rank, [100]) \\\n",
    "            .addGrid(als.regParam, [.15]) \\\n",
    "            .build()\n",
    "            #             .addGrid(als.maxIter, [5, 50, 100, 200]) \\\n",
    "           \n",
    "# Define evaluator as RMSE and print length of evaluator\n",
    "evaluator = RegressionEvaluator(metricName=\"rmse\", labelCol=\"rating\", predictionCol=\"prediction\") \n",
    "print (\"Num models to be tested: \", len(param_grid))"
   ]
  },
  {
   "cell_type": "code",
   "execution_count": 16,
   "metadata": {},
   "outputs": [],
   "source": [
    "# Build cross validation using CrossValidator\n",
    "# numFolds=3 means the CrossValidator will create 3 different models.\n",
    "cv = CrossValidator(estimator=als, estimatorParamMaps=param_grid, evaluator=evaluator, numFolds=3)"
   ]
  },
  {
   "cell_type": "code",
   "execution_count": 17,
   "metadata": {},
   "outputs": [
    {
     "name": "stderr",
     "output_type": "stream",
     "text": [
      "21/07/16 22:20:52 WARN CacheManager: Asked to cache already cached data.\n",
      "21/07/16 22:20:52 WARN CacheManager: Asked to cache already cached data.\n",
      "21/07/16 22:21:14 WARN BLAS: Failed to load implementation from: com.github.fommil.netlib.NativeSystemBLAS\n",
      "21/07/16 22:21:14 WARN BLAS: Failed to load implementation from: com.github.fommil.netlib.NativeRefBLAS\n",
      "                                                                                \r"
     ]
    }
   ],
   "source": [
    "# We fit the cross validator to the 'train' dataset\n",
    "model = cv.fit(train)\n",
    "\n",
    "# We Extract best model from the cv model above\n",
    "best_model = model.bestModel"
   ]
  },
  {
   "cell_type": "code",
   "execution_count": 19,
   "metadata": {
    "colab": {
     "base_uri": "https://localhost:8080/"
    },
    "id": "5UVdWQHPHP3e",
    "outputId": "129ea49d-7924-4341-a13a-03a0d9b7a060"
   },
   "outputs": [
    {
     "name": "stderr",
     "output_type": "stream",
     "text": [
      "[Stage 344:====================================================>(199 + 1) / 200]\r"
     ]
    },
    {
     "name": "stdout",
     "output_type": "stream",
     "text": [
      "Root mean square error: 0.8143051599489648\n",
      "====BEST MODEL ====\n",
      "BEST RANK: 10\n",
      "maxIter: 10\n",
      "regParam: 0.1\n"
     ]
    },
    {
     "name": "stderr",
     "output_type": "stream",
     "text": [
      "                                                                                \r"
     ]
    }
   ],
   "source": [
    "predictions = best_model.transform(test)\n",
    "rmse = evaluator.evaluate(predictions)\n",
    "print(f\"Root mean square error: {rmse}\")\n",
    "print(\"====BEST MODEL ====\")\n",
    "print(f\"BEST RANK: {best_model.rank}\")\n",
    "print(f\"maxIter: {best_model._java_obj.parent().getMaxIter()}\")\n",
    "print(f\"regParam: {best_model._java_obj.parent().getRegParam()}\")"
   ]
  },
  {
   "cell_type": "code",
   "execution_count": 20,
   "metadata": {
    "colab": {
     "base_uri": "https://localhost:8080/",
     "height": 507
    },
    "id": "3zIcqurUf567",
    "outputId": "b9da3979-6a7c-4af1-8e22-093b89f85cc6"
   },
   "outputs": [
    {
     "name": "stderr",
     "output_type": "stream",
     "text": [
      "                                                                                \r"
     ]
    },
    {
     "data": {
      "text/plain": [
       "Row(max(prediction)=6.4292802810668945)"
      ]
     },
     "execution_count": 20,
     "metadata": {},
     "output_type": "execute_result"
    }
   ],
   "source": [
    "predictions.agg({\"prediction\": \"max\"}).collect()[0]"
   ]
  },
  {
   "cell_type": "markdown",
   "metadata": {
    "id": "D60NGNliHeGs"
   },
   "source": [
    "# Movie Recommendation"
   ]
  },
  {
   "cell_type": "code",
   "execution_count": 21,
   "metadata": {
    "colab": {
     "base_uri": "https://localhost:8080/"
    },
    "id": "tXmHNXDtHbl5",
    "outputId": "a95438d4-bc46-46e1-bf74-b4bfa84989a0"
   },
   "outputs": [
    {
     "name": "stderr",
     "output_type": "stream",
     "text": [
      "[Stage 399:========================================>           (154 + 12) / 200]\r"
     ]
    },
    {
     "name": "stdout",
     "output_type": "stream",
     "text": [
      "+------+--------------------+\n",
      "|userId|     recommendations|\n",
      "+------+--------------------+\n",
      "|   148|[{120821, 6.22960...|\n",
      "|   463|[{3226, 6.3365936...|\n",
      "|   471|[{3226, 5.771446}...|\n",
      "|   496|[{121029, 6.44937...|\n",
      "|   833|[{3226, 6.089091}...|\n",
      "|  1088|[{3226, 5.434558}...|\n",
      "|  1238|[{3226, 5.8392224...|\n",
      "|  1342|[{121029, 6.59056...|\n",
      "|  1580|[{120821, 5.34024...|\n",
      "|  1591|[{3226, 6.2007923...|\n",
      "+------+--------------------+\n",
      "\n"
     ]
    },
    {
     "name": "stderr",
     "output_type": "stream",
     "text": [
      "                                                                                \r"
     ]
    }
   ],
   "source": [
    "# Generate n Recommendations for all users\n",
    "recommendations = best_model.recommendForAllUsers(10)\n",
    "recommendations.limit(10).show()"
   ]
  },
  {
   "cell_type": "markdown",
   "metadata": {
    "id": "A4XY-d8CJYNx"
   },
   "source": [
    "### 7th User’s Actual Preference:"
   ]
  },
  {
   "cell_type": "code",
   "execution_count": 11,
   "metadata": {
    "colab": {
     "base_uri": "https://localhost:8080/"
    },
    "id": "zTh0G83FJG3W",
    "outputId": "d265eaf4-36aa-4c8f-842e-391d5cf9a922"
   },
   "outputs": [
    {
     "name": "stderr",
     "output_type": "stream",
     "text": [
      "                                                                                \r"
     ]
    },
    {
     "data": {
      "text/html": [
       "<table border='1'>\n",
       "<tr><th>movieId</th><th>userId</th><th>rating</th><th>timestamp</th><th>title</th><th>genres</th></tr>\n",
       "<tr><td>912</td><td>7</td><td>5.0</td><td>2002-01-16 18:09:56</td><td>Casablanca (1942)</td><td>Drama|Romance</td></tr>\n",
       "<tr><td>3179</td><td>7</td><td>5.0</td><td>2002-01-16 19:22:51</td><td>Angela&#x27;s Ashes (1...</td><td>Drama</td></tr>\n",
       "<tr><td>1077</td><td>7</td><td>5.0</td><td>2002-01-16 18:48:18</td><td>Sleeper (1973)</td><td>Comedy|Sci-Fi</td></tr>\n",
       "<tr><td>750</td><td>7</td><td>5.0</td><td>2002-01-16 18:44:19</td><td>Dr. Strangelove o...</td><td>Comedy|War</td></tr>\n",
       "<tr><td>1196</td><td>7</td><td>5.0</td><td>2002-01-16 18:09:32</td><td>Star Wars: Episod...</td><td>Action|Adventure|...</td></tr>\n",
       "<tr><td>587</td><td>7</td><td>5.0</td><td>2002-01-16 19:10:20</td><td>Ghost (1990)</td><td>Comedy|Drama|Fant...</td></tr>\n",
       "<tr><td>1210</td><td>7</td><td>5.0</td><td>2002-01-16 18:10:54</td><td>Star Wars: Episod...</td><td>Action|Adventure|...</td></tr>\n",
       "<tr><td>1721</td><td>7</td><td>5.0</td><td>2002-01-16 19:06:05</td><td>Titanic (1997)</td><td>Drama|Romance</td></tr>\n",
       "<tr><td>2942</td><td>7</td><td>5.0</td><td>2002-01-16 18:38:41</td><td>Flashdance (1983)</td><td>Drama|Romance</td></tr>\n",
       "<tr><td>2028</td><td>7</td><td>5.0</td><td>2002-01-16 18:24:41</td><td>Saving Private Ry...</td><td>Action|Drama|War</td></tr>\n",
       "</table>\n"
      ],
      "text/plain": [
       "+-------+------+------+-------------------+--------------------+--------------------+\n",
       "|movieId|userId|rating|          timestamp|               title|              genres|\n",
       "+-------+------+------+-------------------+--------------------+--------------------+\n",
       "|    912|     7|   5.0|2002-01-16 18:09:56|   Casablanca (1942)|       Drama|Romance|\n",
       "|   3179|     7|   5.0|2002-01-16 19:22:51|Angela's Ashes (1...|               Drama|\n",
       "|   1077|     7|   5.0|2002-01-16 18:48:18|      Sleeper (1973)|       Comedy|Sci-Fi|\n",
       "|    750|     7|   5.0|2002-01-16 18:44:19|Dr. Strangelove o...|          Comedy|War|\n",
       "|   1196|     7|   5.0|2002-01-16 18:09:32|Star Wars: Episod...|Action|Adventure|...|\n",
       "|    587|     7|   5.0|2002-01-16 19:10:20|        Ghost (1990)|Comedy|Drama|Fant...|\n",
       "|   1210|     7|   5.0|2002-01-16 18:10:54|Star Wars: Episod...|Action|Adventure|...|\n",
       "|   1721|     7|   5.0|2002-01-16 19:06:05|      Titanic (1997)|       Drama|Romance|\n",
       "|   2942|     7|   5.0|2002-01-16 18:38:41|   Flashdance (1983)|       Drama|Romance|\n",
       "|   2028|     7|   5.0|2002-01-16 18:24:41|Saving Private Ry...|    Action|Drama|War|\n",
       "+-------+------+------+-------------------+--------------------+--------------------+"
      ]
     },
     "execution_count": 11,
     "metadata": {},
     "output_type": "execute_result"
    }
   ],
   "source": [
    "ratings.join(movies, on='movieId').filter('userId = 7') \\\n",
    ".sort('rating', ascending=False).limit(10)"
   ]
  },
  {
   "cell_type": "markdown",
   "metadata": {
    "id": "-qmZQCsNJ3IN"
   },
   "source": [
    "### 7th User’s ALS Recommentions"
   ]
  },
  {
   "cell_type": "code",
   "execution_count": 23,
   "metadata": {
    "colab": {
     "base_uri": "https://localhost:8080/",
     "height": 1000
    },
    "id": "FvwJ3UA4J55o",
    "outputId": "cd48af8f-9800-4b26-be2d-54edaa6e565b"
   },
   "outputs": [
    {
     "name": "stderr",
     "output_type": "stream",
     "text": [
      "                                                                                \r"
     ]
    },
    {
     "name": "stdout",
     "output_type": "stream",
     "text": [
      "+-------+------+---------+--------------------+--------------------+\n",
      "|movieId|userId|   rating|               title|              genres|\n",
      "+-------+------+---------+--------------------+--------------------+\n",
      "|   3226|     7| 5.637633|Hellhounds on My ...|         Documentary|\n",
      "| 121029|     7| 5.573067|No Distance Left ...|         Documentary|\n",
      "| 120821|     7| 5.295107|The War at Home (...|     Documentary|War|\n",
      "| 129536|     7|5.0036817|Code Name Coq Rou...|  (no genres listed)|\n",
      "| 114070|     7|4.9300246|Good Job:  Storie...|         Documentary|\n",
      "| 128366|     7|4.8328657|Patton Oswalt: Tr...|              Comedy|\n",
      "| 117907|     7| 4.705026|My Brother Tom (2...|               Drama|\n",
      "| 129451|     7| 4.669075|    Ingenious (2009)|Comedy|Drama|Romance|\n",
      "| 112473|     7|4.6646147|Stuart: A Life Ba...|               Drama|\n",
      "| 129243|     7| 4.609404|Afstiros katallil...|              Comedy|\n",
      "+-------+------+---------+--------------------+--------------------+\n",
      "\n"
     ]
    }
   ],
   "source": [
    "recommendations = recommendations.withColumn(\"rec_exp\", explode(\"recommendations\")).select('userId', \n",
    "col(\"rec_exp.movieId\"), col(\"rec_exp.rating\"))\n",
    "recommendations.join(movies, on='movieId').filter('userId = 7').show()"
   ]
  }
 ],
 "metadata": {
  "colab": {
   "authorship_tag": "ABX9TyM6tJ32O4dMedy/fJyZtueJ",
   "collapsed_sections": [],
   "include_colab_link": true,
   "name": "Recommendation System BIGDATA.ipynb",
   "provenance": []
  },
  "kernelspec": {
   "display_name": "Python 3",
   "language": "python",
   "name": "python3"
  },
  "language_info": {
   "codemirror_mode": {
    "name": "ipython",
    "version": 3
   },
   "file_extension": ".py",
   "mimetype": "text/x-python",
   "name": "python",
   "nbconvert_exporter": "python",
   "pygments_lexer": "ipython3",
   "version": "3.9.5"
  }
 },
 "nbformat": 4,
 "nbformat_minor": 4
}
