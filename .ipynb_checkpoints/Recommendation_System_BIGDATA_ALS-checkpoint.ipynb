{
 "cells": [
  {
   "cell_type": "markdown",
   "metadata": {
    "colab_type": "text",
    "id": "view-in-github"
   },
   "source": [
    "<a href=\"https://colab.research.google.com/github/dinhhungGM/RecommendationSystemUsingBigData/blob/main/Recommendation_System_BIGDATA_1.ipynb\" target=\"_parent\"><img src=\"https://colab.research.google.com/assets/colab-badge.svg\" alt=\"Open In Colab\"/></a>"
   ]
  },
  {
   "cell_type": "markdown",
   "metadata": {
    "id": "yvneHzZxpi_-"
   },
   "source": [
    "# Approach with Spark"
   ]
  },
  {
   "cell_type": "code",
   "execution_count": 1,
   "metadata": {
    "id": "22wTuJKUCyYG"
   },
   "outputs": [],
   "source": [
    "import findspark\n",
    "findspark.init()"
   ]
  },
  {
   "cell_type": "code",
   "execution_count": 1,
   "metadata": {
    "id": "NLueItI_C7RT"
   },
   "outputs": [
    {
     "name": "stderr",
     "output_type": "stream",
     "text": [
      "21/07/16 22:09:17 WARN Utils: Your hostname, zas resolves to a loopback address: 127.0.1.1; using 192.168.1.225 instead (on interface wlp0s20f3)\n",
      "21/07/16 22:09:17 WARN Utils: Set SPARK_LOCAL_IP if you need to bind to another address\n",
      "WARNING: An illegal reflective access operation has occurred\n",
      "WARNING: Illegal reflective access by org.apache.spark.unsafe.Platform (file:/opt/spark/jars/spark-unsafe_2.12-3.1.1.jar) to constructor java.nio.DirectByteBuffer(long,int)\n",
      "WARNING: Please consider reporting this to the maintainers of org.apache.spark.unsafe.Platform\n",
      "WARNING: Use --illegal-access=warn to enable warnings of further illegal reflective access operations\n",
      "WARNING: All illegal access operations will be denied in a future release\n",
      "21/07/16 22:09:17 WARN NativeCodeLoader: Unable to load native-hadoop library for your platform... using builtin-java classes where applicable\n",
      "Using Spark's default log4j profile: org/apache/spark/log4j-defaults.properties\n",
      "Setting default log level to \"WARN\".\n",
      "To adjust logging level use sc.setLogLevel(newLevel). For SparkR, use setLogLevel(newLevel).\n"
     ]
    }
   ],
   "source": [
    "from pyspark.sql.functions import col, explode\n",
    "from pyspark import SparkContext\n",
    "from pyspark.sql import SparkSession\n",
    "from pyspark.ml.evaluation import RegressionEvaluator\n",
    "from pyspark.ml.recommendation import ALS\n",
    "from pyspark.ml.tuning import ParamGridBuilder, CrossValidator\n",
    "# sc = SparkContext\n",
    "# sc.setCheckpointDir('checkpoint')\n",
    "spark = SparkSession.builder.appName('Group 7 - Recommendation System').config('spark.sql.execution.arrow.pyspark.enabled', True)\\\n",
    ".config('spark.driver.memory','8G')\\\n",
    ".config('spark.ui.showConsoleProgress', True)\\\n",
    ".config('spark.sql.repl.eagerEval.enabled', True)\\\n",
    ".getOrCreate()"
   ]
  },
  {
   "cell_type": "code",
   "execution_count": 3,
   "metadata": {
    "id": "-D1AzOMfD8j_"
   },
   "outputs": [
    {
     "name": "stderr",
     "output_type": "stream",
     "text": [
      "                                                                                \r"
     ]
    }
   ],
   "source": [
    "# Data is downloaded from https://www.kaggle.com/bandikarthik/movie-recommendation-system\n",
    "movies = spark.read.csv('../MovieLens/movie.csv', header=True, inferSchema=True)\n",
    "ratings = spark.read.csv('../MovieLens/rating.csv',  header=True, inferSchema=True)"
   ]
  },
  {
   "cell_type": "code",
   "execution_count": 4,
   "metadata": {
    "colab": {
     "base_uri": "https://localhost:8080/"
    },
    "id": "eHdgQLPhEZTx",
    "outputId": "1be23e6f-c77e-42c9-e977-529c4dee7ec5"
   },
   "outputs": [
    {
     "name": "stdout",
     "output_type": "stream",
     "text": [
      "+-------+--------------------+--------------------+\n",
      "|movieId|               title|              genres|\n",
      "+-------+--------------------+--------------------+\n",
      "|      1|    Toy Story (1995)|Adventure|Animati...|\n",
      "|      2|      Jumanji (1995)|Adventure|Childre...|\n",
      "|      3|Grumpier Old Men ...|      Comedy|Romance|\n",
      "|      4|Waiting to Exhale...|Comedy|Drama|Romance|\n",
      "|      5|Father of the Bri...|              Comedy|\n",
      "+-------+--------------------+--------------------+\n",
      "\n"
     ]
    }
   ],
   "source": [
    "movies.limit(5).show()"
   ]
  },
  {
   "cell_type": "markdown",
   "metadata": {
    "id": "F6vjhOoWFCD3"
   },
   "source": [
    "# Calculating sparsity of data"
   ]
  },
  {
   "cell_type": "code",
   "execution_count": 5,
   "metadata": {
    "colab": {
     "base_uri": "https://localhost:8080/"
    },
    "id": "GZrXM-UlEyJb",
    "outputId": "356ec295-59e9-49ae-db42-ad385b664ee2"
   },
   "outputs": [
    {
     "name": "stderr",
     "output_type": "stream",
     "text": [
      "[Stage 11:===================================================>    (11 + 1) / 12]\r"
     ]
    },
    {
     "name": "stdout",
     "output_type": "stream",
     "text": [
      "The ratings data is  99.46% empty.\n"
     ]
    },
    {
     "name": "stderr",
     "output_type": "stream",
     "text": [
      "                                                                                \r"
     ]
    }
   ],
   "source": [
    "numerator = ratings.select(\"Rating\").count()\n",
    "\n",
    "# Count the number of distinct userIds and distinct movieIds\n",
    "unique_users = ratings.select(\"UserID\").distinct().count()\n",
    "unique_movies = ratings.select(\"MovieID\").distinct().count()\n",
    "\n",
    "# Set the denominator equal to the number of users multiplied by the number of movies\n",
    "denominator = unique_users * unique_movies\n",
    "\n",
    "# Divide the numerator by the denominator\n",
    "sparsity = (1.0 - (numerator *1.0)/denominator)*100\n",
    "print(\"The ratings data is \", \"%.2f\" % sparsity + \"% empty.\")"
   ]
  },
  {
   "cell_type": "markdown",
   "metadata": {
    "id": "mzz1Wa3dGRgF"
   },
   "source": [
    "# Implementing ALS(Alternating Least Square) algorithm in Spark"
   ]
  },
  {
   "cell_type": "code",
   "execution_count": 5,
   "metadata": {
    "id": "6VpWg2z2FYly"
   },
   "outputs": [],
   "source": [
    "from pyspark.ml.evaluation import RegressionEvaluator\n",
    "from pyspark.ml.recommendation import ALS\n",
    "from pyspark.ml.tuning import ParamGridBuilder, CrossValidator"
   ]
  },
  {
   "cell_type": "code",
   "execution_count": 6,
   "metadata": {
    "id": "lq2s6QbVGAAY"
   },
   "outputs": [],
   "source": [
    "(trainData, testData) = ratings.randomSplit([0.8, 0.2], seed = 1234)\n",
    "\n",
    "# Create ALS model\n",
    "als = ALS(userCol=\"userId\", itemCol=\"movieId\", ratingCol=\"rating\", nonnegative = True, implicitPrefs = False\n",
    "          , coldStartStrategy=\"drop\")"
   ]
  },
  {
   "cell_type": "code",
   "execution_count": 7,
   "metadata": {
    "colab": {
     "base_uri": "https://localhost:8080/"
    },
    "id": "p2kz5AEJG7IE",
    "outputId": "e5e0187b-1570-4db0-c648-6b0c5ce22d7d"
   },
   "outputs": [
    {
     "name": "stderr",
     "output_type": "stream",
     "text": [
      "21/07/16 21:45:16 WARN BLAS: Failed to load implementation from: com.github.fommil.netlib.NativeSystemBLAS\n",
      "21/07/16 21:45:16 WARN BLAS: Failed to load implementation from: com.github.fommil.netlib.NativeRefBLAS\n",
      "                                                                                \r"
     ]
    },
    {
     "name": "stdout",
     "output_type": "stream",
     "text": [
      "CPU times: user 574 ms, sys: 137 ms, total: 711 ms\n",
      "Wall time: 3min 50s\n"
     ]
    }
   ],
   "source": [
    "%%time\n",
    "param_grid = ParamGridBuilder() \\\n",
    ".addGrid(als.rank, [100]) \\\n",
    ".addGrid(als.regParam, [.01]) \\\n",
    ".build()\n",
    "\n",
    "\n",
    "# rank is the number of latent factors in the model (defaults to 10).\n",
    "# maxIter is the maximum number of iterations to run (defaults to 10).\n",
    "# regParam specifies the regularization parameter in ALS (defaults to 1.0).\n",
    "\n",
    "\n",
    "evaluator = RegressionEvaluator(metricName=\"rmse\", labelCol=\"rating\",predictionCol=\"prediction\")\n",
    "cv = CrossValidator(estimator=als,\n",
    "                            estimatorParamMaps=param_grid,\n",
    "                            evaluator=evaluator,\n",
    "                            numFolds=3) \n",
    "\n",
    "model = cv.fit(trainData)\n"
   ]
  },
  {
   "cell_type": "code",
   "execution_count": 8,
   "metadata": {
    "colab": {
     "base_uri": "https://localhost:8080/"
    },
    "id": "5UVdWQHPHP3e",
    "outputId": "129ea49d-7924-4341-a13a-03a0d9b7a060"
   },
   "outputs": [
    {
     "name": "stderr",
     "output_type": "stream",
     "text": [
      "[Stage 336:===============================================>    (183 + 12) / 200]\r"
     ]
    },
    {
     "name": "stdout",
     "output_type": "stream",
     "text": [
      "Root mean square error: 0.8058084628531729\n",
      "====BEST MODEL ====\n",
      "BEST RANK: 14\n",
      "maxIter: 10\n",
      "regParam: 0.01\n"
     ]
    },
    {
     "name": "stderr",
     "output_type": "stream",
     "text": [
      "                                                                                \r"
     ]
    }
   ],
   "source": [
    "best_model = model.bestModel\n",
    "predictions = best_model.transform(testData)\n",
    "rmse = evaluator.evaluate(predictions)\n",
    "print(f\"Root mean square error: {rmse}\")\n",
    "print(\"====BEST MODEL ====\")\n",
    "print(f\"BEST RANK: {best_model.rank}\")\n",
    "print(f\"maxIter: {best_model._java_obj.parent().getMaxIter()}\")\n",
    "print(f\"regParam: {best_model._java_obj.parent().getRegParam()}\")"
   ]
  },
  {
   "cell_type": "code",
   "execution_count": 19,
   "metadata": {
    "colab": {
     "base_uri": "https://localhost:8080/",
     "height": 507
    },
    "id": "3zIcqurUf567",
    "outputId": "b9da3979-6a7c-4af1-8e22-093b89f85cc6"
   },
   "outputs": [
    {
     "name": "stderr",
     "output_type": "stream",
     "text": [
      "                                                                                \r"
     ]
    },
    {
     "data": {
      "text/plain": [
       "Row(max(prediction)=9.730632781982422)"
      ]
     },
     "execution_count": 19,
     "metadata": {},
     "output_type": "execute_result"
    }
   ],
   "source": [
    "predictions.agg({\"prediction\": \"max\"}).collect()[0]"
   ]
  },
  {
   "cell_type": "markdown",
   "metadata": {
    "id": "D60NGNliHeGs"
   },
   "source": [
    "# Movie Recommendation"
   ]
  },
  {
   "cell_type": "code",
   "execution_count": 20,
   "metadata": {
    "colab": {
     "base_uri": "https://localhost:8080/"
    },
    "id": "tXmHNXDtHbl5",
    "outputId": "a95438d4-bc46-46e1-bf74-b4bfa84989a0"
   },
   "outputs": [
    {
     "name": "stderr",
     "output_type": "stream",
     "text": [
      "[Stage 769:================================================>   (187 + 12) / 200]\r"
     ]
    },
    {
     "name": "stdout",
     "output_type": "stream",
     "text": [
      "+------+--------------------+\n",
      "|userId|     recommendations|\n",
      "+------+--------------------+\n",
      "|   148|[{128366, 11.8917...|\n",
      "|   463|[{96030, 9.862978...|\n",
      "|   471|[{96030, 9.586279...|\n",
      "|   496|[{128366, 8.97899...|\n",
      "|   833|[{96030, 13.61601...|\n",
      "|  1088|[{96255, 10.12521...|\n",
      "|  1238|[{96030, 8.942157...|\n",
      "|  1342|[{61913, 10.79397...|\n",
      "|  1580|[{50347, 14.56270...|\n",
      "|  1591|[{119705, 11.4136...|\n",
      "+------+--------------------+\n",
      "\n"
     ]
    },
    {
     "name": "stderr",
     "output_type": "stream",
     "text": [
      "                                                                                \r"
     ]
    }
   ],
   "source": [
    "\n",
    "\n",
    "# Generate n Recommendations for all users\n",
    "recommendations = best_model.recommendForAllUsers(10)\n",
    "recommendations.limit(10).show()\n",
    "\n"
   ]
  },
  {
   "cell_type": "markdown",
   "metadata": {
    "id": "A4XY-d8CJYNx"
   },
   "source": [
    "### 7th User’s Actual Preference:"
   ]
  },
  {
   "cell_type": "code",
   "execution_count": 14,
   "metadata": {
    "colab": {
     "base_uri": "https://localhost:8080/"
    },
    "id": "zTh0G83FJG3W",
    "outputId": "d265eaf4-36aa-4c8f-842e-391d5cf9a922"
   },
   "outputs": [
    {
     "name": "stderr",
     "output_type": "stream",
     "text": [
      "[Stage 576:=========>                                             (2 + 10) / 12]\r"
     ]
    },
    {
     "name": "stdout",
     "output_type": "stream",
     "text": [
      "+-------+------+------+-------------------+--------------------+--------------------+\n",
      "|movieId|userId|rating|          timestamp|               title|              genres|\n",
      "+-------+------+------+-------------------+--------------------+--------------------+\n",
      "|    344|    50|   2.0|2007-06-24 09:34:28|Ace Ventura: Pet ...|              Comedy|\n",
      "|   2710|    50|   2.0|2007-06-24 09:39:36|Blair Witch Proje...|Drama|Horror|Thri...|\n",
      "|    319|    50|   3.0|2007-06-12 11:05:32|Shallow Grave (1994)|Comedy|Drama|Thri...|\n",
      "|   1407|    50|   3.0|2007-06-24 09:40:59|       Scream (1996)|Comedy|Horror|Mys...|\n",
      "|   3147|    50|   3.0|2007-06-24 09:42:47|Green Mile, The (...|         Crime|Drama|\n",
      "|   4022|    50|   3.0|2007-06-24 09:43:43|    Cast Away (2000)|               Drama|\n",
      "|   8784|    50|   3.0|2007-06-20 14:09:57| Garden State (2004)|Comedy|Drama|Romance|\n",
      "|  36276|    50|   3.0|2007-06-20 13:58:21|Hidden (a.k.a. Ca...|Drama|Mystery|Thr...|\n",
      "|    597|    50|   3.5|2007-06-24 09:35:14| Pretty Woman (1990)|      Comedy|Romance|\n",
      "|    150|    50|   3.5|2007-06-20 14:17:44|    Apollo 13 (1995)|Adventure|Drama|IMAX|\n",
      "+-------+------+------+-------------------+--------------------+--------------------+\n",
      "\n"
     ]
    },
    {
     "name": "stderr",
     "output_type": "stream",
     "text": [
      "                                                                                \r"
     ]
    }
   ],
   "source": [
    "ratings.join(movies, on='movieId').filter('userId = 50') \\\n",
    ".sort('rating', ascending=True).limit(10).show()"
   ]
  },
  {
   "cell_type": "markdown",
   "metadata": {
    "id": "-qmZQCsNJ3IN"
   },
   "source": [
    "### 7th User’s ALS Recommentions"
   ]
  },
  {
   "cell_type": "code",
   "execution_count": 12,
   "metadata": {
    "colab": {
     "base_uri": "https://localhost:8080/",
     "height": 1000
    },
    "id": "FvwJ3UA4J55o",
    "outputId": "cd48af8f-9800-4b26-be2d-54edaa6e565b"
   },
   "outputs": [
    {
     "name": "stderr",
     "output_type": "stream",
     "text": [
      "                                                                                \r"
     ]
    },
    {
     "name": "stdout",
     "output_type": "stream",
     "text": [
      "+-------+------+---------+--------------------+--------------------+\n",
      "|movieId|userId|   rating|               title|              genres|\n",
      "+-------+------+---------+--------------------+--------------------+\n",
      "|  96030|    50| 8.454298|Weekend It Lives,...|              Horror|\n",
      "|  96255|    50| 8.019306|On Top of the Wha...|             Fantasy|\n",
      "|  74061|    50|7.2264924|Rahtree: Flower o...|Comedy|Drama|Horr...|\n",
      "|  26968|    50| 6.842768|  Cremaster 5 (1997)|       Drama|Musical|\n",
      "| 120821|    50|6.7726007|The War at Home (...|     Documentary|War|\n",
      "| 128366|    50| 6.758215|Patton Oswalt: Tr...|              Comedy|\n",
      "|  97300|    50| 6.668107|Björk: Volumen (1...|   Animation|Musical|\n",
      "|  94900|    50| 6.502551|    Desi Boyz (2011)|        Comedy|Drama|\n",
      "| 112577|    50|6.4785285|Willie & Phil (1980)|Comedy|Drama|Romance|\n",
      "|  79236|    50| 6.382984|       Yumeji (1991)|       Drama|Fantasy|\n",
      "+-------+------+---------+--------------------+--------------------+\n",
      "\n"
     ]
    }
   ],
   "source": [
    "recommendations = recommendations.withColumn(\"rec_exp\", explode(\"recommendations\")).select('userId', col(\"rec_exp.movieId\"), col(\"rec_exp.rating\"))\n",
    "recommendations.join(movies, on='movieId').filter('userId = 50').show()"
   ]
  },
  {
   "cell_type": "markdown",
   "metadata": {
    "id": "-iQor4uMpeA8"
   },
   "source": [
    "# Approach with Dask"
   ]
  },
  {
   "cell_type": "markdown",
   "metadata": {
    "id": "YaRd8TWMXyJt"
   },
   "source": [
    "# KNN"
   ]
  },
  {
   "cell_type": "code",
   "execution_count": null,
   "metadata": {
    "colab": {
     "base_uri": "https://localhost:8080/"
    },
    "id": "k6fVZ9cwjD79",
    "outputId": "5564e567-d1ae-46a3-f7b7-9281ff9a227e"
   },
   "outputs": [],
   "source": [
    "!pip install \"dask[complete]\""
   ]
  },
  {
   "cell_type": "code",
   "execution_count": null,
   "metadata": {
    "id": "5m_LJJvhic3P"
   },
   "outputs": [],
   "source": [
    "import joblib\n",
    "from scipy.sparse import csr_matrix\n",
    "from sklearn.neighbors import NearestNeighbors\n",
    "import numpy as np"
   ]
  },
  {
   "cell_type": "code",
   "execution_count": null,
   "metadata": {
    "colab": {
     "base_uri": "https://localhost:8080/"
    },
    "id": "K67zWo9bwnSq",
    "outputId": "6cb7ca25-1601-4a54-b8c0-6038e78a18ea"
   },
   "outputs": [],
   "source": [
    "!python -m pip install dask distributed --upgrade"
   ]
  },
  {
   "cell_type": "code",
   "execution_count": null,
   "metadata": {
    "id": "L8lD8hN5jIut"
   },
   "outputs": [],
   "source": [
    "from dask.distributed import Client\n",
    "client = Client(n_workers=4, threads_per_worker=4, processes=False, memory_limit='8GB')\n",
    "\n",
    "# If we doesn't convert userId to category then will met errors\n",
    "\n",
    "model_knn= NearestNeighbors(metric='cosine', algorithm='brute', n_neighbors=20)\n",
    "movies_users= ratings.limit(1000000).toPandas().pivot(index='movieId', columns='userId',values='rating').fillna(0)\n",
    "    "
   ]
  },
  {
   "cell_type": "code",
   "execution_count": null,
   "metadata": {
    "id": "Tf3dtGaRPRGb"
   },
   "outputs": [],
   "source": [
    "import dask\n",
    "import dask.dataframe as dd\n",
    "ratings_dask_df = dd.read_csv('./drive/MyDrive/BigDataProject/ratings.csv')"
   ]
  },
  {
   "cell_type": "code",
   "execution_count": null,
   "metadata": {
    "colab": {
     "base_uri": "https://localhost:8080/",
     "height": 424
    },
    "id": "CXVTkBORPuep",
    "outputId": "65b1a585-d295-4608-f795-3cc1a9117ed1"
   },
   "outputs": [],
   "source": [
    "ratings_dask_df.head()"
   ]
  },
  {
   "cell_type": "code",
   "execution_count": null,
   "metadata": {
    "id": "huENAvcnpwJ9"
   },
   "outputs": [],
   "source": [
    "with joblib.parallel_backend('dask'):\n",
    "    mat_movies_users=csr_matrix(movies_users.values)\n",
    "    model_knn.fit(mat_movies_users)"
   ]
  },
  {
   "cell_type": "code",
   "execution_count": null,
   "metadata": {
    "id": "y-g5SCgsj1tU"
   },
   "outputs": [],
   "source": [
    "!pip install fuzzywuzzy\n",
    "from fuzzywuzzy import process\n",
    "def recommender(movie_name, data, model, n_recommendations ):\n",
    "    df_movies = movies.toPandas()\n",
    "    model.fit(data)\n",
    "    idx=process.extractOne(movie_name, df_movies['title'])[2]\n",
    "    print('Movie Selected: ', df_movies['title'][idx], 'Index: ',idx)\n",
    "    print('Searching for recommendations.....')\n",
    "    distances, indices=model.kneighbors(data[idx], n_neighbors=n_recommendations)\n",
    "    for i in indices:\n",
    "        print(df_movies['title'][i].where(i!=idx))\n",
    "    \n",
    "recommender('Toy Story (1995)', mat_movies_users, model_knn,20)"
   ]
  },
  {
   "cell_type": "markdown",
   "metadata": {
    "id": "wIWczmvNJ602"
   },
   "source": [
    "# SVD"
   ]
  },
  {
   "cell_type": "markdown",
   "metadata": {
    "id": "XwXu9_B9ryqm"
   },
   "source": [
    "## Basend on funk-svd is a Python 3 library implementing a fast version of the famous SVD algorithm popularized by Simon Funk during the Neflix Prize contest."
   ]
  },
  {
   "cell_type": "code",
   "execution_count": null,
   "metadata": {
    "id": "Sbv_zIhWrsCL"
   },
   "outputs": [],
   "source": [
    "!pip install git+https://github.com/gbolmier/funk-svd"
   ]
  },
  {
   "cell_type": "code",
   "execution_count": null,
   "metadata": {
    "id": "52ZdsYz2rICL"
   },
   "outputs": [],
   "source": [
    "import pandas as pd\n",
    "from funk_svd import SVD"
   ]
  },
  {
   "cell_type": "code",
   "execution_count": null,
   "metadata": {
    "id": "OpYRglFRhfGY"
   },
   "outputs": [],
   "source": [
    "%%time\n",
    "with joblib.parallel_backend('dask'):\n",
    "  movies_df = movies.toPandas()\n",
    "  rating_df = ratings.toPandas()"
   ]
  },
  {
   "cell_type": "code",
   "execution_count": null,
   "metadata": {
    "id": "QmCdvHCsreCQ"
   },
   "outputs": [],
   "source": [
    "movies_df.head(5)"
   ]
  },
  {
   "cell_type": "code",
   "execution_count": null,
   "metadata": {
    "id": "fY4YuRVn0O-C"
   },
   "outputs": [],
   "source": [
    "rating_df.columns = ['u_id', 'i_id', 'rating', 'timestamps']\n",
    "movies_df.columns = ['i_id', 'title', 'genres']\n",
    "rating_df"
   ]
  },
  {
   "cell_type": "code",
   "execution_count": null,
   "metadata": {
    "id": "KV8IKSN_rfRJ"
   },
   "outputs": [],
   "source": [
    "%%time\n",
    "from sklearn.metrics import mean_squared_error, mean_absolute_error\n",
    "# movielens18.drop(columns = 'timestamp', inplace = True)\n",
    "\n",
    "with joblib.parallel_backend('dask'):\n",
    "  train = rating_df.sample(frac=0.8)\n",
    "  val = rating_df.drop(train.index.tolist()).sample(frac=0.5, random_state=8)\n",
    "  test = rating_df.drop(train.index.tolist()).drop(val.index.tolist())"
   ]
  },
  {
   "cell_type": "code",
   "execution_count": null,
   "metadata": {
    "id": "E5hDOidkz_z4"
   },
   "outputs": [],
   "source": [
    "train"
   ]
  },
  {
   "cell_type": "code",
   "execution_count": null,
   "metadata": {
    "id": "qwLqSUT5zFzK"
   },
   "outputs": [],
   "source": [
    "lr, reg, factors = (0.01, 0.03, 90)\n",
    "\n",
    "with joblib.parallel_backend('dask'):\n",
    "  svd = SVD(lr=lr, reg=reg, n_epochs=20, n_factors=factors,\n",
    "            min_rating=0.5, max_rating=5)\n",
    "  svd.fit(X=train, X_val=val)\n",
    "\n",
    "pred = svd.predict(test)\n",
    "mae = mean_absolute_error(test[\"rating\"], pred)\n",
    "rmse = np.sqrt(mean_squared_error(test[\"rating\"], pred))\n",
    "print(\"Test MAE:  {:.2f}\".format(mae))\n",
    "print(\"Test RMSE: {:.2f}\".format(rmse))\n",
    "print('{} factors, {} lr, {} reg'.format(factors, lr, reg))"
   ]
  },
  {
   "cell_type": "markdown",
   "metadata": {
    "id": "bJkCYfVF5b_W"
   },
   "source": [
    "#User Recommendations"
   ]
  },
  {
   "cell_type": "code",
   "execution_count": null,
   "metadata": {
    "id": "DrbPvker4z69"
   },
   "outputs": [],
   "source": [
    "n_m = len(rating_df.i_id.unique())\n",
    "\n",
    "#  Initialize my ratings\n",
    "my_ratings = np.zeros(n_m)\n",
    "\n",
    "\n",
    "my_ratings[4993] = 5\n",
    "my_ratings[1080] = 5\n",
    "my_ratings[260] = 5\n",
    "my_ratings[4896] = 5\n",
    "my_ratings[1196] = 5\n",
    "my_ratings[1210] = 5\n",
    "my_ratings[2628] = 5\n",
    "my_ratings[5378] = 5\n",
    "\n",
    "print('User ratings:')\n",
    "print('-----------------')\n",
    "\n",
    "for i, val in enumerate(my_ratings):\n",
    "    if val > 0:\n",
    "        print('Rated %d stars: %s' % (val, movies_df.loc[movies_df.i_id==i].title.values))"
   ]
  },
  {
   "cell_type": "code",
   "execution_count": null,
   "metadata": {
    "id": "BeOVTG-557mC"
   },
   "outputs": [],
   "source": [
    "\n",
    "print(\"Adding your recommendations!\")\n",
    "items_id = [item[0] for item in np.argwhere(my_ratings>0)]\n",
    "ratings_list = my_ratings[np.where(my_ratings>0)]\n",
    "user_id = np.asarray([0] * len(ratings_list))\n",
    "\n",
    "user_ratings = pd.DataFrame(list(zip(user_id, items_id, ratings_list)), columns=['u_id', 'i_id', 'rating'])\n",
    "\n"
   ]
  },
  {
   "cell_type": "code",
   "execution_count": null,
   "metadata": {
    "id": "irkcdH8x6FRv"
   },
   "outputs": [],
   "source": [
    "try:\n",
    "    rating_df = rating_df.drop(columns=['timestamps'])\n",
    "except:\n",
    "    pass\n",
    "data_with_user = rating_df.append(user_ratings, ignore_index=True)\n",
    "\n",
    "\n",
    "\n",
    "with joblib.parallel_backend('dask'):\n",
    "  train_user = data_with_user.sample(frac=0.8)\n",
    "  val_user = data_with_user.drop(train_user.index.tolist()).sample(frac=0.5, random_state=8)\n",
    "  test_user = data_with_user.drop(train_user.index.tolist()).drop(val_user.index.tolist())\n",
    "\n"
   ]
  },
  {
   "cell_type": "code",
   "execution_count": null,
   "metadata": {
    "id": "SYIKaEAqzMBE"
   },
   "outputs": [],
   "source": [
    "from itertools import product\n",
    "\n",
    "\n",
    "def funk_svd_predict(userID, data_with_user, movies_df):\n",
    "    userID = [userID]\n",
    "\n",
    "    # all_users = data_with_user.u_id.unique()\n",
    "    all_movies = data_with_user.i_id.unique()\n",
    "    recommendations = pd.DataFrame(list(product(userID, all_movies)), columns=['u_id', 'i_id'])\n",
    "\n",
    "    #Getting predictions for the selected userID\n",
    "    pred_train = svd.predict(recommendations)\n",
    "    recommendations['prediction'] = pred_train\n",
    "    recommendations.head(10)\n",
    "\n",
    "    sorted_user_predictions = recommendations.sort_values(by='prediction', ascending=False)\n",
    "\n",
    "    user_ratings = data_with_user[data_with_user.u_id == userID[0]]\n",
    "    user_ratings.columns = ['u_id',\t'i_id', 'rating']\n",
    "    # Recommend the highest predicted rating movies that the user hasn't seen yet.\n",
    "    recommendations = movies_df[~movies_df['i_id'].isin(user_ratings['i_id'])].\\\n",
    "        merge(pd.DataFrame(sorted_user_predictions).reset_index(drop=True), how = 'inner', left_on = 'i_id', right_on = 'i_id').\\\n",
    "        sort_values(by='prediction', ascending = False)#.drop(['i_id'],axis=1)\n",
    "\n",
    "    rated_df = movies_df[movies_df['i_id'].isin(user_ratings['i_id'])].\\\n",
    "        merge(pd.DataFrame(data_with_user).reset_index(drop=True), how = 'inner', left_on = 'i_id', right_on = 'i_id')\n",
    "    rated_df = rated_df.loc[rated_df.u_id==userID[0]].sort_values(by='rating', ascending = False)\n",
    "    \n",
    "    return recommendations, rated_df\n",
    "recommendations, rated_df = funk_svd_predict(0, data_with_user, movies_df)"
   ]
  },
  {
   "cell_type": "code",
   "execution_count": null,
   "metadata": {
    "id": "7TdIy7c48hbU"
   },
   "outputs": [],
   "source": [
    "rated_df"
   ]
  },
  {
   "cell_type": "code",
   "execution_count": null,
   "metadata": {
    "id": "gKy2wIE2_Gkt"
   },
   "outputs": [],
   "source": [
    "recommendations.head(10)"
   ]
  },
  {
   "cell_type": "code",
   "execution_count": null,
   "metadata": {
    "id": "tIE4njIX_OdY"
   },
   "outputs": [],
   "source": []
  },
  {
   "cell_type": "code",
   "execution_count": null,
   "metadata": {
    "id": "WOI-qBp7_Uka"
   },
   "outputs": [],
   "source": []
  }
 ],
 "metadata": {
  "colab": {
   "authorship_tag": "ABX9TyM6tJ32O4dMedy/fJyZtueJ",
   "collapsed_sections": [],
   "include_colab_link": true,
   "name": "Recommendation System BIGDATA.ipynb",
   "provenance": []
  },
  "kernelspec": {
   "display_name": "Python 3 (ipykernel)",
   "language": "python",
   "name": "python3"
  },
  "language_info": {
   "codemirror_mode": {
    "name": "ipython",
    "version": 3
   },
   "file_extension": ".py",
   "mimetype": "text/x-python",
   "name": "python",
   "nbconvert_exporter": "python",
   "pygments_lexer": "ipython3",
   "version": "3.8.10"
  }
 },
 "nbformat": 4,
 "nbformat_minor": 4
}
