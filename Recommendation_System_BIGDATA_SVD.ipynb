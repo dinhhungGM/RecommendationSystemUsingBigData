{
 "cells": [
  {
   "cell_type": "code",
   "execution_count": 1,
   "id": "0aacca57-2d72-4bb5-9c4f-c7755a0250a4",
   "metadata": {},
   "outputs": [
    {
     "name": "stderr",
     "output_type": "stream",
     "text": [
      "21/07/17 14:31:36 WARN Utils: Your hostname, zas resolves to a loopback address: 127.0.1.1; using 192.168.1.225 instead (on interface wlp0s20f3)\n",
      "21/07/17 14:31:36 WARN Utils: Set SPARK_LOCAL_IP if you need to bind to another address\n",
      "WARNING: An illegal reflective access operation has occurred\n",
      "WARNING: Illegal reflective access by org.apache.spark.unsafe.Platform (file:/opt/spark/jars/spark-unsafe_2.12-3.1.1.jar) to constructor java.nio.DirectByteBuffer(long,int)\n",
      "WARNING: Please consider reporting this to the maintainers of org.apache.spark.unsafe.Platform\n",
      "WARNING: Use --illegal-access=warn to enable warnings of further illegal reflective access operations\n",
      "WARNING: All illegal access operations will be denied in a future release\n",
      "21/07/17 14:31:37 WARN NativeCodeLoader: Unable to load native-hadoop library for your platform... using builtin-java classes where applicable\n",
      "Using Spark's default log4j profile: org/apache/spark/log4j-defaults.properties\n",
      "Setting default log level to \"WARN\".\n",
      "To adjust logging level use sc.setLogLevel(newLevel). For SparkR, use setLogLevel(newLevel).\n"
     ]
    }
   ],
   "source": [
    "import joblib\n",
    "import numpy as np\n",
    "from dask.distributed import Client\n",
    "from pyspark.sql.functions import col, explode\n",
    "from pyspark import SparkContext\n",
    "from pyspark.sql import SparkSession\n",
    "from pyspark.ml.evaluation import RegressionEvaluator\n",
    "from pyspark.ml.recommendation import ALS\n",
    "from pyspark.ml.tuning import ParamGridBuilder, CrossValidator\n",
    "# sc = SparkContext\n",
    "# sc.setCheckpointDir('checkpoint')\n",
    "spark = SparkSession.builder.appName('Group 7 - Recommendation System')\\\n",
    ".config('spark.sql.execution.arrow.pyspark.enabled', True)\\\n",
    ".config('spark.driver.memory','8G')\\\n",
    ".config('spark.ui.showConsoleProgress', True)\\\n",
    ".config('spark.sql.repl.eagerEval.enabled', True)\\\n",
    ".getOrCreate()\n",
    "\n",
    "client = Client()"
   ]
  },
  {
   "cell_type": "code",
   "execution_count": 2,
   "id": "95eb7121-c9f6-4ee8-a897-d56a5e0d2828",
   "metadata": {},
   "outputs": [
    {
     "name": "stderr",
     "output_type": "stream",
     "text": [
      "                                                                                \r"
     ]
    }
   ],
   "source": [
    "# Data is downloaded from https://www.kaggle.com/bandikarthik/movie-recommendation-system\n",
    "movies = spark.read.csv('../MovieLens/movie.csv', header=True, inferSchema=True)\n",
    "ratings = spark.read.csv('../MovieLens/rating.csv',  header=True, inferSchema=True)"
   ]
  },
  {
   "cell_type": "code",
   "execution_count": 8,
   "id": "487a1e5c-1d04-4c93-acc8-134935494d47",
   "metadata": {},
   "outputs": [
    {
     "name": "stdout",
     "output_type": "stream",
     "text": [
      "Collecting git+https://github.com/gbolmier/funk-svd\n",
      "  Cloning https://github.com/gbolmier/funk-svd to c:\\users\\zas\\appdata\\local\\temp\\pip-req-build-1hn_yk1s\n",
      "Collecting numba>=0.38.0\n",
      "  Using cached numba-0.53.1-cp39-cp39-win_amd64.whl (2.3 MB)\n",
      "Requirement already satisfied: numpy>=1.14.3 in c:\\python39\\lib\\site-packages (from funk-svd==0.0.1.dev1) (1.21.0)\n",
      "Requirement already satisfied: pandas>=0.23.0 in c:\\python39\\lib\\site-packages (from funk-svd==0.0.1.dev1) (1.3.0)\n"
     ]
    },
    {
     "name": "stderr",
     "output_type": "stream",
     "text": [
      "WARNING: Ignoring invalid distribution -ip (c:\\python39\\lib\\site-packages)\n",
      "WARNING: Ignoring invalid distribution - (c:\\python39\\lib\\site-packages)\n",
      "WARNING: Ignoring invalid distribution -ip (c:\\python39\\lib\\site-packages)\n",
      "WARNING: Ignoring invalid distribution - (c:\\python39\\lib\\site-packages)\n",
      "  Running command git clone -q https://github.com/gbolmier/funk-svd 'C:\\Users\\zas\\AppData\\Local\\Temp\\pip-req-build-1hn_yk1s'\n",
      "ERROR: Package 'funk-svd' requires a different Python: 3.9.5 not in '<=3.9.1,>=3.6.5'\n",
      "WARNING: Ignoring invalid distribution -ip (c:\\python39\\lib\\site-packages)\n",
      "WARNING: Ignoring invalid distribution - (c:\\python39\\lib\\site-packages)\n",
      "WARNING: Ignoring invalid distribution -ip (c:\\python39\\lib\\site-packages)\n",
      "WARNING: Ignoring invalid distribution - (c:\\python39\\lib\\site-packages)\n"
     ]
    }
   ],
   "source": [
    "!pip install git+https://github.com/gbolmier/funk-svd"
   ]
  },
  {
   "cell_type": "code",
   "execution_count": 3,
   "id": "5595da11-42cd-4c7f-b881-bac2325e25fc",
   "metadata": {},
   "outputs": [
    {
     "name": "stderr",
     "output_type": "stream",
     "text": [
      "                                                                                \r"
     ]
    }
   ],
   "source": [
    "import pandas as pd\n",
    "from funk_svd import SVD\n",
    "\n",
    "with joblib.parallel_backend('dask'):\n",
    "    movies_df = movies.toPandas()\n",
    "    rating_df = ratings.toPandas()"
   ]
  },
  {
   "cell_type": "code",
   "execution_count": 4,
   "id": "dead9b73-82d0-40a7-addf-f2cc3e6b382c",
   "metadata": {},
   "outputs": [
    {
     "data": {
      "text/html": [
       "<div>\n",
       "<style scoped>\n",
       "    .dataframe tbody tr th:only-of-type {\n",
       "        vertical-align: middle;\n",
       "    }\n",
       "\n",
       "    .dataframe tbody tr th {\n",
       "        vertical-align: top;\n",
       "    }\n",
       "\n",
       "    .dataframe thead th {\n",
       "        text-align: right;\n",
       "    }\n",
       "</style>\n",
       "<table border=\"1\" class=\"dataframe\">\n",
       "  <thead>\n",
       "    <tr style=\"text-align: right;\">\n",
       "      <th></th>\n",
       "      <th>u_id</th>\n",
       "      <th>i_id</th>\n",
       "      <th>rating</th>\n",
       "      <th>timestamps</th>\n",
       "    </tr>\n",
       "  </thead>\n",
       "  <tbody>\n",
       "    <tr>\n",
       "      <th>0</th>\n",
       "      <td>1</td>\n",
       "      <td>2</td>\n",
       "      <td>3.5</td>\n",
       "      <td>2005-04-02 23:53:47</td>\n",
       "    </tr>\n",
       "    <tr>\n",
       "      <th>1</th>\n",
       "      <td>1</td>\n",
       "      <td>29</td>\n",
       "      <td>3.5</td>\n",
       "      <td>2005-04-02 23:31:16</td>\n",
       "    </tr>\n",
       "    <tr>\n",
       "      <th>2</th>\n",
       "      <td>1</td>\n",
       "      <td>32</td>\n",
       "      <td>3.5</td>\n",
       "      <td>2005-04-02 23:33:39</td>\n",
       "    </tr>\n",
       "    <tr>\n",
       "      <th>3</th>\n",
       "      <td>1</td>\n",
       "      <td>47</td>\n",
       "      <td>3.5</td>\n",
       "      <td>2005-04-02 23:32:07</td>\n",
       "    </tr>\n",
       "    <tr>\n",
       "      <th>4</th>\n",
       "      <td>1</td>\n",
       "      <td>50</td>\n",
       "      <td>3.5</td>\n",
       "      <td>2005-04-02 23:29:40</td>\n",
       "    </tr>\n",
       "    <tr>\n",
       "      <th>...</th>\n",
       "      <td>...</td>\n",
       "      <td>...</td>\n",
       "      <td>...</td>\n",
       "      <td>...</td>\n",
       "    </tr>\n",
       "    <tr>\n",
       "      <th>20000258</th>\n",
       "      <td>138493</td>\n",
       "      <td>68954</td>\n",
       "      <td>4.5</td>\n",
       "      <td>2009-11-13 15:42:00</td>\n",
       "    </tr>\n",
       "    <tr>\n",
       "      <th>20000259</th>\n",
       "      <td>138493</td>\n",
       "      <td>69526</td>\n",
       "      <td>4.5</td>\n",
       "      <td>2009-12-03 18:31:48</td>\n",
       "    </tr>\n",
       "    <tr>\n",
       "      <th>20000260</th>\n",
       "      <td>138493</td>\n",
       "      <td>69644</td>\n",
       "      <td>3.0</td>\n",
       "      <td>2009-12-07 18:10:57</td>\n",
       "    </tr>\n",
       "    <tr>\n",
       "      <th>20000261</th>\n",
       "      <td>138493</td>\n",
       "      <td>70286</td>\n",
       "      <td>5.0</td>\n",
       "      <td>2009-11-13 15:42:24</td>\n",
       "    </tr>\n",
       "    <tr>\n",
       "      <th>20000262</th>\n",
       "      <td>138493</td>\n",
       "      <td>71619</td>\n",
       "      <td>2.5</td>\n",
       "      <td>2009-10-17 20:25:36</td>\n",
       "    </tr>\n",
       "  </tbody>\n",
       "</table>\n",
       "<p>20000263 rows × 4 columns</p>\n",
       "</div>"
      ],
      "text/plain": [
       "            u_id   i_id  rating           timestamps\n",
       "0              1      2     3.5  2005-04-02 23:53:47\n",
       "1              1     29     3.5  2005-04-02 23:31:16\n",
       "2              1     32     3.5  2005-04-02 23:33:39\n",
       "3              1     47     3.5  2005-04-02 23:32:07\n",
       "4              1     50     3.5  2005-04-02 23:29:40\n",
       "...          ...    ...     ...                  ...\n",
       "20000258  138493  68954     4.5  2009-11-13 15:42:00\n",
       "20000259  138493  69526     4.5  2009-12-03 18:31:48\n",
       "20000260  138493  69644     3.0  2009-12-07 18:10:57\n",
       "20000261  138493  70286     5.0  2009-11-13 15:42:24\n",
       "20000262  138493  71619     2.5  2009-10-17 20:25:36\n",
       "\n",
       "[20000263 rows x 4 columns]"
      ]
     },
     "execution_count": 4,
     "metadata": {},
     "output_type": "execute_result"
    }
   ],
   "source": [
    "rating_df.columns = ['u_id', 'i_id', 'rating', 'timestamps']\n",
    "movies_df.columns = ['i_id', 'title', 'genres']\n",
    "rating_df"
   ]
  },
  {
   "cell_type": "code",
   "execution_count": 5,
   "id": "839ec3c5-58ef-45cd-b7f4-cdd06a4d84fa",
   "metadata": {},
   "outputs": [],
   "source": [
    "from sklearn.metrics import mean_squared_error, mean_absolute_error\n",
    "# movielens18.drop(columns = 'timestamp', inplace = True)\n",
    "\n",
    "with joblib.parallel_backend('dask'):\n",
    "  train = rating_df.sample(frac=0.8)\n",
    "  val = rating_df.drop(train.index.tolist()).sample(frac=0.5, random_state=8)\n",
    "  test = rating_df.drop(train.index.tolist()).drop(val.index.tolist())"
   ]
  },
  {
   "cell_type": "code",
   "execution_count": 8,
   "id": "80335450-b2f5-408b-bc66-0d137dcd3ab2",
   "metadata": {},
   "outputs": [
    {
     "name": "stdout",
     "output_type": "stream",
     "text": [
      "Preprocessing data...\n",
      "\n",
      "Preprocessing data...\n",
      "\n",
      "Epoch 1/20  | val_loss: 0.76 - val_rmse: 0.87 - val_mae: 0.67 - took 5.9 sec\n",
      "Epoch 2/20  | val_loss: 0.73 - val_rmse: 0.86 - val_mae: 0.66 - took 5.9 sec\n",
      "Epoch 3/20  | val_loss: 0.71 - val_rmse: 0.84 - val_mae: 0.65 - took 5.9 sec\n",
      "Epoch 4/20  | val_loss: 0.69 - val_rmse: 0.83 - val_mae: 0.64 - took 5.9 sec\n",
      "Epoch 5/20  | val_loss: 0.67 - val_rmse: 0.82 - val_mae: 0.63 - took 7.0 sec\n",
      "Epoch 6/20  | val_loss: 0.66 - val_rmse: 0.81 - val_mae: 0.62 - took 7.3 sec\n",
      "Epoch 7/20  | val_loss: 0.65 - val_rmse: 0.80 - val_mae: 0.62 - took 6.1 sec\n",
      "Epoch 8/20  | val_loss: 0.64 - val_rmse: 0.80 - val_mae: 0.61 - took 7.0 sec\n",
      "Epoch 9/20  | val_loss: 0.63 - val_rmse: 0.79 - val_mae: 0.61 - took 6.0 sec\n",
      "Epoch 10/20 | val_loss: 0.62 - val_rmse: 0.79 - val_mae: 0.60 - took 6.0 sec\n",
      "Epoch 11/20 | val_loss: 0.62 - val_rmse: 0.79 - val_mae: 0.60 - took 6.0 sec\n",
      "Epoch 12/20 | val_loss: 0.62 - val_rmse: 0.79 - val_mae: 0.60 - took 6.1 sec\n",
      "Epoch 13/20 | val_loss: 0.61 - val_rmse: 0.78 - val_mae: 0.60 - took 6.0 sec\n",
      "Epoch 14/20 | val_loss: 0.61 - val_rmse: 0.78 - val_mae: 0.60 - took 6.1 sec\n",
      "Epoch 15/20 | val_loss: 0.61 - val_rmse: 0.78 - val_mae: 0.60 - took 6.8 sec\n",
      "Epoch 16/20 | val_loss: 0.61 - val_rmse: 0.78 - val_mae: 0.59 - took 6.3 sec\n",
      "Epoch 17/20 | val_loss: 0.61 - val_rmse: 0.78 - val_mae: 0.59 - took 6.7 sec\n",
      "Epoch 18/20 | val_loss: 0.60 - val_rmse: 0.78 - val_mae: 0.59 - took 7.2 sec\n",
      "Epoch 19/20 | val_loss: 0.60 - val_rmse: 0.78 - val_mae: 0.59 - took 7.7 sec\n",
      "Epoch 20/20 | val_loss: 0.60 - val_rmse: 0.78 - val_mae: 0.59 - took 6.9 sec\n",
      "\n",
      "Training took 2 min and 19 sec\n",
      "Test MAE:  0.59\n",
      "Test RMSE: 0.78\n",
      "90 factors, 0.01 lr, 0.03 reg\n"
     ]
    }
   ],
   "source": [
    "lr, reg, factors = (0.01, 0.03, 90)\n",
    "\n",
    "with joblib.parallel_backend('dask'):\n",
    "  svd = SVD(lr=lr, reg=reg, n_epochs=20, n_factors=factors,\n",
    "            min_rating=0.5, max_rating=5)\n",
    "  svd.fit(X=train, X_val=val)\n",
    "\n",
    "pred = svd.predict(test)\n",
    "mae = mean_absolute_error(test[\"rating\"], pred)\n",
    "rmse = np.sqrt(mean_squared_error(test[\"rating\"], pred))\n",
    "print(\"Test MAE:  {:.2f}\".format(mae))\n",
    "print(\"Test RMSE: {:.2f}\".format(rmse))\n",
    "print('{} factors, {} lr, {} reg'.format(factors, lr, reg))"
   ]
  },
  {
   "cell_type": "code",
   "execution_count": 17,
   "id": "08475570-f567-43f1-b4c6-1b375f4cbf74",
   "metadata": {},
   "outputs": [
    {
     "name": "stdout",
     "output_type": "stream",
     "text": [
      "User ratings:\n",
      "-----------------\n",
      "Rated 5 stars: ['Star Wars: Episode IV - A New Hope (1977)']\n",
      "Rated 5 stars: [\"Monty Python's Life of Brian (1979)\"]\n",
      "Rated 5 stars: ['Star Wars: Episode V - The Empire Strikes Back (1980)']\n",
      "Rated 5 stars: ['Star Wars: Episode VI - Return of the Jedi (1983)']\n",
      "Rated 5 stars: ['Star Wars: Episode I - The Phantom Menace (1999)']\n",
      "Rated 5 stars: [\"Harry Potter and the Sorcerer's Stone (a.k.a. Harry Potter and the Philosopher's Stone) (2001)\"]\n",
      "Rated 5 stars: ['Lord of the Rings: The Fellowship of the Ring, The (2001)']\n",
      "Rated 5 stars: ['Star Wars: Episode II - Attack of the Clones (2002)']\n"
     ]
    }
   ],
   "source": [
    "n_m = len(rating_df.i_id.unique())\n",
    "\n",
    "#  Initialize my ratings\n",
    "my_ratings = np.zeros(n_m)\n",
    "\n",
    "\n",
    "my_ratings[4993] = 5\n",
    "my_ratings[1080] = 5\n",
    "my_ratings[260] = 5\n",
    "my_ratings[4896] = 5\n",
    "my_ratings[1196] = 5\n",
    "my_ratings[1210] = 5\n",
    "my_ratings[2628] = 5\n",
    "my_ratings[5378] = 5\n",
    "\n",
    "print('User ratings:')\n",
    "print('-----------------')\n",
    "\n",
    "for i, val in enumerate(my_ratings):\n",
    "    if val > 0:\n",
    "        print('Rated %d stars: %s' % (val, movies_df.loc[movies_df.i_id==i].title.values))"
   ]
  },
  {
   "cell_type": "code",
   "execution_count": 18,
   "id": "dc2542dd-f44b-4b83-9b76-b10af71cbe83",
   "metadata": {},
   "outputs": [
    {
     "name": "stdout",
     "output_type": "stream",
     "text": [
      "Adding your recommendations!\n"
     ]
    }
   ],
   "source": [
    "\n",
    "print(\"Adding your recommendations!\")\n",
    "items_id = [item[0] for item in np.argwhere(my_ratings>0)]\n",
    "ratings_list = my_ratings[np.where(my_ratings>0)]\n",
    "user_id = np.asarray([0] * len(ratings_list))\n",
    "\n",
    "user_ratings = pd.DataFrame(list(zip(user_id, items_id, ratings_list)), columns=['u_id', 'i_id', 'rating'])\n",
    "\n"
   ]
  },
  {
   "cell_type": "code",
   "execution_count": 19,
   "id": "eab334c2-dad0-4bbc-8bc0-906421d7e8f0",
   "metadata": {},
   "outputs": [],
   "source": [
    "try:\n",
    "    rating_df = rating_df.drop(columns=['timestamps'])\n",
    "except:\n",
    "    pass\n",
    "data_with_user = rating_df.append(user_ratings, ignore_index=True)\n",
    "\n",
    "\n",
    "\n",
    "with joblib.parallel_backend('dask'):\n",
    "  train_user = data_with_user.sample(frac=0.8)\n",
    "  val_user = data_with_user.drop(train_user.index.tolist()).sample(frac=0.5, random_state=8)\n",
    "  test_user = data_with_user.drop(train_user.index.tolist()).drop(val_user.index.tolist())\n",
    "\n"
   ]
  },
  {
   "cell_type": "code",
   "execution_count": 15,
   "id": "53ba16f3-3e09-4845-9a37-5f49eeabde6e",
   "metadata": {},
   "outputs": [],
   "source": [
    "from itertools import product\n",
    "\n",
    "\n",
    "def funk_svd_predict(userID, data_with_user, movies_df):\n",
    "    userID = [userID]\n",
    "\n",
    "    # all_users = data_with_user.u_id.unique()\n",
    "    all_movies = data_with_user.i_id.unique()\n",
    "    recommendations = pd.DataFrame(list(product(userID, all_movies)), columns=['u_id', 'i_id'])\n",
    "\n",
    "    #Getting predictions for the selected userID\n",
    "    pred_train = svd.predict(recommendations)\n",
    "    recommendations['prediction'] = pred_train\n",
    "    recommendations.head(10)\n",
    "\n",
    "    sorted_user_predictions = recommendations.sort_values(by='prediction', ascending=False)\n",
    "\n",
    "    user_ratings = data_with_user[data_with_user.u_id == userID[0]]\n",
    "    user_ratings.columns = ['u_id',\t'i_id', 'rating']\n",
    "    # Recommend the highest predicted rating movies that the user hasn't seen yet.\n",
    "    recommendations = movies_df[~movies_df['i_id'].isin(user_ratings['i_id'])].\\\n",
    "        merge(pd.DataFrame(sorted_user_predictions).reset_index(drop=True), how = 'inner', left_on = 'i_id', right_on = 'i_id').\\\n",
    "        sort_values(by='prediction', ascending = False)#.drop(['i_id'],axis=1)\n",
    "\n",
    "    rated_df = movies_df[movies_df['i_id'].isin(user_ratings['i_id'])].\\\n",
    "        merge(pd.DataFrame(data_with_user).reset_index(drop=True), how = 'inner', left_on = 'i_id', right_on = 'i_id')\n",
    "    rated_df = rated_df.loc[rated_df.u_id==userID[0]].sort_values(by='rating', ascending = False)\n",
    "    \n",
    "    return recommendations, rated_df\n"
   ]
  },
  {
   "cell_type": "code",
   "execution_count": 20,
   "id": "ba7a979c-4451-4b19-a647-410c924c81ba",
   "metadata": {},
   "outputs": [
    {
     "name": "stderr",
     "output_type": "stream",
     "text": [
      "                                                                                \r"
     ]
    },
    {
     "data": {
      "text/html": [
       "<table border='1'>\n",
       "<tr><th>movieId</th><th>userId</th><th>rating</th><th>timestamp</th><th>title</th><th>genres</th></tr>\n",
       "<tr><td>50</td><td>100</td><td>5.0</td><td>1996-06-25 16:24:49</td><td>Usual Suspects, T...</td><td>Crime|Mystery|Thr...</td></tr>\n",
       "<tr><td>293</td><td>100</td><td>5.0</td><td>1996-06-25 16:28:27</td><td>Léon: The Profess...</td><td>Action|Crime|Dram...</td></tr>\n",
       "<tr><td>680</td><td>100</td><td>5.0</td><td>1996-06-25 16:58:31</td><td>Alphaville (Alpha...</td><td>Drama|Mystery|Rom...</td></tr>\n",
       "<tr><td>1449</td><td>100</td><td>5.0</td><td>1997-06-09 16:38:17</td><td>Waiting for Guffm...</td><td>Comedy</td></tr>\n",
       "<tr><td>235</td><td>100</td><td>4.0</td><td>1996-06-25 16:28:27</td><td>Ed Wood (1994)</td><td>Comedy|Drama</td></tr>\n",
       "<tr><td>162</td><td>100</td><td>4.0</td><td>1996-06-25 16:43:19</td><td>Crumb (1994)</td><td>Documentary</td></tr>\n",
       "<tr><td>223</td><td>100</td><td>4.0</td><td>1996-06-25 16:31:02</td><td>Clerks (1994)</td><td>Comedy</td></tr>\n",
       "<tr><td>260</td><td>100</td><td>4.0</td><td>1997-06-09 16:40:56</td><td>Star Wars: Episod...</td><td>Action|Adventure|...</td></tr>\n",
       "<tr><td>265</td><td>100</td><td>4.0</td><td>1996-06-25 16:29:49</td><td>Like Water for Ch...</td><td>Drama|Fantasy|Rom...</td></tr>\n",
       "<tr><td>288</td><td>100</td><td>4.0</td><td>1996-06-25 16:24:07</td><td>Natural Born Kill...</td><td>Action|Crime|Thri...</td></tr>\n",
       "</table>\n"
      ],
      "text/plain": [
       "+-------+------+------+-------------------+--------------------+--------------------+\n",
       "|movieId|userId|rating|          timestamp|               title|              genres|\n",
       "+-------+------+------+-------------------+--------------------+--------------------+\n",
       "|     50|   100|   5.0|1996-06-25 16:24:49|Usual Suspects, T...|Crime|Mystery|Thr...|\n",
       "|    293|   100|   5.0|1996-06-25 16:28:27|Léon: The Profess...|Action|Crime|Dram...|\n",
       "|    680|   100|   5.0|1996-06-25 16:58:31|Alphaville (Alpha...|Drama|Mystery|Rom...|\n",
       "|   1449|   100|   5.0|1997-06-09 16:38:17|Waiting for Guffm...|              Comedy|\n",
       "|    235|   100|   4.0|1996-06-25 16:28:27|      Ed Wood (1994)|        Comedy|Drama|\n",
       "|    162|   100|   4.0|1996-06-25 16:43:19|        Crumb (1994)|         Documentary|\n",
       "|    223|   100|   4.0|1996-06-25 16:31:02|       Clerks (1994)|              Comedy|\n",
       "|    260|   100|   4.0|1997-06-09 16:40:56|Star Wars: Episod...|Action|Adventure|...|\n",
       "|    265|   100|   4.0|1996-06-25 16:29:49|Like Water for Ch...|Drama|Fantasy|Rom...|\n",
       "|    288|   100|   4.0|1996-06-25 16:24:07|Natural Born Kill...|Action|Crime|Thri...|\n",
       "+-------+------+------+-------------------+--------------------+--------------------+"
      ]
     },
     "execution_count": 20,
     "metadata": {},
     "output_type": "execute_result"
    }
   ],
   "source": [
    "ratings.join(movies, on='movieId').filter('userId = 100') \\\n",
    ".sort('rating', ascending=False).limit(10)"
   ]
  },
  {
   "cell_type": "code",
   "execution_count": 21,
   "id": "14676a29-496d-4481-b239-e0046d633021",
   "metadata": {},
   "outputs": [
    {
     "data": {
      "text/html": [
       "<div>\n",
       "<style scoped>\n",
       "    .dataframe tbody tr th:only-of-type {\n",
       "        vertical-align: middle;\n",
       "    }\n",
       "\n",
       "    .dataframe tbody tr th {\n",
       "        vertical-align: top;\n",
       "    }\n",
       "\n",
       "    .dataframe thead th {\n",
       "        text-align: right;\n",
       "    }\n",
       "</style>\n",
       "<table border=\"1\" class=\"dataframe\">\n",
       "  <thead>\n",
       "    <tr style=\"text-align: right;\">\n",
       "      <th></th>\n",
       "      <th>i_id</th>\n",
       "      <th>title</th>\n",
       "      <th>genres</th>\n",
       "      <th>u_id</th>\n",
       "      <th>prediction</th>\n",
       "    </tr>\n",
       "  </thead>\n",
       "  <tbody>\n",
       "    <tr>\n",
       "      <th>20420</th>\n",
       "      <td>100556</td>\n",
       "      <td>Act of Killing, The (2012)</td>\n",
       "      <td>Documentary</td>\n",
       "      <td>100</td>\n",
       "      <td>4.680756</td>\n",
       "    </tr>\n",
       "    <tr>\n",
       "      <th>5467</th>\n",
       "      <td>5618</td>\n",
       "      <td>Spirited Away (Sen to Chihiro no kamikakushi) ...</td>\n",
       "      <td>Adventure|Animation|Fantasy</td>\n",
       "      <td>100</td>\n",
       "      <td>4.602811</td>\n",
       "    </tr>\n",
       "    <tr>\n",
       "      <th>202</th>\n",
       "      <td>214</td>\n",
       "      <td>Before the Rain (Pred dozhdot) (1994)</td>\n",
       "      <td>Drama|War</td>\n",
       "      <td>100</td>\n",
       "      <td>4.589975</td>\n",
       "    </tr>\n",
       "    <tr>\n",
       "      <th>18887</th>\n",
       "      <td>94466</td>\n",
       "      <td>Black Mirror (2011)</td>\n",
       "      <td>Drama|Sci-Fi</td>\n",
       "      <td>100</td>\n",
       "      <td>4.542922</td>\n",
       "    </tr>\n",
       "    <tr>\n",
       "      <th>13127</th>\n",
       "      <td>64241</td>\n",
       "      <td>Lonely Wife, The (Charulata) (1964)</td>\n",
       "      <td>Drama|Romance</td>\n",
       "      <td>100</td>\n",
       "      <td>4.518235</td>\n",
       "    </tr>\n",
       "    <tr>\n",
       "      <th>20419</th>\n",
       "      <td>100553</td>\n",
       "      <td>Frozen Planet (2011)</td>\n",
       "      <td>Documentary</td>\n",
       "      <td>100</td>\n",
       "      <td>4.512393</td>\n",
       "    </tr>\n",
       "    <tr>\n",
       "      <th>8799</th>\n",
       "      <td>26453</td>\n",
       "      <td>Smiley's People (1982)</td>\n",
       "      <td>Drama|Mystery</td>\n",
       "      <td>100</td>\n",
       "      <td>4.511136</td>\n",
       "    </tr>\n",
       "    <tr>\n",
       "      <th>4131</th>\n",
       "      <td>4278</td>\n",
       "      <td>Triumph of the Will (Triumph des Willens) (1934)</td>\n",
       "      <td>Documentary</td>\n",
       "      <td>100</td>\n",
       "      <td>4.506769</td>\n",
       "    </tr>\n",
       "    <tr>\n",
       "      <th>15136</th>\n",
       "      <td>77658</td>\n",
       "      <td>Cosmos (1980)</td>\n",
       "      <td>Documentary</td>\n",
       "      <td>100</td>\n",
       "      <td>4.495588</td>\n",
       "    </tr>\n",
       "    <tr>\n",
       "      <th>2793</th>\n",
       "      <td>2931</td>\n",
       "      <td>Time of the Gypsies (Dom za vesanje) (1989)</td>\n",
       "      <td>Comedy|Crime|Drama|Fantasy</td>\n",
       "      <td>100</td>\n",
       "      <td>4.492110</td>\n",
       "    </tr>\n",
       "  </tbody>\n",
       "</table>\n",
       "</div>"
      ],
      "text/plain": [
       "         i_id                                              title  \\\n",
       "20420  100556                         Act of Killing, The (2012)   \n",
       "5467     5618  Spirited Away (Sen to Chihiro no kamikakushi) ...   \n",
       "202       214              Before the Rain (Pred dozhdot) (1994)   \n",
       "18887   94466                                Black Mirror (2011)   \n",
       "13127   64241                Lonely Wife, The (Charulata) (1964)   \n",
       "20419  100553                               Frozen Planet (2011)   \n",
       "8799    26453                             Smiley's People (1982)   \n",
       "4131     4278   Triumph of the Will (Triumph des Willens) (1934)   \n",
       "15136   77658                                      Cosmos (1980)   \n",
       "2793     2931        Time of the Gypsies (Dom za vesanje) (1989)   \n",
       "\n",
       "                            genres  u_id  prediction  \n",
       "20420                  Documentary   100    4.680756  \n",
       "5467   Adventure|Animation|Fantasy   100    4.602811  \n",
       "202                      Drama|War   100    4.589975  \n",
       "18887                 Drama|Sci-Fi   100    4.542922  \n",
       "13127                Drama|Romance   100    4.518235  \n",
       "20419                  Documentary   100    4.512393  \n",
       "8799                 Drama|Mystery   100    4.511136  \n",
       "4131                   Documentary   100    4.506769  \n",
       "15136                  Documentary   100    4.495588  \n",
       "2793    Comedy|Crime|Drama|Fantasy   100    4.492110  "
      ]
     },
     "execution_count": 21,
     "metadata": {},
     "output_type": "execute_result"
    }
   ],
   "source": [
    "## Recommend for user 100\n",
    "recommendations, rated_df = funk_svd_predict(100, rating_df, movies_df)\n",
    "recommendations.head(10)"
   ]
  },
  {
   "cell_type": "code",
   "execution_count": null,
   "id": "994610db-eeff-42ba-867a-d6b6eadb0cf0",
   "metadata": {},
   "outputs": [],
   "source": []
  }
 ],
 "metadata": {
  "kernelspec": {
   "display_name": "Python 3",
   "language": "python",
   "name": "python3"
  },
  "language_info": {
   "codemirror_mode": {
    "name": "ipython",
    "version": 3
   },
   "file_extension": ".py",
   "mimetype": "text/x-python",
   "name": "python",
   "nbconvert_exporter": "python",
   "pygments_lexer": "ipython3",
   "version": "3.9.5"
  }
 },
 "nbformat": 4,
 "nbformat_minor": 5
}
