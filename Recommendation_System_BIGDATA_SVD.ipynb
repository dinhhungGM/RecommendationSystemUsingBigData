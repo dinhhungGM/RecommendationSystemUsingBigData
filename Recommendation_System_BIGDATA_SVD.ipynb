{
 "cells": [
  {
   "cell_type": "code",
   "execution_count": 2,
   "id": "0aacca57-2d72-4bb5-9c4f-c7755a0250a4",
   "metadata": {},
   "outputs": [],
   "source": [
    "import joblib\n",
    "import numpy as np\n",
    "from dask.distributed import Client\n",
    "from pyspark.sql.functions import col, explode\n",
    "from pyspark import SparkContext\n",
    "from pyspark.sql import SparkSession\n",
    "from pyspark.ml.evaluation import RegressionEvaluator\n",
    "from pyspark.ml.recommendation import ALS\n",
    "from pyspark.ml.tuning import ParamGridBuilder, CrossValidator\n",
    "# sc = SparkContext\n",
    "# sc.setCheckpointDir('checkpoint')\n",
    "spark = SparkSession.builder.appName('Group 7 - Recommendation System')\\\n",
    ".config('spark.sql.execution.arrow.pyspark.enabled', True)\\\n",
    ".config('spark.driver.memory','8G')\\\n",
    ".config('spark.ui.showConsoleProgress', True)\\\n",
    ".config('spark.sql.repl.eagerEval.enabled', True)\\\n",
    ".getOrCreate()\n",
    "\n",
    "client = Client()"
   ]
  },
  {
   "cell_type": "code",
   "execution_count": 3,
   "id": "95eb7121-c9f6-4ee8-a897-d56a5e0d2828",
   "metadata": {},
   "outputs": [],
   "source": [
    "# Data is downloaded from https://www.kaggle.com/bandikarthik/movie-recommendation-system\n",
    "movies = spark.read.csv('../MovieLens/movie.csv', header=True, inferSchema=True)\n",
    "ratings = spark.read.csv('../MovieLens/rating.csv',  header=True, inferSchema=True)"
   ]
  },
  {
   "cell_type": "code",
   "execution_count": 8,
   "id": "487a1e5c-1d04-4c93-acc8-134935494d47",
   "metadata": {},
   "outputs": [
    {
     "name": "stdout",
     "output_type": "stream",
     "text": [
      "Collecting git+https://github.com/gbolmier/funk-svd\n",
      "  Cloning https://github.com/gbolmier/funk-svd to c:\\users\\zas\\appdata\\local\\temp\\pip-req-build-1hn_yk1s\n",
      "Collecting numba>=0.38.0\n",
      "  Using cached numba-0.53.1-cp39-cp39-win_amd64.whl (2.3 MB)\n",
      "Requirement already satisfied: numpy>=1.14.3 in c:\\python39\\lib\\site-packages (from funk-svd==0.0.1.dev1) (1.21.0)\n",
      "Requirement already satisfied: pandas>=0.23.0 in c:\\python39\\lib\\site-packages (from funk-svd==0.0.1.dev1) (1.3.0)\n"
     ]
    },
    {
     "name": "stderr",
     "output_type": "stream",
     "text": [
      "WARNING: Ignoring invalid distribution -ip (c:\\python39\\lib\\site-packages)\n",
      "WARNING: Ignoring invalid distribution - (c:\\python39\\lib\\site-packages)\n",
      "WARNING: Ignoring invalid distribution -ip (c:\\python39\\lib\\site-packages)\n",
      "WARNING: Ignoring invalid distribution - (c:\\python39\\lib\\site-packages)\n",
      "  Running command git clone -q https://github.com/gbolmier/funk-svd 'C:\\Users\\zas\\AppData\\Local\\Temp\\pip-req-build-1hn_yk1s'\n",
      "ERROR: Package 'funk-svd' requires a different Python: 3.9.5 not in '<=3.9.1,>=3.6.5'\n",
      "WARNING: Ignoring invalid distribution -ip (c:\\python39\\lib\\site-packages)\n",
      "WARNING: Ignoring invalid distribution - (c:\\python39\\lib\\site-packages)\n",
      "WARNING: Ignoring invalid distribution -ip (c:\\python39\\lib\\site-packages)\n",
      "WARNING: Ignoring invalid distribution - (c:\\python39\\lib\\site-packages)\n"
     ]
    }
   ],
   "source": [
    "!pip install git+https://github.com/gbolmier/funk-svd"
   ]
  },
  {
   "cell_type": "code",
   "execution_count": 9,
   "id": "5595da11-42cd-4c7f-b881-bac2325e25fc",
   "metadata": {},
   "outputs": [
    {
     "ename": "ModuleNotFoundError",
     "evalue": "No module named 'funk_svd'",
     "output_type": "error",
     "traceback": [
      "\u001b[1;31m---------------------------------------------------------------------------\u001b[0m",
      "\u001b[1;31mModuleNotFoundError\u001b[0m                       Traceback (most recent call last)",
      "\u001b[1;32m<ipython-input-9-f65e5031cfd5>\u001b[0m in \u001b[0;36m<module>\u001b[1;34m\u001b[0m\n\u001b[0;32m      1\u001b[0m \u001b[1;32mimport\u001b[0m \u001b[0mpandas\u001b[0m \u001b[1;32mas\u001b[0m \u001b[0mpd\u001b[0m\u001b[1;33m\u001b[0m\u001b[1;33m\u001b[0m\u001b[0m\n\u001b[1;32m----> 2\u001b[1;33m \u001b[1;32mfrom\u001b[0m \u001b[0mfunk_svd\u001b[0m \u001b[1;32mimport\u001b[0m \u001b[0mSVD\u001b[0m\u001b[1;33m\u001b[0m\u001b[1;33m\u001b[0m\u001b[0m\n\u001b[0m\u001b[0;32m      3\u001b[0m \u001b[1;33m\u001b[0m\u001b[0m\n\u001b[0;32m      4\u001b[0m \u001b[1;32mwith\u001b[0m \u001b[0mjoblib\u001b[0m\u001b[1;33m.\u001b[0m\u001b[0mparallel_backend\u001b[0m\u001b[1;33m(\u001b[0m\u001b[1;34m'dask'\u001b[0m\u001b[1;33m)\u001b[0m\u001b[1;33m:\u001b[0m\u001b[1;33m\u001b[0m\u001b[1;33m\u001b[0m\u001b[0m\n\u001b[0;32m      5\u001b[0m     \u001b[0mmovies_df\u001b[0m \u001b[1;33m=\u001b[0m \u001b[0mmovies\u001b[0m\u001b[1;33m.\u001b[0m\u001b[0mtoPandas\u001b[0m\u001b[1;33m(\u001b[0m\u001b[1;33m)\u001b[0m\u001b[1;33m\u001b[0m\u001b[1;33m\u001b[0m\u001b[0m\n",
      "\u001b[1;31mModuleNotFoundError\u001b[0m: No module named 'funk_svd'"
     ]
    }
   ],
   "source": [
    "import pandas as pd\n",
    "from funk_svd import SVD\n",
    "\n",
    "with joblib.parallel_backend('dask'):\n",
    "    movies_df = movies.toPandas()\n",
    "    rating_df = ratings.toPandas()"
   ]
  },
  {
   "cell_type": "code",
   "execution_count": 4,
   "id": "dead9b73-82d0-40a7-addf-f2cc3e6b382c",
   "metadata": {},
   "outputs": [
    {
     "data": {
      "text/html": [
       "<div>\n",
       "<style scoped>\n",
       "    .dataframe tbody tr th:only-of-type {\n",
       "        vertical-align: middle;\n",
       "    }\n",
       "\n",
       "    .dataframe tbody tr th {\n",
       "        vertical-align: top;\n",
       "    }\n",
       "\n",
       "    .dataframe thead th {\n",
       "        text-align: right;\n",
       "    }\n",
       "</style>\n",
       "<table border=\"1\" class=\"dataframe\">\n",
       "  <thead>\n",
       "    <tr style=\"text-align: right;\">\n",
       "      <th></th>\n",
       "      <th>u_id</th>\n",
       "      <th>i_id</th>\n",
       "      <th>rating</th>\n",
       "      <th>timestamps</th>\n",
       "    </tr>\n",
       "  </thead>\n",
       "  <tbody>\n",
       "    <tr>\n",
       "      <th>0</th>\n",
       "      <td>1</td>\n",
       "      <td>2</td>\n",
       "      <td>3.5</td>\n",
       "      <td>2005-04-02 23:53:47</td>\n",
       "    </tr>\n",
       "    <tr>\n",
       "      <th>1</th>\n",
       "      <td>1</td>\n",
       "      <td>29</td>\n",
       "      <td>3.5</td>\n",
       "      <td>2005-04-02 23:31:16</td>\n",
       "    </tr>\n",
       "    <tr>\n",
       "      <th>2</th>\n",
       "      <td>1</td>\n",
       "      <td>32</td>\n",
       "      <td>3.5</td>\n",
       "      <td>2005-04-02 23:33:39</td>\n",
       "    </tr>\n",
       "    <tr>\n",
       "      <th>3</th>\n",
       "      <td>1</td>\n",
       "      <td>47</td>\n",
       "      <td>3.5</td>\n",
       "      <td>2005-04-02 23:32:07</td>\n",
       "    </tr>\n",
       "    <tr>\n",
       "      <th>4</th>\n",
       "      <td>1</td>\n",
       "      <td>50</td>\n",
       "      <td>3.5</td>\n",
       "      <td>2005-04-02 23:29:40</td>\n",
       "    </tr>\n",
       "    <tr>\n",
       "      <th>...</th>\n",
       "      <td>...</td>\n",
       "      <td>...</td>\n",
       "      <td>...</td>\n",
       "      <td>...</td>\n",
       "    </tr>\n",
       "    <tr>\n",
       "      <th>20000258</th>\n",
       "      <td>138493</td>\n",
       "      <td>68954</td>\n",
       "      <td>4.5</td>\n",
       "      <td>2009-11-13 15:42:00</td>\n",
       "    </tr>\n",
       "    <tr>\n",
       "      <th>20000259</th>\n",
       "      <td>138493</td>\n",
       "      <td>69526</td>\n",
       "      <td>4.5</td>\n",
       "      <td>2009-12-03 18:31:48</td>\n",
       "    </tr>\n",
       "    <tr>\n",
       "      <th>20000260</th>\n",
       "      <td>138493</td>\n",
       "      <td>69644</td>\n",
       "      <td>3.0</td>\n",
       "      <td>2009-12-07 18:10:57</td>\n",
       "    </tr>\n",
       "    <tr>\n",
       "      <th>20000261</th>\n",
       "      <td>138493</td>\n",
       "      <td>70286</td>\n",
       "      <td>5.0</td>\n",
       "      <td>2009-11-13 15:42:24</td>\n",
       "    </tr>\n",
       "    <tr>\n",
       "      <th>20000262</th>\n",
       "      <td>138493</td>\n",
       "      <td>71619</td>\n",
       "      <td>2.5</td>\n",
       "      <td>2009-10-17 20:25:36</td>\n",
       "    </tr>\n",
       "  </tbody>\n",
       "</table>\n",
       "<p>20000263 rows × 4 columns</p>\n",
       "</div>"
      ],
      "text/plain": [
       "            u_id   i_id  rating           timestamps\n",
       "0              1      2     3.5  2005-04-02 23:53:47\n",
       "1              1     29     3.5  2005-04-02 23:31:16\n",
       "2              1     32     3.5  2005-04-02 23:33:39\n",
       "3              1     47     3.5  2005-04-02 23:32:07\n",
       "4              1     50     3.5  2005-04-02 23:29:40\n",
       "...          ...    ...     ...                  ...\n",
       "20000258  138493  68954     4.5  2009-11-13 15:42:00\n",
       "20000259  138493  69526     4.5  2009-12-03 18:31:48\n",
       "20000260  138493  69644     3.0  2009-12-07 18:10:57\n",
       "20000261  138493  70286     5.0  2009-11-13 15:42:24\n",
       "20000262  138493  71619     2.5  2009-10-17 20:25:36\n",
       "\n",
       "[20000263 rows x 4 columns]"
      ]
     },
     "execution_count": 4,
     "metadata": {},
     "output_type": "execute_result"
    }
   ],
   "source": [
    "rating_df.columns = ['u_id', 'i_id', 'rating', 'timestamps']\n",
    "movies_df.columns = ['i_id', 'title', 'genres']\n",
    "rating_df"
   ]
  },
  {
   "cell_type": "code",
   "execution_count": 5,
   "id": "839ec3c5-58ef-45cd-b7f4-cdd06a4d84fa",
   "metadata": {},
   "outputs": [],
   "source": [
    "from sklearn.metrics import mean_squared_error, mean_absolute_error\n",
    "# movielens18.drop(columns = 'timestamp', inplace = True)\n",
    "\n",
    "with joblib.parallel_backend('dask'):\n",
    "  train = rating_df.sample(frac=0.8)\n",
    "  val = rating_df.drop(train.index.tolist()).sample(frac=0.5, random_state=8)\n",
    "  test = rating_df.drop(train.index.tolist()).drop(val.index.tolist())"
   ]
  },
  {
   "cell_type": "code",
   "execution_count": 6,
   "id": "80335450-b2f5-408b-bc66-0d137dcd3ab2",
   "metadata": {},
   "outputs": [
    {
     "name": "stdout",
     "output_type": "stream",
     "text": [
      "Preprocessing data...\n",
      "\n",
      "Preprocessing data...\n",
      "\n",
      "Epoch 1/20  | val_loss: 0.76 - val_rmse: 0.87 - val_mae: 0.67 - took 7.1 sec\n",
      "Epoch 2/20  | val_loss: 0.74 - val_rmse: 0.86 - val_mae: 0.66 - took 6.4 sec\n",
      "Epoch 3/20  | val_loss: 0.71 - val_rmse: 0.84 - val_mae: 0.65 - took 6.3 sec\n",
      "Epoch 4/20  | val_loss: 0.69 - val_rmse: 0.83 - val_mae: 0.64 - took 6.1 sec\n",
      "Epoch 5/20  | val_loss: 0.67 - val_rmse: 0.82 - val_mae: 0.63 - took 6.3 sec\n",
      "Epoch 6/20  | val_loss: 0.66 - val_rmse: 0.81 - val_mae: 0.62 - took 6.4 sec\n",
      "Epoch 7/20  | val_loss: 0.65 - val_rmse: 0.80 - val_mae: 0.62 - took 6.2 sec\n",
      "Epoch 8/20  | "
     ]
    },
    {
     "name": "stderr",
     "output_type": "stream",
     "text": [
      "IOStream.flush timed out\n"
     ]
    },
    {
     "name": "stdout",
     "output_type": "stream",
     "text": [
      "val_loss: 0.64 - val_rmse: 0.80 - val_mae: 0.61 - took 6.5 sec\n",
      "Epoch 9/20  | val_loss: 0.63 - val_rmse: 0.79 - val_mae: 0.61 - took 6.3 sec\n",
      "Epoch 10/20 | val_loss: 0.63 - val_rmse: 0.79 - val_mae: 0.60 - took 6.2 sec\n",
      "Epoch 11/20 | val_loss: 0.62 - val_rmse: 0.79 - val_mae: 0.60 - took 6.2 sec\n",
      "Epoch 12/20 | val_loss: 0.62 - val_rmse: 0.79 - val_mae: 0.60 - took 6.0 sec\n",
      "Epoch 13/20 | val_loss: 0.61 - val_rmse: 0.78 - val_mae: 0.60 - took 6.0 sec\n",
      "Epoch 14/20 | "
     ]
    },
    {
     "name": "stderr",
     "output_type": "stream",
     "text": [
      "IOStream.flush timed out\n"
     ]
    },
    {
     "name": "stdout",
     "output_type": "stream",
     "text": [
      "val_loss: 0.61 - val_rmse: 0.78 - val_mae: 0.60 - took 6.0 sec\n",
      "Epoch 15/20 | val_loss: 0.61 - val_rmse: 0.78 - val_mae: 0.60 - took 6.0 sec\n",
      "Epoch 16/20 | val_loss: 0.61 - val_rmse: 0.78 - val_mae: 0.59 - took 5.9 sec\n",
      "Epoch 17/20 | val_loss: 0.61 - val_rmse: 0.78 - val_mae: 0.59 - took 6.0 sec\n",
      "Epoch 18/20 | val_loss: 0.61 - val_rmse: 0.78 - val_mae: 0.59 - took 6.5 sec\n",
      "Epoch 19/20 | val_loss: 0.60 - val_rmse: 0.78 - val_mae: 0.59 - took 6.5 sec\n",
      "Epoch 20/20 | "
     ]
    },
    {
     "name": "stderr",
     "output_type": "stream",
     "text": [
      "IOStream.flush timed out\n"
     ]
    },
    {
     "name": "stdout",
     "output_type": "stream",
     "text": [
      "val_loss: 0.60 - val_rmse: 0.78 - val_mae: 0.59 - took 6.5 sec\n",
      "\n",
      "Training took 2 min and 15 sec\n",
      "Test MAE:  0.59\n",
      "Test RMSE: 0.78\n",
      "90 factors, 0.01 lr, 0.03 reg\n"
     ]
    }
   ],
   "source": [
    "lr, reg, factors = (0.01, 0.03, 90)\n",
    "\n",
    "with joblib.parallel_backend('dask'):\n",
    "  svd = SVD(lr=lr, reg=reg, n_epochs=20, n_factors=factors,\n",
    "            min_rating=0.5, max_rating=5)\n",
    "  svd.fit(X=train, X_val=val)\n",
    "\n",
    "pred = svd.predict(test)\n",
    "mae = mean_absolute_error(test[\"rating\"], pred)\n",
    "rmse = np.sqrt(mean_squared_error(test[\"rating\"], pred))\n",
    "print(\"Test MAE:  {:.2f}\".format(mae))\n",
    "print(\"Test RMSE: {:.2f}\".format(rmse))\n",
    "print('{} factors, {} lr, {} reg'.format(factors, lr, reg))"
   ]
  },
  {
   "cell_type": "code",
   "execution_count": 7,
   "id": "08475570-f567-43f1-b4c6-1b375f4cbf74",
   "metadata": {},
   "outputs": [
    {
     "name": "stdout",
     "output_type": "stream",
     "text": [
      "User ratings:\n",
      "-----------------\n",
      "Rated 5 stars: ['Star Wars: Episode IV - A New Hope (1977)']\n",
      "Rated 5 stars: [\"Monty Python's Life of Brian (1979)\"]\n",
      "Rated 5 stars: ['Star Wars: Episode V - The Empire Strikes Back (1980)']\n",
      "Rated 5 stars: ['Star Wars: Episode VI - Return of the Jedi (1983)']\n",
      "Rated 5 stars: ['Star Wars: Episode I - The Phantom Menace (1999)']\n",
      "Rated 5 stars: [\"Harry Potter and the Sorcerer's Stone (a.k.a. Harry Potter and the Philosopher's Stone) (2001)\"]\n",
      "Rated 5 stars: ['Lord of the Rings: The Fellowship of the Ring, The (2001)']\n",
      "Rated 5 stars: ['Star Wars: Episode II - Attack of the Clones (2002)']\n"
     ]
    }
   ],
   "source": [
    "n_m = len(rating_df.i_id.unique())\n",
    "\n",
    "#  Initialize my ratings\n",
    "my_ratings = np.zeros(n_m)\n",
    "\n",
    "\n",
    "my_ratings[4993] = 5\n",
    "my_ratings[1080] = 5\n",
    "my_ratings[260] = 5\n",
    "my_ratings[4896] = 5\n",
    "my_ratings[1196] = 5\n",
    "my_ratings[1210] = 5\n",
    "my_ratings[2628] = 5\n",
    "my_ratings[5378] = 5\n",
    "\n",
    "print('User ratings:')\n",
    "print('-----------------')\n",
    "\n",
    "for i, val in enumerate(my_ratings):\n",
    "    if val > 0:\n",
    "        print('Rated %d stars: %s' % (val, movies_df.loc[movies_df.i_id==i].title.values))"
   ]
  },
  {
   "cell_type": "code",
   "execution_count": 8,
   "id": "dc2542dd-f44b-4b83-9b76-b10af71cbe83",
   "metadata": {},
   "outputs": [
    {
     "name": "stdout",
     "output_type": "stream",
     "text": [
      "Adding your recommendations!\n"
     ]
    }
   ],
   "source": [
    "\n",
    "print(\"Adding your recommendations!\")\n",
    "items_id = [item[0] for item in np.argwhere(my_ratings>0)]\n",
    "ratings_list = my_ratings[np.where(my_ratings>0)]\n",
    "user_id = np.asarray([0] * len(ratings_list))\n",
    "\n",
    "user_ratings = pd.DataFrame(list(zip(user_id, items_id, ratings_list)), columns=['u_id', 'i_id', 'rating'])\n",
    "\n"
   ]
  },
  {
   "cell_type": "code",
   "execution_count": 9,
   "id": "eab334c2-dad0-4bbc-8bc0-906421d7e8f0",
   "metadata": {},
   "outputs": [],
   "source": [
    "try:\n",
    "    rating_df = rating_df.drop(columns=['timestamps'])\n",
    "except:\n",
    "    pass\n",
    "data_with_user = rating_df.append(user_ratings, ignore_index=True)\n",
    "\n",
    "\n",
    "\n",
    "with joblib.parallel_backend('dask'):\n",
    "  train_user = data_with_user.sample(frac=0.8)\n",
    "  val_user = data_with_user.drop(train_user.index.tolist()).sample(frac=0.5, random_state=8)\n",
    "  test_user = data_with_user.drop(train_user.index.tolist()).drop(val_user.index.tolist())\n",
    "\n"
   ]
  },
  {
   "cell_type": "code",
   "execution_count": 10,
   "id": "53ba16f3-3e09-4845-9a37-5f49eeabde6e",
   "metadata": {},
   "outputs": [],
   "source": [
    "from itertools import product\n",
    "\n",
    "\n",
    "def funk_svd_predict(userID, data_with_user, movies_df):\n",
    "    userID = [userID]\n",
    "\n",
    "    # all_users = data_with_user.u_id.unique()\n",
    "    all_movies = data_with_user.i_id.unique()\n",
    "    recommendations = pd.DataFrame(list(product(userID, all_movies)), columns=['u_id', 'i_id'])\n",
    "\n",
    "    #Getting predictions for the selected userID\n",
    "    pred_train = svd.predict(recommendations)\n",
    "    recommendations['prediction'] = pred_train\n",
    "    recommendations.head(10)\n",
    "\n",
    "    sorted_user_predictions = recommendations.sort_values(by='prediction', ascending=False)\n",
    "\n",
    "    user_ratings = data_with_user[data_with_user.u_id == userID[0]]\n",
    "    user_ratings.columns = ['u_id',\t'i_id', 'rating']\n",
    "    # Recommend the highest predicted rating movies that the user hasn't seen yet.\n",
    "    recommendations = movies_df[~movies_df['i_id'].isin(user_ratings['i_id'])].\\\n",
    "        merge(pd.DataFrame(sorted_user_predictions).reset_index(drop=True), how = 'inner', left_on = 'i_id', right_on = 'i_id').\\\n",
    "        sort_values(by='prediction', ascending = False)#.drop(['i_id'],axis=1)\n",
    "\n",
    "    rated_df = movies_df[movies_df['i_id'].isin(user_ratings['i_id'])].\\\n",
    "        merge(pd.DataFrame(data_with_user).reset_index(drop=True), how = 'inner', left_on = 'i_id', right_on = 'i_id')\n",
    "    rated_df = rated_df.loc[rated_df.u_id==userID[0]].sort_values(by='rating', ascending = False)\n",
    "    \n",
    "    return recommendations, rated_df\n"
   ]
  },
  {
   "cell_type": "code",
   "execution_count": 23,
   "id": "ba7a979c-4451-4b19-a647-410c924c81ba",
   "metadata": {},
   "outputs": [
    {
     "name": "stderr",
     "output_type": "stream",
     "text": [
      "                                                                                \r"
     ]
    },
    {
     "data": {
      "text/html": [
       "<table border='1'>\n",
       "<tr><th>movieId</th><th>userId</th><th>rating</th><th>timestamp</th><th>title</th><th>genres</th></tr>\n",
       "<tr><td>4993</td><td>1</td><td>5.0</td><td>2005-04-02 23:31:22</td><td>Lord of the Rings...</td><td>Adventure|Fantasy</td></tr>\n",
       "<tr><td>5952</td><td>1</td><td>5.0</td><td>2005-04-02 23:30:19</td><td>Lord of the Rings...</td><td>Adventure|Fantasy</td></tr>\n",
       "<tr><td>7153</td><td>1</td><td>5.0</td><td>2005-04-02 23:30:33</td><td>Lord of the Rings...</td><td>Action|Adventure|...</td></tr>\n",
       "<tr><td>8507</td><td>1</td><td>5.0</td><td>2004-09-10 03:13:47</td><td>Freaks (1932)</td><td>Crime|Drama|Horror</td></tr>\n",
       "<tr><td>1198</td><td>1</td><td>4.5</td><td>2005-04-02 23:30:24</td><td>Raiders of the Lo...</td><td>Action|Adventure</td></tr>\n",
       "<tr><td>1196</td><td>1</td><td>4.5</td><td>2005-04-02 23:32:22</td><td>Star Wars: Episod...</td><td>Action|Adventure|...</td></tr>\n",
       "<tr><td>8636</td><td>1</td><td>4.5</td><td>2005-04-02 23:44:53</td><td>Spider-Man 2 (2004)</td><td>Action|Adventure|...</td></tr>\n",
       "<tr><td>296</td><td>1</td><td>4.0</td><td>2005-04-02 23:32:47</td><td>Pulp Fiction (1994)</td><td>Comedy|Crime|Dram...</td></tr>\n",
       "<tr><td>318</td><td>1</td><td>4.0</td><td>2005-04-02 23:33:18</td><td>Shawshank Redempt...</td><td>Crime|Drama</td></tr>\n",
       "<tr><td>541</td><td>1</td><td>4.0</td><td>2005-04-02 23:30:03</td><td>Blade Runner (1982)</td><td>Action|Sci-Fi|Thr...</td></tr>\n",
       "</table>\n"
      ],
      "text/plain": [
       "+-------+------+------+-------------------+--------------------+--------------------+\n",
       "|movieId|userId|rating|          timestamp|               title|              genres|\n",
       "+-------+------+------+-------------------+--------------------+--------------------+\n",
       "|   4993|     1|   5.0|2005-04-02 23:31:22|Lord of the Rings...|   Adventure|Fantasy|\n",
       "|   5952|     1|   5.0|2005-04-02 23:30:19|Lord of the Rings...|   Adventure|Fantasy|\n",
       "|   7153|     1|   5.0|2005-04-02 23:30:33|Lord of the Rings...|Action|Adventure|...|\n",
       "|   8507|     1|   5.0|2004-09-10 03:13:47|       Freaks (1932)|  Crime|Drama|Horror|\n",
       "|   1198|     1|   4.5|2005-04-02 23:30:24|Raiders of the Lo...|    Action|Adventure|\n",
       "|   1196|     1|   4.5|2005-04-02 23:32:22|Star Wars: Episod...|Action|Adventure|...|\n",
       "|   8636|     1|   4.5|2005-04-02 23:44:53| Spider-Man 2 (2004)|Action|Adventure|...|\n",
       "|    296|     1|   4.0|2005-04-02 23:32:47| Pulp Fiction (1994)|Comedy|Crime|Dram...|\n",
       "|    318|     1|   4.0|2005-04-02 23:33:18|Shawshank Redempt...|         Crime|Drama|\n",
       "|    541|     1|   4.0|2005-04-02 23:30:03| Blade Runner (1982)|Action|Sci-Fi|Thr...|\n",
       "+-------+------+------+-------------------+--------------------+--------------------+"
      ]
     },
     "execution_count": 23,
     "metadata": {},
     "output_type": "execute_result"
    }
   ],
   "source": [
    "ratings.join(movies, on='movieId').filter('userId = 1') \\\n",
    ".sort('rating', ascending=False).limit(10)"
   ]
  },
  {
   "cell_type": "code",
   "execution_count": 19,
   "id": "14676a29-496d-4481-b239-e0046d633021",
   "metadata": {},
   "outputs": [
    {
     "data": {
      "text/html": [
       "<div>\n",
       "<style scoped>\n",
       "    .dataframe tbody tr th:only-of-type {\n",
       "        vertical-align: middle;\n",
       "    }\n",
       "\n",
       "    .dataframe tbody tr th {\n",
       "        vertical-align: top;\n",
       "    }\n",
       "\n",
       "    .dataframe thead th {\n",
       "        text-align: right;\n",
       "    }\n",
       "</style>\n",
       "<table border=\"1\" class=\"dataframe\">\n",
       "  <thead>\n",
       "    <tr style=\"text-align: right;\">\n",
       "      <th></th>\n",
       "      <th>i_id</th>\n",
       "      <th>title</th>\n",
       "      <th>genres</th>\n",
       "      <th>u_id</th>\n",
       "      <th>prediction</th>\n",
       "    </tr>\n",
       "  </thead>\n",
       "  <tbody>\n",
       "    <tr>\n",
       "      <th>20471</th>\n",
       "      <td>100553</td>\n",
       "      <td>Frozen Planet (2011)</td>\n",
       "      <td>Documentary</td>\n",
       "      <td>0</td>\n",
       "      <td>4.490969</td>\n",
       "    </tr>\n",
       "    <tr>\n",
       "      <th>315</th>\n",
       "      <td>318</td>\n",
       "      <td>Shawshank Redemption, The (1994)</td>\n",
       "      <td>Crime|Drama</td>\n",
       "      <td>0</td>\n",
       "      <td>4.404353</td>\n",
       "    </tr>\n",
       "    <tr>\n",
       "      <th>23694</th>\n",
       "      <td>113315</td>\n",
       "      <td>Zero Motivation (Efes beyahasei enosh) (2014)</td>\n",
       "      <td>Comedy|Drama</td>\n",
       "      <td>0</td>\n",
       "      <td>4.363161</td>\n",
       "    </tr>\n",
       "    <tr>\n",
       "      <th>17571</th>\n",
       "      <td>88570</td>\n",
       "      <td>Welfare (1975)</td>\n",
       "      <td>Documentary</td>\n",
       "      <td>0</td>\n",
       "      <td>4.325765</td>\n",
       "    </tr>\n",
       "    <tr>\n",
       "      <th>8525</th>\n",
       "      <td>25975</td>\n",
       "      <td>Life of Oharu, The (Saikaku ichidai onna) (1952)</td>\n",
       "      <td>Drama</td>\n",
       "      <td>0</td>\n",
       "      <td>4.306362</td>\n",
       "    </tr>\n",
       "    <tr>\n",
       "      <th>20852</th>\n",
       "      <td>102217</td>\n",
       "      <td>Bill Hicks: Revelations (1993)</td>\n",
       "      <td>Comedy</td>\n",
       "      <td>0</td>\n",
       "      <td>4.301948</td>\n",
       "    </tr>\n",
       "    <tr>\n",
       "      <th>20747</th>\n",
       "      <td>101850</td>\n",
       "      <td>Death on the Staircase (Soupçons) (2004)</td>\n",
       "      <td>Crime|Documentary</td>\n",
       "      <td>0</td>\n",
       "      <td>4.278176</td>\n",
       "    </tr>\n",
       "    <tr>\n",
       "      <th>19180</th>\n",
       "      <td>95604</td>\n",
       "      <td>The War (2007)</td>\n",
       "      <td>Documentary|War</td>\n",
       "      <td>0</td>\n",
       "      <td>4.269997</td>\n",
       "    </tr>\n",
       "    <tr>\n",
       "      <th>16793</th>\n",
       "      <td>85012</td>\n",
       "      <td>Given Word, The (O Pagador de Promessas) (1962)</td>\n",
       "      <td>Drama</td>\n",
       "      <td>0</td>\n",
       "      <td>4.261922</td>\n",
       "    </tr>\n",
       "    <tr>\n",
       "      <th>49</th>\n",
       "      <td>50</td>\n",
       "      <td>Usual Suspects, The (1995)</td>\n",
       "      <td>Crime|Mystery|Thriller</td>\n",
       "      <td>0</td>\n",
       "      <td>4.259476</td>\n",
       "    </tr>\n",
       "  </tbody>\n",
       "</table>\n",
       "</div>"
      ],
      "text/plain": [
       "         i_id                                             title  \\\n",
       "20471  100553                              Frozen Planet (2011)   \n",
       "315       318                  Shawshank Redemption, The (1994)   \n",
       "23694  113315     Zero Motivation (Efes beyahasei enosh) (2014)   \n",
       "17571   88570                                    Welfare (1975)   \n",
       "8525    25975  Life of Oharu, The (Saikaku ichidai onna) (1952)   \n",
       "20852  102217                    Bill Hicks: Revelations (1993)   \n",
       "20747  101850          Death on the Staircase (Soupçons) (2004)   \n",
       "19180   95604                                    The War (2007)   \n",
       "16793   85012   Given Word, The (O Pagador de Promessas) (1962)   \n",
       "49         50                        Usual Suspects, The (1995)   \n",
       "\n",
       "                       genres  u_id  prediction  \n",
       "20471             Documentary     0    4.490969  \n",
       "315               Crime|Drama     0    4.404353  \n",
       "23694            Comedy|Drama     0    4.363161  \n",
       "17571             Documentary     0    4.325765  \n",
       "8525                    Drama     0    4.306362  \n",
       "20852                  Comedy     0    4.301948  \n",
       "20747       Crime|Documentary     0    4.278176  \n",
       "19180         Documentary|War     0    4.269997  \n",
       "16793                   Drama     0    4.261922  \n",
       "49     Crime|Mystery|Thriller     0    4.259476  "
      ]
     },
     "execution_count": 19,
     "metadata": {},
     "output_type": "execute_result"
    }
   ],
   "source": [
    "## Recommend for user 1\n",
    "recommendations, rated_df = funk_svd_predict(0, rating_df, movies_df)\n",
    "recommendations.head(10)"
   ]
  },
  {
   "cell_type": "code",
   "execution_count": null,
   "id": "994610db-eeff-42ba-867a-d6b6eadb0cf0",
   "metadata": {},
   "outputs": [],
   "source": []
  }
 ],
 "metadata": {
  "kernelspec": {
   "display_name": "Python 3",
   "language": "python",
   "name": "python3"
  },
  "language_info": {
   "codemirror_mode": {
    "name": "ipython",
    "version": 3
   },
   "file_extension": ".py",
   "mimetype": "text/x-python",
   "name": "python",
   "nbconvert_exporter": "python",
   "pygments_lexer": "ipython3",
   "version": "3.9.5"
  }
 },
 "nbformat": 4,
 "nbformat_minor": 5
}
